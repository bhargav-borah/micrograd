{
  "cells": [
    {
      "cell_type": "code",
      "execution_count": 96,
      "metadata": {
        "id": "STAwAiG5EZeS"
      },
      "outputs": [],
      "source": [
        "import numpy as np\n",
        "import math\n",
        "import matplotlib.pyplot as plt\n",
        "%matplotlib inline"
      ]
    },
    {
      "cell_type": "code",
      "execution_count": 97,
      "metadata": {
        "id": "yKzY5TdKGon9"
      },
      "outputs": [],
      "source": [
        "def f(x):\n",
        "  return 3*x**2 - 4*x + 5"
      ]
    },
    {
      "cell_type": "code",
      "execution_count": 98,
      "metadata": {
        "colab": {
          "base_uri": "https://localhost:8080/"
        },
        "id": "p7ruINk7Gsbe",
        "outputId": "1789aa39-86e1-4bd5-f5fe-9f87ef077a7c"
      },
      "outputs": [
        {
          "output_type": "execute_result",
          "data": {
            "text/plain": [
              "5"
            ]
          },
          "metadata": {},
          "execution_count": 98
        }
      ],
      "source": [
        "f(0)"
      ]
    },
    {
      "cell_type": "code",
      "execution_count": 99,
      "metadata": {
        "colab": {
          "base_uri": "https://localhost:8080/"
        },
        "id": "7NJnZECUGtT-",
        "outputId": "22e039de-9246-448a-9527-6534fb35f889"
      },
      "outputs": [
        {
          "output_type": "execute_result",
          "data": {
            "text/plain": [
              "7.0717967697244895"
            ]
          },
          "metadata": {},
          "execution_count": 99
        }
      ],
      "source": [
        "f(math.sqrt(3))"
      ]
    },
    {
      "cell_type": "code",
      "execution_count": 100,
      "metadata": {
        "colab": {
          "base_uri": "https://localhost:8080/"
        },
        "id": "sk_tIAufGyP3",
        "outputId": "aa9daf46-21d7-43cf-f50f-5dd378c88c2b"
      },
      "outputs": [
        {
          "output_type": "execute_result",
          "data": {
            "text/plain": [
              "array([100.    ,  91.6875,  83.75  ,  76.1875,  69.    ,  62.1875,\n",
              "        55.75  ,  49.6875,  44.    ,  38.6875,  33.75  ,  29.1875,\n",
              "        25.    ,  21.1875,  17.75  ,  14.6875,  12.    ,   9.6875,\n",
              "         7.75  ,   6.1875,   5.    ,   4.1875,   3.75  ,   3.6875,\n",
              "         4.    ,   4.6875,   5.75  ,   7.1875,   9.    ,  11.1875,\n",
              "        13.75  ,  16.6875,  20.    ,  23.6875,  27.75  ,  32.1875,\n",
              "        37.    ,  42.1875,  47.75  ,  53.6875])"
            ]
          },
          "metadata": {},
          "execution_count": 100
        }
      ],
      "source": [
        "xs = np.arange(-5, 5, 0.25)\n",
        "ys = f(xs)\n",
        "ys"
      ]
    },
    {
      "cell_type": "code",
      "execution_count": 101,
      "metadata": {
        "colab": {
          "base_uri": "https://localhost:8080/",
          "height": 430
        },
        "id": "ILh-t-IlG-2D",
        "outputId": "c4bb5c4a-9ec5-4c72-e7c5-f9a9ffb332ef"
      },
      "outputs": [
        {
          "output_type": "display_data",
          "data": {
            "text/plain": [
              "<Figure size 640x480 with 1 Axes>"
            ],
            "image/png": "[encoded data removed]"
          },
          "metadata": {}
        }
      ],
      "source": [
        "plt.plot(xs, ys)\n",
        "plt.show()"
      ]
    },
    {
      "cell_type": "code",
      "execution_count": 102,
      "metadata": {
        "colab": {
          "base_uri": "https://localhost:8080/"
        },
        "id": "aGhc64fBHBg_",
        "outputId": "270ebac0-ec1d-4dd9-d620-fe00aa8bd8b4"
      },
      "outputs": [
        {
          "output_type": "execute_result",
          "data": {
            "text/plain": [
              "14.00300000000243"
            ]
          },
          "metadata": {},
          "execution_count": 102
        }
      ],
      "source": [
        "h = 0.001\n",
        "x = 3.0\n",
        "(f(x + h) - f(x)) / h"
      ]
    },
    {
      "cell_type": "code",
      "execution_count": 103,
      "metadata": {
        "colab": {
          "base_uri": "https://localhost:8080/"
        },
        "id": "CXg_aDRRHoMN",
        "outputId": "2d355a22-dd03-4715-e42a-661bc526b3ee"
      },
      "outputs": [
        {
          "output_type": "execute_result",
          "data": {
            "text/plain": [
              "14.000003002223593"
            ]
          },
          "metadata": {},
          "execution_count": 103
        }
      ],
      "source": [
        "h = 1e-6\n",
        "x = 3.0\n",
        "(f(x + h) - f(x)) / h"
      ]
    },
    {
      "cell_type": "code",
      "execution_count": 104,
      "metadata": {
        "colab": {
          "base_uri": "https://localhost:8080/"
        },
        "id": "ONvJEl-XH6OC",
        "outputId": "0772e27a-841c-480b-b510-dab352b7ea78"
      },
      "outputs": [
        {
          "output_type": "execute_result",
          "data": {
            "text/plain": [
              "-21.999997002808414"
            ]
          },
          "metadata": {},
          "execution_count": 104
        }
      ],
      "source": [
        "h = 1e-6\n",
        "x = -3.0\n",
        "(f(x + h) - f(x)) / h"
      ]
    },
    {
      "cell_type": "code",
      "execution_count": 105,
      "metadata": {
        "colab": {
          "base_uri": "https://localhost:8080/"
        },
        "id": "fRg12hegILKK",
        "outputId": "361bc58e-44f7-4e39-f464-9efcaabc108f"
      },
      "outputs": [
        {
          "output_type": "execute_result",
          "data": {
            "text/plain": [
              "2.999378523327323e-06"
            ]
          },
          "metadata": {},
          "execution_count": 105
        }
      ],
      "source": [
        "h = 1e-6\n",
        "x = 2 / 3\n",
        "(f(x + h) - f(x)) / h"
      ]
    },
    {
      "cell_type": "code",
      "execution_count": 106,
      "metadata": {
        "colab": {
          "base_uri": "https://localhost:8080/"
        },
        "id": "i2QMUAPyIV6U",
        "outputId": "efcef138-1a4e-4370-e081-78da3acdebbb"
      },
      "outputs": [
        {
          "output_type": "stream",
          "name": "stdout",
          "text": [
            "4.0\n"
          ]
        }
      ],
      "source": [
        "a = 2.0\n",
        "b = -3.0\n",
        "c = 10.0\n",
        "d = a * b + c\n",
        "print(d)"
      ]
    },
    {
      "cell_type": "code",
      "execution_count": 107,
      "metadata": {
        "colab": {
          "base_uri": "https://localhost:8080/"
        },
        "id": "jf6-CoVUIg9R",
        "outputId": "3552b619-6277-43e4-d599-f1b617977c88"
      },
      "outputs": [
        {
          "output_type": "stream",
          "name": "stdout",
          "text": [
            "d1:  4.0\n",
            "d2:  3.9999969999999996\n",
            "slope:  -3.000000000419334\n"
          ]
        }
      ],
      "source": [
        "h=1e-6\n",
        "\n",
        "# inputs\n",
        "a = 2.0\n",
        "b = -3.0\n",
        "c = 10.0\n",
        "\n",
        "d1 = a * b + c\n",
        "a += h\n",
        "d2 = a * b + c\n",
        "\n",
        "print('d1: ', d1)\n",
        "print('d2: ', d2)\n",
        "print('slope: ', (d2 - d1) / h)"
      ]
    },
    {
      "cell_type": "code",
      "execution_count": 108,
      "metadata": {
        "colab": {
          "base_uri": "https://localhost:8080/"
        },
        "id": "-TP4NhN7I8Bn",
        "outputId": "97e5b16a-3b23-466c-aa3d-7a274596b5d3"
      },
      "outputs": [
        {
          "output_type": "stream",
          "name": "stdout",
          "text": [
            "d1:  4.0\n",
            "d2:  4.000002\n",
            "slope:  2.000000000279556\n"
          ]
        }
      ],
      "source": [
        "h=1e-6\n",
        "\n",
        "# inputs\n",
        "a = 2.0\n",
        "b = -3.0\n",
        "c = 10.0\n",
        "\n",
        "d1 = a * b + c\n",
        "b += h\n",
        "d2 = a * b + c\n",
        "\n",
        "print('d1: ', d1)\n",
        "print('d2: ', d2)\n",
        "print('slope: ', (d2 - d1) / h)"
      ]
    },
    {
      "cell_type": "code",
      "execution_count": 109,
      "metadata": {
        "colab": {
          "base_uri": "https://localhost:8080/"
        },
        "id": "dq53Ar8cJcPG",
        "outputId": "8d35521d-85d8-4d9f-b45e-8fdf29f2850b"
      },
      "outputs": [
        {
          "output_type": "stream",
          "name": "stdout",
          "text": [
            "d1:  4.0\n",
            "d2:  4.000000999999999\n",
            "slope:  0.9999999992515995\n"
          ]
        }
      ],
      "source": [
        "h=1e-6\n",
        "\n",
        "# inputs\n",
        "a = 2.0\n",
        "b = -3.0\n",
        "c = 10.0\n",
        "\n",
        "d1 = a * b + c\n",
        "c += h\n",
        "d2 = a * b + c\n",
        "\n",
        "print('d1: ', d1)\n",
        "print('d2: ', d2)\n",
        "print('slope: ', (d2 - d1) / h)"
      ]
    },
    {
      "cell_type": "code",
      "execution_count": 110,
      "metadata": {
        "id": "obbLDTWIJrh7"
      },
      "outputs": [],
      "source": [
        "class Value:\n",
        "\n",
        "  def __init__(self, data, _children=(), _op='', label=''):\n",
        "    self.data = data\n",
        "    self.grad = 0\n",
        "    self._prev = set(_children)\n",
        "    self._op = _op\n",
        "    self.label = label\n",
        "\n",
        "  def __repr__(self):\n",
        "    return f\"Value(data={self.data})\"\n",
        "\n",
        "  def __add__(self, other):\n",
        "    output = Value(self.data + other.data, (self, other), '+')\n",
        "    return output\n",
        "\n",
        "  def __mul__(self, other):\n",
        "    output = Value(self.data * other.data, (self, other), '*')\n",
        "    return output"
      ]
    },
    {
      "cell_type": "code",
      "execution_count": 111,
      "metadata": {
        "colab": {
          "base_uri": "https://localhost:8080/"
        },
        "id": "1ikdIdOYMSpJ",
        "outputId": "c5de011e-2330-459b-a500-4348596018a9"
      },
      "outputs": [
        {
          "output_type": "execute_result",
          "data": {
            "text/plain": [
              "Value(data=2.0)"
            ]
          },
          "metadata": {},
          "execution_count": 111
        }
      ],
      "source": [
        "a = Value(2.0, label='a')\n",
        "a"
      ]
    },
    {
      "cell_type": "code",
      "execution_count": 112,
      "metadata": {
        "colab": {
          "base_uri": "https://localhost:8080/"
        },
        "id": "mhV5e5h9MVOZ",
        "outputId": "fc65823c-5b36-458f-87d6-7490e9621287"
      },
      "outputs": [
        {
          "output_type": "execute_result",
          "data": {
            "text/plain": [
              "Value(data=3.0)"
            ]
          },
          "metadata": {},
          "execution_count": 112
        }
      ],
      "source": [
        "b = Value(3.0, label='b')\n",
        "b"
      ]
    },
    {
      "cell_type": "code",
      "execution_count": 113,
      "metadata": {
        "colab": {
          "base_uri": "https://localhost:8080/"
        },
        "id": "VtlSdmBLMb27",
        "outputId": "e2c7864c-d72f-47e6-80fe-5c7cb51b7d47"
      },
      "outputs": [
        {
          "output_type": "execute_result",
          "data": {
            "text/plain": [
              "Value(data=5.0)"
            ]
          },
          "metadata": {},
          "execution_count": 113
        }
      ],
      "source": [
        "a + b"
      ]
    },
    {
      "cell_type": "code",
      "execution_count": 114,
      "metadata": {
        "colab": {
          "base_uri": "https://localhost:8080/"
        },
        "id": "bPxdr0LeMrqM",
        "outputId": "9a3ba083-35c0-4ccd-85bc-2661973c830b"
      },
      "outputs": [
        {
          "output_type": "execute_result",
          "data": {
            "text/plain": [
              "Value(data=6.0)"
            ]
          },
          "metadata": {},
          "execution_count": 114
        }
      ],
      "source": [
        "a * b"
      ]
    },
    {
      "cell_type": "code",
      "execution_count": 115,
      "metadata": {
        "id": "yW8ZtsP8NGU6"
      },
      "outputs": [],
      "source": [
        "c = Value(7.0, label='c')\n",
        "d = a * b + c; d.label = 'd'"
      ]
    },
    {
      "cell_type": "code",
      "execution_count": 116,
      "metadata": {
        "colab": {
          "base_uri": "https://localhost:8080/"
        },
        "id": "z5k-lL-VNiH6",
        "outputId": "c476621d-f755-4f06-f619-faa5d6753428"
      },
      "outputs": [
        {
          "output_type": "execute_result",
          "data": {
            "text/plain": [
              "{Value(data=6.0), Value(data=7.0)}"
            ]
          },
          "metadata": {},
          "execution_count": 116
        }
      ],
      "source": [
        "d._prev"
      ]
    },
    {
      "cell_type": "code",
      "execution_count": 117,
      "metadata": {
        "colab": {
          "base_uri": "https://localhost:8080/",
          "height": 36
        },
        "id": "GsR-ef_oOH2R",
        "outputId": "fa4fa651-0edb-46cc-c6c6-cd61dac06dbe"
      },
      "outputs": [
        {
          "output_type": "execute_result",
          "data": {
            "text/plain": [
              "'+'"
            ],
            "application/vnd.google.colaboratory.intrinsic+json": {
              "type": "string"
            }
          },
          "metadata": {},
          "execution_count": 117
        }
      ],
      "source": [
        "d._op"
      ]
    },
    {
      "cell_type": "code",
      "execution_count": 118,
      "metadata": {
        "id": "5hgC_61ROcVl"
      },
      "outputs": [],
      "source": [
        "from graphviz import Digraph\n",
        "\n",
        "def trace(root):\n",
        "  # builds a set of all nodes and edges in a graph\n",
        "  nodes, edges = set(), set()\n",
        "  def build(v):\n",
        "    if v not in nodes:\n",
        "      nodes.add(v)\n",
        "      for child in v._prev:\n",
        "        edges.add((child, v))\n",
        "        build(child)\n",
        "  build(root)\n",
        "  return nodes, edges\n",
        "\n",
        "def draw_dot(root):\n",
        "  dot = Digraph(format='svg', graph_attr={'rankdir': 'LR'}) # LR = left to right\n",
        "\n",
        "  nodes, edges = trace(root)\n",
        "  for n in nodes:\n",
        "    uid = str(id(n))\n",
        "    # for any value in the graph, create a rectangular ('record') node for it\n",
        "    dot.node(name = uid, label = \"{ %s | data %.4f | grad %.4f }\" % (n.label, n.data, n.grad), shape='record')\n",
        "    if n._op:\n",
        "      # if this value is a result of some operation, create an op node for it\n",
        "      dot.node(name = uid + n._op, label = n._op)\n",
        "      # and connect this node to it\n",
        "      dot.edge(uid + n._op, uid)\n",
        "\n",
        "  for n1, n2 in edges:\n",
        "    # connect n1 to the op node of n2\n",
        "    dot.edge(str(id(n1)), str(id(n2)) + n2._op)\n",
        "\n",
        "  return dot"
      ]
    },
    {
      "cell_type": "code",
      "execution_count": 119,
      "metadata": {
        "colab": {
          "base_uri": "https://localhost:8080/",
          "height": 190
        },
        "id": "FF4hF1kQPN-o",
        "outputId": "b9879adc-3d67-42ab-f48d-c9177b469f21"
      },
      "outputs": [
        {
          "output_type": "execute_result",
          "data": {
            "image/svg+xml": "<?xml version=\"1.0\" encoding=\"UTF-8\" standalone=\"no\"?>\n<!DOCTYPE svg PUBLIC \"-//W3C//DTD SVG 1.1//EN\"\n \"http://www.w3.org/Graphics/SVG/1.1/DTD/svg11.dtd\">\n<!-- Generated by graphviz version 2.43.0 (0)\n -->\n<!-- Title: %3 Pages: 1 -->\n<svg width=\"822pt\" height=\"127pt\"\n viewBox=\"0.00 0.00 822.00 127.00\" xmlns=\"http://www.w3.org/2000/svg\" xmlns:xlink=\"http://www.w3.org/1999/xlink\">\n<g id=\"graph0\" class=\"graph\" transform=\"scale(1 1) rotate(0) translate(4 123)\">\n<title>%3</title>\n<polygon fill=\"white\" stroke=\"transparent\" points=\"-4,4 -4,-123 818,-123 818,4 -4,4\"/>\n<!-- 136890117077024 -->\n<g id=\"node1\" class=\"node\">\n<title>136890117077024</title>\n<polygon fill=\"none\" stroke=\"black\" points=\"312.5,-27.5 312.5,-63.5 494.5,-63.5 494.5,-27.5 312.5,-27.5\"/>\n<text text-anchor=\"middle\" x=\"322.5\" y=\"-41.8\" font-family=\"Times,serif\" font-size=\"14.00\"> </text>\n<polyline fill=\"none\" stroke=\"black\" points=\"332.5,-27.5 332.5,-63.5 \"/>\n<text text-anchor=\"middle\" x=\"372.5\" y=\"-41.8\" font-family=\"Times,serif\" font-size=\"14.00\">data 6.0000</text>\n<polyline fill=\"none\" stroke=\"black\" points=\"412.5,-27.5 412.5,-63.5 \"/>\n<text text-anchor=\"middle\" x=\"453.5\" y=\"-41.8\" font-family=\"Times,serif\" font-size=\"14.00\">grad 0.0000</text>\n</g>\n<!-- 136890117072464+ -->\n<g id=\"node5\" class=\"node\">\n<title>136890117072464+</title>\n<ellipse fill=\"none\" stroke=\"black\" cx=\"559\" cy=\"-72.5\" rx=\"27\" ry=\"18\"/>\n<text text-anchor=\"middle\" x=\"559\" y=\"-68.8\" font-family=\"Times,serif\" font-size=\"14.00\">+</text>\n</g>\n<!-- 136890117077024&#45;&gt;136890117072464+ -->\n<g id=\"edge4\" class=\"edge\">\n<title>136890117077024&#45;&gt;136890117072464+</title>\n<path fill=\"none\" stroke=\"black\" d=\"M494.68,-61.36C504.61,-63.11 514.23,-64.8 522.84,-66.32\"/>\n<polygon fill=\"black\" stroke=\"black\" points=\"522.36,-69.78 532.81,-68.07 523.57,-62.89 522.36,-69.78\"/>\n</g>\n<!-- 136890117077024* -->\n<g id=\"node2\" class=\"node\">\n<title>136890117077024*</title>\n<ellipse fill=\"none\" stroke=\"black\" cx=\"248\" cy=\"-45.5\" rx=\"27\" ry=\"18\"/>\n<text text-anchor=\"middle\" x=\"248\" y=\"-41.8\" font-family=\"Times,serif\" font-size=\"14.00\">*</text>\n</g>\n<!-- 136890117077024*&#45;&gt;136890117077024 -->\n<g id=\"edge1\" class=\"edge\">\n<title>136890117077024*&#45;&gt;136890117077024</title>\n<path fill=\"none\" stroke=\"black\" d=\"M275.04,-45.5C283.06,-45.5 292.41,-45.5 302.35,-45.5\"/>\n<polygon fill=\"black\" stroke=\"black\" points=\"302.45,-49 312.45,-45.5 302.45,-42 302.45,-49\"/>\n</g>\n<!-- 136890117078608 -->\n<g id=\"node3\" class=\"node\">\n<title>136890117078608</title>\n<polygon fill=\"none\" stroke=\"black\" points=\"0,-55.5 0,-91.5 185,-91.5 185,-55.5 0,-55.5\"/>\n<text text-anchor=\"middle\" x=\"11.5\" y=\"-69.8\" font-family=\"Times,serif\" font-size=\"14.00\">a</text>\n<polyline fill=\"none\" stroke=\"black\" points=\"23,-55.5 23,-91.5 \"/>\n<text text-anchor=\"middle\" x=\"63\" y=\"-69.8\" font-family=\"Times,serif\" font-size=\"14.00\">data 2.0000</text>\n<polyline fill=\"none\" stroke=\"black\" points=\"103,-55.5 103,-91.5 \"/>\n<text text-anchor=\"middle\" x=\"144\" y=\"-69.8\" font-family=\"Times,serif\" font-size=\"14.00\">grad 0.0000</text>\n</g>\n<!-- 136890117078608&#45;&gt;136890117077024* -->\n<g id=\"edge5\" class=\"edge\">\n<title>136890117078608&#45;&gt;136890117077024*</title>\n<path fill=\"none\" stroke=\"black\" d=\"M185.01,-56.81C194.49,-55.08 203.66,-53.41 211.9,-51.9\"/>\n<polygon fill=\"black\" stroke=\"black\" points=\"212.6,-55.33 221.81,-50.09 211.35,-48.45 212.6,-55.33\"/>\n</g>\n<!-- 136890117072464 -->\n<g id=\"node4\" class=\"node\">\n<title>136890117072464</title>\n<polygon fill=\"none\" stroke=\"black\" points=\"622,-54.5 622,-90.5 814,-90.5 814,-54.5 622,-54.5\"/>\n<text text-anchor=\"middle\" x=\"633.5\" y=\"-68.8\" font-family=\"Times,serif\" font-size=\"14.00\">d</text>\n<polyline fill=\"none\" stroke=\"black\" points=\"645,-54.5 645,-90.5 \"/>\n<text text-anchor=\"middle\" x=\"688.5\" y=\"-68.8\" font-family=\"Times,serif\" font-size=\"14.00\">data 13.0000</text>\n<polyline fill=\"none\" stroke=\"black\" points=\"732,-54.5 732,-90.5 \"/>\n<text text-anchor=\"middle\" x=\"773\" y=\"-68.8\" font-family=\"Times,serif\" font-size=\"14.00\">grad 0.0000</text>\n</g>\n<!-- 136890117072464+&#45;&gt;136890117072464 -->\n<g id=\"edge2\" class=\"edge\">\n<title>136890117072464+&#45;&gt;136890117072464</title>\n<path fill=\"none\" stroke=\"black\" d=\"M586.28,-72.5C593.78,-72.5 602.44,-72.5 611.67,-72.5\"/>\n<polygon fill=\"black\" stroke=\"black\" points=\"611.87,-76 621.87,-72.5 611.87,-69 611.87,-76\"/>\n</g>\n<!-- 136890117076784 -->\n<g id=\"node6\" class=\"node\">\n<title>136890117076784</title>\n<polygon fill=\"none\" stroke=\"black\" points=\"0,-0.5 0,-36.5 185,-36.5 185,-0.5 0,-0.5\"/>\n<text text-anchor=\"middle\" x=\"11.5\" y=\"-14.8\" font-family=\"Times,serif\" font-size=\"14.00\">b</text>\n<polyline fill=\"none\" stroke=\"black\" points=\"23,-0.5 23,-36.5 \"/>\n<text text-anchor=\"middle\" x=\"63\" y=\"-14.8\" font-family=\"Times,serif\" font-size=\"14.00\">data 3.0000</text>\n<polyline fill=\"none\" stroke=\"black\" points=\"103,-0.5 103,-36.5 \"/>\n<text text-anchor=\"middle\" x=\"144\" y=\"-14.8\" font-family=\"Times,serif\" font-size=\"14.00\">grad 0.0000</text>\n</g>\n<!-- 136890117076784&#45;&gt;136890117077024* -->\n<g id=\"edge6\" class=\"edge\">\n<title>136890117076784&#45;&gt;136890117077024*</title>\n<path fill=\"none\" stroke=\"black\" d=\"M185.01,-34.6C194.49,-36.26 203.66,-37.88 211.9,-39.33\"/>\n<polygon fill=\"black\" stroke=\"black\" points=\"211.36,-42.78 221.81,-41.07 212.57,-35.89 211.36,-42.78\"/>\n</g>\n<!-- 136890117077936 -->\n<g id=\"node7\" class=\"node\">\n<title>136890117077936</title>\n<polygon fill=\"none\" stroke=\"black\" points=\"311,-82.5 311,-118.5 496,-118.5 496,-82.5 311,-82.5\"/>\n<text text-anchor=\"middle\" x=\"322.5\" y=\"-96.8\" font-family=\"Times,serif\" font-size=\"14.00\">c</text>\n<polyline fill=\"none\" stroke=\"black\" points=\"334,-82.5 334,-118.5 \"/>\n<text text-anchor=\"middle\" x=\"374\" y=\"-96.8\" font-family=\"Times,serif\" font-size=\"14.00\">data 7.0000</text>\n<polyline fill=\"none\" stroke=\"black\" points=\"414,-82.5 414,-118.5 \"/>\n<text text-anchor=\"middle\" x=\"455\" y=\"-96.8\" font-family=\"Times,serif\" font-size=\"14.00\">grad 0.0000</text>\n</g>\n<!-- 136890117077936&#45;&gt;136890117072464+ -->\n<g id=\"edge3\" class=\"edge\">\n<title>136890117077936&#45;&gt;136890117072464+</title>\n<path fill=\"none\" stroke=\"black\" d=\"M496.01,-83.81C505.49,-82.08 514.66,-80.41 522.9,-78.9\"/>\n<polygon fill=\"black\" stroke=\"black\" points=\"523.6,-82.33 532.81,-77.09 522.35,-75.45 523.6,-82.33\"/>\n</g>\n</g>\n</svg>\n",
            "text/plain": [
              "<graphviz.graphs.Digraph at 0x7c8036cd2590>"
            ]
          },
          "metadata": {},
          "execution_count": 119
        }
      ],
      "source": [
        "draw_dot(d)"
      ]
    },
    {
      "cell_type": "code",
      "execution_count": 120,
      "metadata": {
        "id": "P12u1yAoPUZk"
      },
      "outputs": [],
      "source": [
        "e = a * b; e.label = 'e'\n",
        "f = Value(-2.0, label='f')\n",
        "L = d * f; L.label = 'L'"
      ]
    },
    {
      "cell_type": "code",
      "execution_count": 121,
      "metadata": {
        "colab": {
          "base_uri": "https://localhost:8080/",
          "height": 249
        },
        "id": "Dt5gnUTKQj5V",
        "outputId": "f21a52d9-87ad-47e6-b23b-c08072a2987a"
      },
      "outputs": [
        {
          "output_type": "execute_result",
          "data": {
            "image/svg+xml": "<?xml version=\"1.0\" encoding=\"UTF-8\" standalone=\"no\"?>\n<!DOCTYPE svg PUBLIC \"-//W3C//DTD SVG 1.1//EN\"\n \"http://www.w3.org/Graphics/SVG/1.1/DTD/svg11.dtd\">\n<!-- Generated by graphviz version 2.43.0 (0)\n -->\n<!-- Title: %3 Pages: 1 -->\n<svg width=\"1147pt\" height=\"156pt\"\n viewBox=\"0.00 0.00 1147.00 156.00\" xmlns=\"http://www.w3.org/2000/svg\" xmlns:xlink=\"http://www.w3.org/1999/xlink\">\n<g id=\"graph0\" class=\"graph\" transform=\"scale(1 1) rotate(0) translate(4 152)\">\n<title>%3</title>\n<polygon fill=\"white\" stroke=\"transparent\" points=\"-4,4 -4,-152 1143,-152 1143,4 -4,4\"/>\n<!-- 136890117078032 -->\n<g id=\"node1\" class=\"node\">\n<title>136890117078032</title>\n<polygon fill=\"none\" stroke=\"black\" points=\"940,-27.5 940,-63.5 1139,-63.5 1139,-27.5 940,-27.5\"/>\n<text text-anchor=\"middle\" x=\"952.5\" y=\"-41.8\" font-family=\"Times,serif\" font-size=\"14.00\">L</text>\n<polyline fill=\"none\" stroke=\"black\" points=\"965,-27.5 965,-63.5 \"/>\n<text text-anchor=\"middle\" x=\"1011\" y=\"-41.8\" font-family=\"Times,serif\" font-size=\"14.00\">data &#45;26.0000</text>\n<polyline fill=\"none\" stroke=\"black\" points=\"1057,-27.5 1057,-63.5 \"/>\n<text text-anchor=\"middle\" x=\"1098\" y=\"-41.8\" font-family=\"Times,serif\" font-size=\"14.00\">grad 0.0000</text>\n</g>\n<!-- 136890117078032* -->\n<g id=\"node2\" class=\"node\">\n<title>136890117078032*</title>\n<ellipse fill=\"none\" stroke=\"black\" cx=\"877\" cy=\"-45.5\" rx=\"27\" ry=\"18\"/>\n<text text-anchor=\"middle\" x=\"877\" y=\"-41.8\" font-family=\"Times,serif\" font-size=\"14.00\">*</text>\n</g>\n<!-- 136890117078032*&#45;&gt;136890117078032 -->\n<g id=\"edge1\" class=\"edge\">\n<title>136890117078032*&#45;&gt;136890117078032</title>\n<path fill=\"none\" stroke=\"black\" d=\"M904.14,-45.5C911.65,-45.5 920.33,-45.5 929.6,-45.5\"/>\n<polygon fill=\"black\" stroke=\"black\" points=\"929.86,-49 939.86,-45.5 929.86,-42 929.86,-49\"/>\n</g>\n<!-- 136890117077024 -->\n<g id=\"node3\" class=\"node\">\n<title>136890117077024</title>\n<polygon fill=\"none\" stroke=\"black\" points=\"312.5,-83.5 312.5,-119.5 494.5,-119.5 494.5,-83.5 312.5,-83.5\"/>\n<text text-anchor=\"middle\" x=\"322.5\" y=\"-97.8\" font-family=\"Times,serif\" font-size=\"14.00\"> </text>\n<polyline fill=\"none\" stroke=\"black\" points=\"332.5,-83.5 332.5,-119.5 \"/>\n<text text-anchor=\"middle\" x=\"372.5\" y=\"-97.8\" font-family=\"Times,serif\" font-size=\"14.00\">data 6.0000</text>\n<polyline fill=\"none\" stroke=\"black\" points=\"412.5,-83.5 412.5,-119.5 \"/>\n<text text-anchor=\"middle\" x=\"453.5\" y=\"-97.8\" font-family=\"Times,serif\" font-size=\"14.00\">grad 0.0000</text>\n</g>\n<!-- 136890117072464+ -->\n<g id=\"node6\" class=\"node\">\n<title>136890117072464+</title>\n<ellipse fill=\"none\" stroke=\"black\" cx=\"559\" cy=\"-73.5\" rx=\"27\" ry=\"18\"/>\n<text text-anchor=\"middle\" x=\"559\" y=\"-69.8\" font-family=\"Times,serif\" font-size=\"14.00\">+</text>\n</g>\n<!-- 136890117077024&#45;&gt;136890117072464+ -->\n<g id=\"edge8\" class=\"edge\">\n<title>136890117077024&#45;&gt;136890117072464+</title>\n<path fill=\"none\" stroke=\"black\" d=\"M494.68,-85.05C504.61,-83.24 514.23,-81.48 522.84,-79.91\"/>\n<polygon fill=\"black\" stroke=\"black\" points=\"523.6,-83.33 532.81,-78.09 522.35,-76.45 523.6,-83.33\"/>\n</g>\n<!-- 136890117077024* -->\n<g id=\"node4\" class=\"node\">\n<title>136890117077024*</title>\n<ellipse fill=\"none\" stroke=\"black\" cx=\"248\" cy=\"-101.5\" rx=\"27\" ry=\"18\"/>\n<text text-anchor=\"middle\" x=\"248\" y=\"-97.8\" font-family=\"Times,serif\" font-size=\"14.00\">*</text>\n</g>\n<!-- 136890117077024*&#45;&gt;136890117077024 -->\n<g id=\"edge2\" class=\"edge\">\n<title>136890117077024*&#45;&gt;136890117077024</title>\n<path fill=\"none\" stroke=\"black\" d=\"M275.04,-101.5C283.06,-101.5 292.41,-101.5 302.35,-101.5\"/>\n<polygon fill=\"black\" stroke=\"black\" points=\"302.45,-105 312.45,-101.5 302.45,-98 302.45,-105\"/>\n</g>\n<!-- 136890117072464 -->\n<g id=\"node5\" class=\"node\">\n<title>136890117072464</title>\n<polygon fill=\"none\" stroke=\"black\" points=\"622,-55.5 622,-91.5 814,-91.5 814,-55.5 622,-55.5\"/>\n<text text-anchor=\"middle\" x=\"633.5\" y=\"-69.8\" font-family=\"Times,serif\" font-size=\"14.00\">d</text>\n<polyline fill=\"none\" stroke=\"black\" points=\"645,-55.5 645,-91.5 \"/>\n<text text-anchor=\"middle\" x=\"688.5\" y=\"-69.8\" font-family=\"Times,serif\" font-size=\"14.00\">data 13.0000</text>\n<polyline fill=\"none\" stroke=\"black\" points=\"732,-55.5 732,-91.5 \"/>\n<text text-anchor=\"middle\" x=\"773\" y=\"-69.8\" font-family=\"Times,serif\" font-size=\"14.00\">grad 0.0000</text>\n</g>\n<!-- 136890117072464&#45;&gt;136890117078032* -->\n<g id=\"edge7\" class=\"edge\">\n<title>136890117072464&#45;&gt;136890117078032*</title>\n<path fill=\"none\" stroke=\"black\" d=\"M814.4,-56.49C823.69,-54.83 832.64,-53.23 840.71,-51.79\"/>\n<polygon fill=\"black\" stroke=\"black\" points=\"841.53,-55.2 850.76,-50 840.31,-48.31 841.53,-55.2\"/>\n</g>\n<!-- 136890117072464+&#45;&gt;136890117072464 -->\n<g id=\"edge3\" class=\"edge\">\n<title>136890117072464+&#45;&gt;136890117072464</title>\n<path fill=\"none\" stroke=\"black\" d=\"M586.28,-73.5C593.78,-73.5 602.44,-73.5 611.67,-73.5\"/>\n<polygon fill=\"black\" stroke=\"black\" points=\"611.87,-77 621.87,-73.5 611.87,-70 611.87,-77\"/>\n</g>\n<!-- 136890117078608 -->\n<g id=\"node7\" class=\"node\">\n<title>136890117078608</title>\n<polygon fill=\"none\" stroke=\"black\" points=\"0,-111.5 0,-147.5 185,-147.5 185,-111.5 0,-111.5\"/>\n<text text-anchor=\"middle\" x=\"11.5\" y=\"-125.8\" font-family=\"Times,serif\" font-size=\"14.00\">a</text>\n<polyline fill=\"none\" stroke=\"black\" points=\"23,-111.5 23,-147.5 \"/>\n<text text-anchor=\"middle\" x=\"63\" y=\"-125.8\" font-family=\"Times,serif\" font-size=\"14.00\">data 2.0000</text>\n<polyline fill=\"none\" stroke=\"black\" points=\"103,-111.5 103,-147.5 \"/>\n<text text-anchor=\"middle\" x=\"144\" y=\"-125.8\" font-family=\"Times,serif\" font-size=\"14.00\">grad 0.0000</text>\n</g>\n<!-- 136890117078608&#45;&gt;136890117077024* -->\n<g id=\"edge5\" class=\"edge\">\n<title>136890117078608&#45;&gt;136890117077024*</title>\n<path fill=\"none\" stroke=\"black\" d=\"M185.01,-112.81C194.49,-111.08 203.66,-109.41 211.9,-107.9\"/>\n<polygon fill=\"black\" stroke=\"black\" points=\"212.6,-111.33 221.81,-106.09 211.35,-104.45 212.6,-111.33\"/>\n</g>\n<!-- 136890117073088 -->\n<g id=\"node8\" class=\"node\">\n<title>136890117073088</title>\n<polygon fill=\"none\" stroke=\"black\" points=\"624,-0.5 624,-36.5 812,-36.5 812,-0.5 624,-0.5\"/>\n<text text-anchor=\"middle\" x=\"634.5\" y=\"-14.8\" font-family=\"Times,serif\" font-size=\"14.00\">f</text>\n<polyline fill=\"none\" stroke=\"black\" points=\"645,-0.5 645,-36.5 \"/>\n<text text-anchor=\"middle\" x=\"687.5\" y=\"-14.8\" font-family=\"Times,serif\" font-size=\"14.00\">data &#45;2.0000</text>\n<polyline fill=\"none\" stroke=\"black\" points=\"730,-0.5 730,-36.5 \"/>\n<text text-anchor=\"middle\" x=\"771\" y=\"-14.8\" font-family=\"Times,serif\" font-size=\"14.00\">grad 0.0000</text>\n</g>\n<!-- 136890117073088&#45;&gt;136890117078032* -->\n<g id=\"edge6\" class=\"edge\">\n<title>136890117073088&#45;&gt;136890117078032*</title>\n<path fill=\"none\" stroke=\"black\" d=\"M812.14,-34.52C822.19,-36.25 831.9,-37.92 840.59,-39.41\"/>\n<polygon fill=\"black\" stroke=\"black\" points=\"840.2,-42.89 850.64,-41.14 841.38,-36 840.2,-42.89\"/>\n</g>\n<!-- 136890117076784 -->\n<g id=\"node9\" class=\"node\">\n<title>136890117076784</title>\n<polygon fill=\"none\" stroke=\"black\" points=\"0,-56.5 0,-92.5 185,-92.5 185,-56.5 0,-56.5\"/>\n<text text-anchor=\"middle\" x=\"11.5\" y=\"-70.8\" font-family=\"Times,serif\" font-size=\"14.00\">b</text>\n<polyline fill=\"none\" stroke=\"black\" points=\"23,-56.5 23,-92.5 \"/>\n<text text-anchor=\"middle\" x=\"63\" y=\"-70.8\" font-family=\"Times,serif\" font-size=\"14.00\">data 3.0000</text>\n<polyline fill=\"none\" stroke=\"black\" points=\"103,-56.5 103,-92.5 \"/>\n<text text-anchor=\"middle\" x=\"144\" y=\"-70.8\" font-family=\"Times,serif\" font-size=\"14.00\">grad 0.0000</text>\n</g>\n<!-- 136890117076784&#45;&gt;136890117077024* -->\n<g id=\"edge9\" class=\"edge\">\n<title>136890117076784&#45;&gt;136890117077024*</title>\n<path fill=\"none\" stroke=\"black\" d=\"M185.01,-90.6C194.49,-92.26 203.66,-93.88 211.9,-95.33\"/>\n<polygon fill=\"black\" stroke=\"black\" points=\"211.36,-98.78 221.81,-97.07 212.57,-91.89 211.36,-98.78\"/>\n</g>\n<!-- 136890117077936 -->\n<g id=\"node10\" class=\"node\">\n<title>136890117077936</title>\n<polygon fill=\"none\" stroke=\"black\" points=\"311,-28.5 311,-64.5 496,-64.5 496,-28.5 311,-28.5\"/>\n<text text-anchor=\"middle\" x=\"322.5\" y=\"-42.8\" font-family=\"Times,serif\" font-size=\"14.00\">c</text>\n<polyline fill=\"none\" stroke=\"black\" points=\"334,-28.5 334,-64.5 \"/>\n<text text-anchor=\"middle\" x=\"374\" y=\"-42.8\" font-family=\"Times,serif\" font-size=\"14.00\">data 7.0000</text>\n<polyline fill=\"none\" stroke=\"black\" points=\"414,-28.5 414,-64.5 \"/>\n<text text-anchor=\"middle\" x=\"455\" y=\"-42.8\" font-family=\"Times,serif\" font-size=\"14.00\">grad 0.0000</text>\n</g>\n<!-- 136890117077936&#45;&gt;136890117072464+ -->\n<g id=\"edge4\" class=\"edge\">\n<title>136890117077936&#45;&gt;136890117072464+</title>\n<path fill=\"none\" stroke=\"black\" d=\"M496.01,-62.6C505.49,-64.26 514.66,-65.88 522.9,-67.33\"/>\n<polygon fill=\"black\" stroke=\"black\" points=\"522.36,-70.78 532.81,-69.07 523.57,-63.89 522.36,-70.78\"/>\n</g>\n</g>\n</svg>\n",
            "text/plain": [
              "<graphviz.graphs.Digraph at 0x7c8036cd1750>"
            ]
          },
          "metadata": {},
          "execution_count": 121
        }
      ],
      "source": [
        "draw_dot(L)"
      ]
    },
    {
      "cell_type": "code",
      "execution_count": 122,
      "metadata": {
        "id": "GLeDpTZyQlK8"
      },
      "outputs": [],
      "source": [
        "h = 0.001\n",
        "\n",
        "a = Value(2.0, label='a')\n",
        "b = Value(-3.0, label='b')\n",
        "c = Value(10.0, label='c')\n",
        "e = a * b; e.label = 'e'\n",
        "d = e + c; d.label = 'd'\n",
        "f = Value(-2.0, label='f')\n",
        "L = d * f; L.label = 'L'"
      ]
    },
    {
      "cell_type": "code",
      "source": [
        "draw_dot(L)"
      ],
      "metadata": {
        "colab": {
          "base_uri": "https://localhost:8080/",
          "height": 249
        },
        "id": "7gywQmMDoiwX",
        "outputId": "ec27c745-20ec-4325-a4a6-d13686a69f58"
      },
      "execution_count": 123,
      "outputs": [
        {
          "output_type": "execute_result",
          "data": {
            "image/svg+xml": "<?xml version=\"1.0\" encoding=\"UTF-8\" standalone=\"no\"?>\n<!DOCTYPE svg PUBLIC \"-//W3C//DTD SVG 1.1//EN\"\n \"http://www.w3.org/Graphics/SVG/1.1/DTD/svg11.dtd\">\n<!-- Generated by graphviz version 2.43.0 (0)\n -->\n<!-- Title: %3 Pages: 1 -->\n<svg width=\"1148pt\" height=\"156pt\"\n viewBox=\"0.00 0.00 1148.00 156.00\" xmlns=\"http://www.w3.org/2000/svg\" xmlns:xlink=\"http://www.w3.org/1999/xlink\">\n<g id=\"graph0\" class=\"graph\" transform=\"scale(1 1) rotate(0) translate(4 152)\">\n<title>%3</title>\n<polygon fill=\"white\" stroke=\"transparent\" points=\"-4,4 -4,-152 1144,-152 1144,4 -4,4\"/>\n<!-- 136890117078656 -->\n<g id=\"node1\" class=\"node\">\n<title>136890117078656</title>\n<polygon fill=\"none\" stroke=\"black\" points=\"948,-27.5 948,-63.5 1140,-63.5 1140,-27.5 948,-27.5\"/>\n<text text-anchor=\"middle\" x=\"960.5\" y=\"-41.8\" font-family=\"Times,serif\" font-size=\"14.00\">L</text>\n<polyline fill=\"none\" stroke=\"black\" points=\"973,-27.5 973,-63.5 \"/>\n<text text-anchor=\"middle\" x=\"1015.5\" y=\"-41.8\" font-family=\"Times,serif\" font-size=\"14.00\">data &#45;8.0000</text>\n<polyline fill=\"none\" stroke=\"black\" points=\"1058,-27.5 1058,-63.5 \"/>\n<text text-anchor=\"middle\" x=\"1099\" y=\"-41.8\" font-family=\"Times,serif\" font-size=\"14.00\">grad 0.0000</text>\n</g>\n<!-- 136890117078656* -->\n<g id=\"node2\" class=\"node\">\n<title>136890117078656*</title>\n<ellipse fill=\"none\" stroke=\"black\" cx=\"885\" cy=\"-45.5\" rx=\"27\" ry=\"18\"/>\n<text text-anchor=\"middle\" x=\"885\" y=\"-41.8\" font-family=\"Times,serif\" font-size=\"14.00\">*</text>\n</g>\n<!-- 136890117078656*&#45;&gt;136890117078656 -->\n<g id=\"edge1\" class=\"edge\">\n<title>136890117078656*&#45;&gt;136890117078656</title>\n<path fill=\"none\" stroke=\"black\" d=\"M912.28,-45.5C919.78,-45.5 928.44,-45.5 937.67,-45.5\"/>\n<polygon fill=\"black\" stroke=\"black\" points=\"937.87,-49 947.87,-45.5 937.87,-42 937.87,-49\"/>\n</g>\n<!-- 136890118024848 -->\n<g id=\"node3\" class=\"node\">\n<title>136890118024848</title>\n<polygon fill=\"none\" stroke=\"black\" points=\"2.5,-111.5 2.5,-147.5 187.5,-147.5 187.5,-111.5 2.5,-111.5\"/>\n<text text-anchor=\"middle\" x=\"14\" y=\"-125.8\" font-family=\"Times,serif\" font-size=\"14.00\">a</text>\n<polyline fill=\"none\" stroke=\"black\" points=\"25.5,-111.5 25.5,-147.5 \"/>\n<text text-anchor=\"middle\" x=\"65.5\" y=\"-125.8\" font-family=\"Times,serif\" font-size=\"14.00\">data 2.0000</text>\n<polyline fill=\"none\" stroke=\"black\" points=\"105.5,-111.5 105.5,-147.5 \"/>\n<text text-anchor=\"middle\" x=\"146.5\" y=\"-125.8\" font-family=\"Times,serif\" font-size=\"14.00\">grad 0.0000</text>\n</g>\n<!-- 136890117078416* -->\n<g id=\"node8\" class=\"node\">\n<title>136890117078416*</title>\n<ellipse fill=\"none\" stroke=\"black\" cx=\"253\" cy=\"-101.5\" rx=\"27\" ry=\"18\"/>\n<text text-anchor=\"middle\" x=\"253\" y=\"-97.8\" font-family=\"Times,serif\" font-size=\"14.00\">*</text>\n</g>\n<!-- 136890118024848&#45;&gt;136890117078416* -->\n<g id=\"edge6\" class=\"edge\">\n<title>136890118024848&#45;&gt;136890117078416*</title>\n<path fill=\"none\" stroke=\"black\" d=\"M187.65,-113.05C197.94,-111.2 207.91,-109.41 216.81,-107.82\"/>\n<polygon fill=\"black\" stroke=\"black\" points=\"217.48,-111.25 226.71,-106.04 216.25,-104.36 217.48,-111.25\"/>\n</g>\n<!-- 136890117078272 -->\n<g id=\"node4\" class=\"node\">\n<title>136890117078272</title>\n<polygon fill=\"none\" stroke=\"black\" points=\"635.5,-55.5 635.5,-91.5 820.5,-91.5 820.5,-55.5 635.5,-55.5\"/>\n<text text-anchor=\"middle\" x=\"647\" y=\"-69.8\" font-family=\"Times,serif\" font-size=\"14.00\">d</text>\n<polyline fill=\"none\" stroke=\"black\" points=\"658.5,-55.5 658.5,-91.5 \"/>\n<text text-anchor=\"middle\" x=\"698.5\" y=\"-69.8\" font-family=\"Times,serif\" font-size=\"14.00\">data 4.0000</text>\n<polyline fill=\"none\" stroke=\"black\" points=\"738.5,-55.5 738.5,-91.5 \"/>\n<text text-anchor=\"middle\" x=\"779.5\" y=\"-69.8\" font-family=\"Times,serif\" font-size=\"14.00\">grad 0.0000</text>\n</g>\n<!-- 136890117078272&#45;&gt;136890117078656* -->\n<g id=\"edge8\" class=\"edge\">\n<title>136890117078272&#45;&gt;136890117078656*</title>\n<path fill=\"none\" stroke=\"black\" d=\"M820.51,-56.97C830.48,-55.17 840.13,-53.42 848.77,-51.86\"/>\n<polygon fill=\"black\" stroke=\"black\" points=\"849.55,-55.28 858.77,-50.06 848.3,-48.39 849.55,-55.28\"/>\n</g>\n<!-- 136890117078272+ -->\n<g id=\"node5\" class=\"node\">\n<title>136890117078272+</title>\n<ellipse fill=\"none\" stroke=\"black\" cx=\"571\" cy=\"-73.5\" rx=\"27\" ry=\"18\"/>\n<text text-anchor=\"middle\" x=\"571\" y=\"-69.8\" font-family=\"Times,serif\" font-size=\"14.00\">+</text>\n</g>\n<!-- 136890117078272+&#45;&gt;136890117078272 -->\n<g id=\"edge2\" class=\"edge\">\n<title>136890117078272+&#45;&gt;136890117078272</title>\n<path fill=\"none\" stroke=\"black\" d=\"M598.29,-73.5C606.26,-73.5 615.54,-73.5 625.39,-73.5\"/>\n<polygon fill=\"black\" stroke=\"black\" points=\"625.41,-77 635.41,-73.5 625.41,-70 625.41,-77\"/>\n</g>\n<!-- 136890118021920 -->\n<g id=\"node6\" class=\"node\">\n<title>136890118021920</title>\n<polygon fill=\"none\" stroke=\"black\" points=\"0,-56.5 0,-92.5 190,-92.5 190,-56.5 0,-56.5\"/>\n<text text-anchor=\"middle\" x=\"11.5\" y=\"-70.8\" font-family=\"Times,serif\" font-size=\"14.00\">b</text>\n<polyline fill=\"none\" stroke=\"black\" points=\"23,-56.5 23,-92.5 \"/>\n<text text-anchor=\"middle\" x=\"65.5\" y=\"-70.8\" font-family=\"Times,serif\" font-size=\"14.00\">data &#45;3.0000</text>\n<polyline fill=\"none\" stroke=\"black\" points=\"108,-56.5 108,-92.5 \"/>\n<text text-anchor=\"middle\" x=\"149\" y=\"-70.8\" font-family=\"Times,serif\" font-size=\"14.00\">grad 0.0000</text>\n</g>\n<!-- 136890118021920&#45;&gt;136890117078416* -->\n<g id=\"edge7\" class=\"edge\">\n<title>136890118021920&#45;&gt;136890117078416*</title>\n<path fill=\"none\" stroke=\"black\" d=\"M190.34,-90.83C199.62,-92.44 208.58,-93.99 216.66,-95.38\"/>\n<polygon fill=\"black\" stroke=\"black\" points=\"216.27,-98.87 226.72,-97.12 217.46,-91.97 216.27,-98.87\"/>\n</g>\n<!-- 136890117078416 -->\n<g id=\"node7\" class=\"node\">\n<title>136890117078416</title>\n<polygon fill=\"none\" stroke=\"black\" points=\"317,-83.5 317,-119.5 507,-119.5 507,-83.5 317,-83.5\"/>\n<text text-anchor=\"middle\" x=\"328.5\" y=\"-97.8\" font-family=\"Times,serif\" font-size=\"14.00\">e</text>\n<polyline fill=\"none\" stroke=\"black\" points=\"340,-83.5 340,-119.5 \"/>\n<text text-anchor=\"middle\" x=\"382.5\" y=\"-97.8\" font-family=\"Times,serif\" font-size=\"14.00\">data &#45;6.0000</text>\n<polyline fill=\"none\" stroke=\"black\" points=\"425,-83.5 425,-119.5 \"/>\n<text text-anchor=\"middle\" x=\"466\" y=\"-97.8\" font-family=\"Times,serif\" font-size=\"14.00\">grad 0.0000</text>\n</g>\n<!-- 136890117078416&#45;&gt;136890117078272+ -->\n<g id=\"edge9\" class=\"edge\">\n<title>136890117078416&#45;&gt;136890117078272+</title>\n<path fill=\"none\" stroke=\"black\" d=\"M507.05,-84.73C516.89,-82.97 526.39,-81.28 534.9,-79.76\"/>\n<polygon fill=\"black\" stroke=\"black\" points=\"535.52,-83.2 544.75,-78 534.29,-76.31 535.52,-83.2\"/>\n</g>\n<!-- 136890117078416*&#45;&gt;136890117078416 -->\n<g id=\"edge3\" class=\"edge\">\n<title>136890117078416*&#45;&gt;136890117078416</title>\n<path fill=\"none\" stroke=\"black\" d=\"M280.28,-101.5C288.05,-101.5 297.08,-101.5 306.68,-101.5\"/>\n<polygon fill=\"black\" stroke=\"black\" points=\"306.88,-105 316.88,-101.5 306.88,-98 306.88,-105\"/>\n</g>\n<!-- 136890120416720 -->\n<g id=\"node9\" class=\"node\">\n<title>136890120416720</title>\n<polygon fill=\"none\" stroke=\"black\" points=\"316,-28.5 316,-64.5 508,-64.5 508,-28.5 316,-28.5\"/>\n<text text-anchor=\"middle\" x=\"327.5\" y=\"-42.8\" font-family=\"Times,serif\" font-size=\"14.00\">c</text>\n<polyline fill=\"none\" stroke=\"black\" points=\"339,-28.5 339,-64.5 \"/>\n<text text-anchor=\"middle\" x=\"382.5\" y=\"-42.8\" font-family=\"Times,serif\" font-size=\"14.00\">data 10.0000</text>\n<polyline fill=\"none\" stroke=\"black\" points=\"426,-28.5 426,-64.5 \"/>\n<text text-anchor=\"middle\" x=\"467\" y=\"-42.8\" font-family=\"Times,serif\" font-size=\"14.00\">grad 0.0000</text>\n</g>\n<!-- 136890120416720&#45;&gt;136890117078272+ -->\n<g id=\"edge5\" class=\"edge\">\n<title>136890120416720&#45;&gt;136890117078272+</title>\n<path fill=\"none\" stroke=\"black\" d=\"M508.4,-62.91C517.69,-64.5 526.64,-66.04 534.71,-67.43\"/>\n<polygon fill=\"black\" stroke=\"black\" points=\"534.32,-70.91 544.76,-69.16 535.5,-64.02 534.32,-70.91\"/>\n</g>\n<!-- 136890117070304 -->\n<g id=\"node10\" class=\"node\">\n<title>136890117070304</title>\n<polygon fill=\"none\" stroke=\"black\" points=\"634,-0.5 634,-36.5 822,-36.5 822,-0.5 634,-0.5\"/>\n<text text-anchor=\"middle\" x=\"644.5\" y=\"-14.8\" font-family=\"Times,serif\" font-size=\"14.00\">f</text>\n<polyline fill=\"none\" stroke=\"black\" points=\"655,-0.5 655,-36.5 \"/>\n<text text-anchor=\"middle\" x=\"697.5\" y=\"-14.8\" font-family=\"Times,serif\" font-size=\"14.00\">data &#45;2.0000</text>\n<polyline fill=\"none\" stroke=\"black\" points=\"740,-0.5 740,-36.5 \"/>\n<text text-anchor=\"middle\" x=\"781\" y=\"-14.8\" font-family=\"Times,serif\" font-size=\"14.00\">grad 0.0000</text>\n</g>\n<!-- 136890117070304&#45;&gt;136890117078656* -->\n<g id=\"edge4\" class=\"edge\">\n<title>136890117070304&#45;&gt;136890117078656*</title>\n<path fill=\"none\" stroke=\"black\" d=\"M822.29,-34.75C831.57,-36.37 840.52,-37.93 848.61,-39.33\"/>\n<polygon fill=\"black\" stroke=\"black\" points=\"848.22,-42.82 858.68,-41.09 849.42,-35.92 848.22,-42.82\"/>\n</g>\n</g>\n</svg>\n",
            "text/plain": [
              "<graphviz.graphs.Digraph at 0x7c8036dbb010>"
            ]
          },
          "metadata": {},
          "execution_count": 123
        }
      ]
    },
    {
      "cell_type": "code",
      "source": [
        "# dL/dL\n",
        "def lol():\n",
        "\n",
        "  h = 1e-6\n",
        "\n",
        "  a = Value(2.0, label='a')\n",
        "  b = Value(-3.0, label='b')\n",
        "  c = Value(10.0, label='c')\n",
        "  e = a * b; e.label = 'e'\n",
        "  d = e + c; d.label = 'd'\n",
        "  f = Value(-2.0, label='f')\n",
        "  L = d * f; L.label = 'L'\n",
        "  L1 = L.data\n",
        "\n",
        "  a = Value(2.0, label='a')\n",
        "  b = Value(-3.0, label='b')\n",
        "  c = Value(10.0, label='c')\n",
        "  e = a * b; e.label = 'e'\n",
        "  d = e + c; d.label = 'd'\n",
        "  f = Value(-2.0, label='f')\n",
        "  L = d * f; L.label = 'L'\n",
        "  L2 = L.data + h\n",
        "\n",
        "  print((L2 - L1) / h)\n",
        "\n",
        "lol()"
      ],
      "metadata": {
        "colab": {
          "base_uri": "https://localhost:8080/"
        },
        "id": "nd-8GgMIojh6",
        "outputId": "6ca6f6fa-f98c-4166-932a-d08c44b58f6a"
      },
      "execution_count": 124,
      "outputs": [
        {
          "output_type": "stream",
          "name": "stdout",
          "text": [
            "1.000000000139778\n"
          ]
        }
      ]
    },
    {
      "cell_type": "code",
      "source": [
        "L.grad = 1.0"
      ],
      "metadata": {
        "id": "IZzpZic1o74t"
      },
      "execution_count": 125,
      "outputs": []
    },
    {
      "cell_type": "code",
      "source": [
        "draw_dot(L)"
      ],
      "metadata": {
        "colab": {
          "base_uri": "https://localhost:8080/",
          "height": 249
        },
        "id": "hLncLNp81wdN",
        "outputId": "782cd491-2d20-4f9c-82b3-8d70d61dc78b"
      },
      "execution_count": 126,
      "outputs": [
        {
          "output_type": "execute_result",
          "data": {
            "image/svg+xml": "<?xml version=\"1.0\" encoding=\"UTF-8\" standalone=\"no\"?>\n<!DOCTYPE svg PUBLIC \"-//W3C//DTD SVG 1.1//EN\"\n \"http://www.w3.org/Graphics/SVG/1.1/DTD/svg11.dtd\">\n<!-- Generated by graphviz version 2.43.0 (0)\n -->\n<!-- Title: %3 Pages: 1 -->\n<svg width=\"1148pt\" height=\"156pt\"\n viewBox=\"0.00 0.00 1148.00 156.00\" xmlns=\"http://www.w3.org/2000/svg\" xmlns:xlink=\"http://www.w3.org/1999/xlink\">\n<g id=\"graph0\" class=\"graph\" transform=\"scale(1 1) rotate(0) translate(4 152)\">\n<title>%3</title>\n<polygon fill=\"white\" stroke=\"transparent\" points=\"-4,4 -4,-152 1144,-152 1144,4 -4,4\"/>\n<!-- 136890117078656 -->\n<g id=\"node1\" class=\"node\">\n<title>136890117078656</title>\n<polygon fill=\"none\" stroke=\"black\" points=\"948,-27.5 948,-63.5 1140,-63.5 1140,-27.5 948,-27.5\"/>\n<text text-anchor=\"middle\" x=\"960.5\" y=\"-41.8\" font-family=\"Times,serif\" font-size=\"14.00\">L</text>\n<polyline fill=\"none\" stroke=\"black\" points=\"973,-27.5 973,-63.5 \"/>\n<text text-anchor=\"middle\" x=\"1015.5\" y=\"-41.8\" font-family=\"Times,serif\" font-size=\"14.00\">data &#45;8.0000</text>\n<polyline fill=\"none\" stroke=\"black\" points=\"1058,-27.5 1058,-63.5 \"/>\n<text text-anchor=\"middle\" x=\"1099\" y=\"-41.8\" font-family=\"Times,serif\" font-size=\"14.00\">grad 1.0000</text>\n</g>\n<!-- 136890117078656* -->\n<g id=\"node2\" class=\"node\">\n<title>136890117078656*</title>\n<ellipse fill=\"none\" stroke=\"black\" cx=\"885\" cy=\"-45.5\" rx=\"27\" ry=\"18\"/>\n<text text-anchor=\"middle\" x=\"885\" y=\"-41.8\" font-family=\"Times,serif\" font-size=\"14.00\">*</text>\n</g>\n<!-- 136890117078656*&#45;&gt;136890117078656 -->\n<g id=\"edge1\" class=\"edge\">\n<title>136890117078656*&#45;&gt;136890117078656</title>\n<path fill=\"none\" stroke=\"black\" d=\"M912.28,-45.5C919.78,-45.5 928.44,-45.5 937.67,-45.5\"/>\n<polygon fill=\"black\" stroke=\"black\" points=\"937.87,-49 947.87,-45.5 937.87,-42 937.87,-49\"/>\n</g>\n<!-- 136890118024848 -->\n<g id=\"node3\" class=\"node\">\n<title>136890118024848</title>\n<polygon fill=\"none\" stroke=\"black\" points=\"2.5,-111.5 2.5,-147.5 187.5,-147.5 187.5,-111.5 2.5,-111.5\"/>\n<text text-anchor=\"middle\" x=\"14\" y=\"-125.8\" font-family=\"Times,serif\" font-size=\"14.00\">a</text>\n<polyline fill=\"none\" stroke=\"black\" points=\"25.5,-111.5 25.5,-147.5 \"/>\n<text text-anchor=\"middle\" x=\"65.5\" y=\"-125.8\" font-family=\"Times,serif\" font-size=\"14.00\">data 2.0000</text>\n<polyline fill=\"none\" stroke=\"black\" points=\"105.5,-111.5 105.5,-147.5 \"/>\n<text text-anchor=\"middle\" x=\"146.5\" y=\"-125.8\" font-family=\"Times,serif\" font-size=\"14.00\">grad 0.0000</text>\n</g>\n<!-- 136890117078416* -->\n<g id=\"node8\" class=\"node\">\n<title>136890117078416*</title>\n<ellipse fill=\"none\" stroke=\"black\" cx=\"253\" cy=\"-101.5\" rx=\"27\" ry=\"18\"/>\n<text text-anchor=\"middle\" x=\"253\" y=\"-97.8\" font-family=\"Times,serif\" font-size=\"14.00\">*</text>\n</g>\n<!-- 136890118024848&#45;&gt;136890117078416* -->\n<g id=\"edge6\" class=\"edge\">\n<title>136890118024848&#45;&gt;136890117078416*</title>\n<path fill=\"none\" stroke=\"black\" d=\"M187.65,-113.05C197.94,-111.2 207.91,-109.41 216.81,-107.82\"/>\n<polygon fill=\"black\" stroke=\"black\" points=\"217.48,-111.25 226.71,-106.04 216.25,-104.36 217.48,-111.25\"/>\n</g>\n<!-- 136890117078272 -->\n<g id=\"node4\" class=\"node\">\n<title>136890117078272</title>\n<polygon fill=\"none\" stroke=\"black\" points=\"635.5,-55.5 635.5,-91.5 820.5,-91.5 820.5,-55.5 635.5,-55.5\"/>\n<text text-anchor=\"middle\" x=\"647\" y=\"-69.8\" font-family=\"Times,serif\" font-size=\"14.00\">d</text>\n<polyline fill=\"none\" stroke=\"black\" points=\"658.5,-55.5 658.5,-91.5 \"/>\n<text text-anchor=\"middle\" x=\"698.5\" y=\"-69.8\" font-family=\"Times,serif\" font-size=\"14.00\">data 4.0000</text>\n<polyline fill=\"none\" stroke=\"black\" points=\"738.5,-55.5 738.5,-91.5 \"/>\n<text text-anchor=\"middle\" x=\"779.5\" y=\"-69.8\" font-family=\"Times,serif\" font-size=\"14.00\">grad 0.0000</text>\n</g>\n<!-- 136890117078272&#45;&gt;136890117078656* -->\n<g id=\"edge8\" class=\"edge\">\n<title>136890117078272&#45;&gt;136890117078656*</title>\n<path fill=\"none\" stroke=\"black\" d=\"M820.51,-56.97C830.48,-55.17 840.13,-53.42 848.77,-51.86\"/>\n<polygon fill=\"black\" stroke=\"black\" points=\"849.55,-55.28 858.77,-50.06 848.3,-48.39 849.55,-55.28\"/>\n</g>\n<!-- 136890117078272+ -->\n<g id=\"node5\" class=\"node\">\n<title>136890117078272+</title>\n<ellipse fill=\"none\" stroke=\"black\" cx=\"571\" cy=\"-73.5\" rx=\"27\" ry=\"18\"/>\n<text text-anchor=\"middle\" x=\"571\" y=\"-69.8\" font-family=\"Times,serif\" font-size=\"14.00\">+</text>\n</g>\n<!-- 136890117078272+&#45;&gt;136890117078272 -->\n<g id=\"edge2\" class=\"edge\">\n<title>136890117078272+&#45;&gt;136890117078272</title>\n<path fill=\"none\" stroke=\"black\" d=\"M598.29,-73.5C606.26,-73.5 615.54,-73.5 625.39,-73.5\"/>\n<polygon fill=\"black\" stroke=\"black\" points=\"625.41,-77 635.41,-73.5 625.41,-70 625.41,-77\"/>\n</g>\n<!-- 136890118021920 -->\n<g id=\"node6\" class=\"node\">\n<title>136890118021920</title>\n<polygon fill=\"none\" stroke=\"black\" points=\"0,-56.5 0,-92.5 190,-92.5 190,-56.5 0,-56.5\"/>\n<text text-anchor=\"middle\" x=\"11.5\" y=\"-70.8\" font-family=\"Times,serif\" font-size=\"14.00\">b</text>\n<polyline fill=\"none\" stroke=\"black\" points=\"23,-56.5 23,-92.5 \"/>\n<text text-anchor=\"middle\" x=\"65.5\" y=\"-70.8\" font-family=\"Times,serif\" font-size=\"14.00\">data &#45;3.0000</text>\n<polyline fill=\"none\" stroke=\"black\" points=\"108,-56.5 108,-92.5 \"/>\n<text text-anchor=\"middle\" x=\"149\" y=\"-70.8\" font-family=\"Times,serif\" font-size=\"14.00\">grad 0.0000</text>\n</g>\n<!-- 136890118021920&#45;&gt;136890117078416* -->\n<g id=\"edge7\" class=\"edge\">\n<title>136890118021920&#45;&gt;136890117078416*</title>\n<path fill=\"none\" stroke=\"black\" d=\"M190.34,-90.83C199.62,-92.44 208.58,-93.99 216.66,-95.38\"/>\n<polygon fill=\"black\" stroke=\"black\" points=\"216.27,-98.87 226.72,-97.12 217.46,-91.97 216.27,-98.87\"/>\n</g>\n<!-- 136890117078416 -->\n<g id=\"node7\" class=\"node\">\n<title>136890117078416</title>\n<polygon fill=\"none\" stroke=\"black\" points=\"317,-83.5 317,-119.5 507,-119.5 507,-83.5 317,-83.5\"/>\n<text text-anchor=\"middle\" x=\"328.5\" y=\"-97.8\" font-family=\"Times,serif\" font-size=\"14.00\">e</text>\n<polyline fill=\"none\" stroke=\"black\" points=\"340,-83.5 340,-119.5 \"/>\n<text text-anchor=\"middle\" x=\"382.5\" y=\"-97.8\" font-family=\"Times,serif\" font-size=\"14.00\">data &#45;6.0000</text>\n<polyline fill=\"none\" stroke=\"black\" points=\"425,-83.5 425,-119.5 \"/>\n<text text-anchor=\"middle\" x=\"466\" y=\"-97.8\" font-family=\"Times,serif\" font-size=\"14.00\">grad 0.0000</text>\n</g>\n<!-- 136890117078416&#45;&gt;136890117078272+ -->\n<g id=\"edge9\" class=\"edge\">\n<title>136890117078416&#45;&gt;136890117078272+</title>\n<path fill=\"none\" stroke=\"black\" d=\"M507.05,-84.73C516.89,-82.97 526.39,-81.28 534.9,-79.76\"/>\n<polygon fill=\"black\" stroke=\"black\" points=\"535.52,-83.2 544.75,-78 534.29,-76.31 535.52,-83.2\"/>\n</g>\n<!-- 136890117078416*&#45;&gt;136890117078416 -->\n<g id=\"edge3\" class=\"edge\">\n<title>136890117078416*&#45;&gt;136890117078416</title>\n<path fill=\"none\" stroke=\"black\" d=\"M280.28,-101.5C288.05,-101.5 297.08,-101.5 306.68,-101.5\"/>\n<polygon fill=\"black\" stroke=\"black\" points=\"306.88,-105 316.88,-101.5 306.88,-98 306.88,-105\"/>\n</g>\n<!-- 136890120416720 -->\n<g id=\"node9\" class=\"node\">\n<title>136890120416720</title>\n<polygon fill=\"none\" stroke=\"black\" points=\"316,-28.5 316,-64.5 508,-64.5 508,-28.5 316,-28.5\"/>\n<text text-anchor=\"middle\" x=\"327.5\" y=\"-42.8\" font-family=\"Times,serif\" font-size=\"14.00\">c</text>\n<polyline fill=\"none\" stroke=\"black\" points=\"339,-28.5 339,-64.5 \"/>\n<text text-anchor=\"middle\" x=\"382.5\" y=\"-42.8\" font-family=\"Times,serif\" font-size=\"14.00\">data 10.0000</text>\n<polyline fill=\"none\" stroke=\"black\" points=\"426,-28.5 426,-64.5 \"/>\n<text text-anchor=\"middle\" x=\"467\" y=\"-42.8\" font-family=\"Times,serif\" font-size=\"14.00\">grad 0.0000</text>\n</g>\n<!-- 136890120416720&#45;&gt;136890117078272+ -->\n<g id=\"edge5\" class=\"edge\">\n<title>136890120416720&#45;&gt;136890117078272+</title>\n<path fill=\"none\" stroke=\"black\" d=\"M508.4,-62.91C517.69,-64.5 526.64,-66.04 534.71,-67.43\"/>\n<polygon fill=\"black\" stroke=\"black\" points=\"534.32,-70.91 544.76,-69.16 535.5,-64.02 534.32,-70.91\"/>\n</g>\n<!-- 136890117070304 -->\n<g id=\"node10\" class=\"node\">\n<title>136890117070304</title>\n<polygon fill=\"none\" stroke=\"black\" points=\"634,-0.5 634,-36.5 822,-36.5 822,-0.5 634,-0.5\"/>\n<text text-anchor=\"middle\" x=\"644.5\" y=\"-14.8\" font-family=\"Times,serif\" font-size=\"14.00\">f</text>\n<polyline fill=\"none\" stroke=\"black\" points=\"655,-0.5 655,-36.5 \"/>\n<text text-anchor=\"middle\" x=\"697.5\" y=\"-14.8\" font-family=\"Times,serif\" font-size=\"14.00\">data &#45;2.0000</text>\n<polyline fill=\"none\" stroke=\"black\" points=\"740,-0.5 740,-36.5 \"/>\n<text text-anchor=\"middle\" x=\"781\" y=\"-14.8\" font-family=\"Times,serif\" font-size=\"14.00\">grad 0.0000</text>\n</g>\n<!-- 136890117070304&#45;&gt;136890117078656* -->\n<g id=\"edge4\" class=\"edge\">\n<title>136890117070304&#45;&gt;136890117078656*</title>\n<path fill=\"none\" stroke=\"black\" d=\"M822.29,-34.75C831.57,-36.37 840.52,-37.93 848.61,-39.33\"/>\n<polygon fill=\"black\" stroke=\"black\" points=\"848.22,-42.82 858.68,-41.09 849.42,-35.92 848.22,-42.82\"/>\n</g>\n</g>\n</svg>\n",
            "text/plain": [
              "<graphviz.graphs.Digraph at 0x7c8036df66e0>"
            ]
          },
          "metadata": {},
          "execution_count": 126
        }
      ]
    },
    {
      "cell_type": "code",
      "source": [
        "# dL/dd\n",
        "def lol():\n",
        "\n",
        "  h = 1e-6\n",
        "\n",
        "  a = Value(2.0, label='a')\n",
        "  b = Value(-3.0, label='b')\n",
        "  c = Value(10.0, label='c')\n",
        "  e = a * b; e.label = 'e'\n",
        "  d = e + c; d.label = 'd'\n",
        "  f = Value(-2.0, label='f')\n",
        "  L = d * f; L.label = 'L'\n",
        "  L1 = L.data\n",
        "\n",
        "  a = Value(2.0, label='a')\n",
        "  b = Value(-3.0, label='b')\n",
        "  c = Value(10.0, label='c')\n",
        "  e = a * b; e.label = 'e'\n",
        "  d = e + c; d.label = 'd'\n",
        "  d.data += h\n",
        "  f = Value(-2.0, label='f')\n",
        "  L = d * f; L.label = 'L'\n",
        "  L2 = L.data\n",
        "\n",
        "  print((L2 - L1) / h)\n",
        "\n",
        "lol()"
      ],
      "metadata": {
        "colab": {
          "base_uri": "https://localhost:8080/"
        },
        "id": "P7xMPg581zcr",
        "outputId": "1528f4e3-b333-4b56-fcc6-c291c271dc57"
      },
      "execution_count": 127,
      "outputs": [
        {
          "output_type": "stream",
          "name": "stdout",
          "text": [
            "-2.000000000279556\n"
          ]
        }
      ]
    },
    {
      "cell_type": "code",
      "source": [
        "d.grad = -2.0"
      ],
      "metadata": {
        "id": "2n1nnzMO16Os"
      },
      "execution_count": 128,
      "outputs": []
    },
    {
      "cell_type": "code",
      "source": [
        "# dL/df\n",
        "def lol():\n",
        "\n",
        "  h = 1e-6\n",
        "\n",
        "  a = Value(2.0, label='a')\n",
        "  b = Value(-3.0, label='b')\n",
        "  c = Value(10.0, label='c')\n",
        "  e = a * b; e.label = 'e'\n",
        "  d = e + c; d.label = 'd'\n",
        "  f = Value(-2.0, label='f')\n",
        "  L = d * f; L.label = 'L'\n",
        "  L1 = L.data\n",
        "\n",
        "  a = Value(2.0, label='a')\n",
        "  b = Value(-3.0, label='b')\n",
        "  c = Value(10.0, label='c')\n",
        "  e = a * b; e.label = 'e'\n",
        "  d = e + c; d.label = 'd'\n",
        "  f = Value(-2.0, label='f')\n",
        "  f.data += h\n",
        "  L = d * f; L.label = 'L'\n",
        "  L2 = L.data\n",
        "\n",
        "  print((L2 - L1) / h)\n",
        "\n",
        "lol()"
      ],
      "metadata": {
        "colab": {
          "base_uri": "https://localhost:8080/"
        },
        "id": "Rka-qByR22a4",
        "outputId": "26d5676e-fedd-4194-b717-0488d735dba3"
      },
      "execution_count": 129,
      "outputs": [
        {
          "output_type": "stream",
          "name": "stdout",
          "text": [
            "3.9999999996709334\n"
          ]
        }
      ]
    },
    {
      "cell_type": "code",
      "source": [
        "f.grad = 4.0"
      ],
      "metadata": {
        "id": "3wobtBQI3SZw"
      },
      "execution_count": 130,
      "outputs": []
    },
    {
      "cell_type": "code",
      "source": [
        "draw_dot(L)"
      ],
      "metadata": {
        "colab": {
          "base_uri": "https://localhost:8080/",
          "height": 249
        },
        "id": "ZhwdNWju3oEI",
        "outputId": "a1c6221c-ead3-4efd-ef61-de427971c839"
      },
      "execution_count": 131,
      "outputs": [
        {
          "output_type": "execute_result",
          "data": {
            "image/svg+xml": "<?xml version=\"1.0\" encoding=\"UTF-8\" standalone=\"no\"?>\n<!DOCTYPE svg PUBLIC \"-//W3C//DTD SVG 1.1//EN\"\n \"http://www.w3.org/Graphics/SVG/1.1/DTD/svg11.dtd\">\n<!-- Generated by graphviz version 2.43.0 (0)\n -->\n<!-- Title: %3 Pages: 1 -->\n<svg width=\"1149pt\" height=\"156pt\"\n viewBox=\"0.00 0.00 1149.00 156.00\" xmlns=\"http://www.w3.org/2000/svg\" xmlns:xlink=\"http://www.w3.org/1999/xlink\">\n<g id=\"graph0\" class=\"graph\" transform=\"scale(1 1) rotate(0) translate(4 152)\">\n<title>%3</title>\n<polygon fill=\"white\" stroke=\"transparent\" points=\"-4,4 -4,-152 1145,-152 1145,4 -4,4\"/>\n<!-- 136890117078656 -->\n<g id=\"node1\" class=\"node\">\n<title>136890117078656</title>\n<polygon fill=\"none\" stroke=\"black\" points=\"949,-27.5 949,-63.5 1141,-63.5 1141,-27.5 949,-27.5\"/>\n<text text-anchor=\"middle\" x=\"961.5\" y=\"-41.8\" font-family=\"Times,serif\" font-size=\"14.00\">L</text>\n<polyline fill=\"none\" stroke=\"black\" points=\"974,-27.5 974,-63.5 \"/>\n<text text-anchor=\"middle\" x=\"1016.5\" y=\"-41.8\" font-family=\"Times,serif\" font-size=\"14.00\">data &#45;8.0000</text>\n<polyline fill=\"none\" stroke=\"black\" points=\"1059,-27.5 1059,-63.5 \"/>\n<text text-anchor=\"middle\" x=\"1100\" y=\"-41.8\" font-family=\"Times,serif\" font-size=\"14.00\">grad 1.0000</text>\n</g>\n<!-- 136890117078656* -->\n<g id=\"node2\" class=\"node\">\n<title>136890117078656*</title>\n<ellipse fill=\"none\" stroke=\"black\" cx=\"886\" cy=\"-45.5\" rx=\"27\" ry=\"18\"/>\n<text text-anchor=\"middle\" x=\"886\" y=\"-41.8\" font-family=\"Times,serif\" font-size=\"14.00\">*</text>\n</g>\n<!-- 136890117078656*&#45;&gt;136890117078656 -->\n<g id=\"edge1\" class=\"edge\">\n<title>136890117078656*&#45;&gt;136890117078656</title>\n<path fill=\"none\" stroke=\"black\" d=\"M913.28,-45.5C920.78,-45.5 929.44,-45.5 938.67,-45.5\"/>\n<polygon fill=\"black\" stroke=\"black\" points=\"938.87,-49 948.87,-45.5 938.87,-42 938.87,-49\"/>\n</g>\n<!-- 136890118024848 -->\n<g id=\"node3\" class=\"node\">\n<title>136890118024848</title>\n<polygon fill=\"none\" stroke=\"black\" points=\"2.5,-111.5 2.5,-147.5 187.5,-147.5 187.5,-111.5 2.5,-111.5\"/>\n<text text-anchor=\"middle\" x=\"14\" y=\"-125.8\" font-family=\"Times,serif\" font-size=\"14.00\">a</text>\n<polyline fill=\"none\" stroke=\"black\" points=\"25.5,-111.5 25.5,-147.5 \"/>\n<text text-anchor=\"middle\" x=\"65.5\" y=\"-125.8\" font-family=\"Times,serif\" font-size=\"14.00\">data 2.0000</text>\n<polyline fill=\"none\" stroke=\"black\" points=\"105.5,-111.5 105.5,-147.5 \"/>\n<text text-anchor=\"middle\" x=\"146.5\" y=\"-125.8\" font-family=\"Times,serif\" font-size=\"14.00\">grad 0.0000</text>\n</g>\n<!-- 136890117078416* -->\n<g id=\"node8\" class=\"node\">\n<title>136890117078416*</title>\n<ellipse fill=\"none\" stroke=\"black\" cx=\"253\" cy=\"-101.5\" rx=\"27\" ry=\"18\"/>\n<text text-anchor=\"middle\" x=\"253\" y=\"-97.8\" font-family=\"Times,serif\" font-size=\"14.00\">*</text>\n</g>\n<!-- 136890118024848&#45;&gt;136890117078416* -->\n<g id=\"edge6\" class=\"edge\">\n<title>136890118024848&#45;&gt;136890117078416*</title>\n<path fill=\"none\" stroke=\"black\" d=\"M187.65,-113.05C197.94,-111.2 207.91,-109.41 216.81,-107.82\"/>\n<polygon fill=\"black\" stroke=\"black\" points=\"217.48,-111.25 226.71,-106.04 216.25,-104.36 217.48,-111.25\"/>\n</g>\n<!-- 136890117078272 -->\n<g id=\"node4\" class=\"node\">\n<title>136890117078272</title>\n<polygon fill=\"none\" stroke=\"black\" points=\"634,-55.5 634,-91.5 823,-91.5 823,-55.5 634,-55.5\"/>\n<text text-anchor=\"middle\" x=\"645.5\" y=\"-69.8\" font-family=\"Times,serif\" font-size=\"14.00\">d</text>\n<polyline fill=\"none\" stroke=\"black\" points=\"657,-55.5 657,-91.5 \"/>\n<text text-anchor=\"middle\" x=\"697\" y=\"-69.8\" font-family=\"Times,serif\" font-size=\"14.00\">data 4.0000</text>\n<polyline fill=\"none\" stroke=\"black\" points=\"737,-55.5 737,-91.5 \"/>\n<text text-anchor=\"middle\" x=\"780\" y=\"-69.8\" font-family=\"Times,serif\" font-size=\"14.00\">grad &#45;2.0000</text>\n</g>\n<!-- 136890117078272&#45;&gt;136890117078656* -->\n<g id=\"edge8\" class=\"edge\">\n<title>136890117078272&#45;&gt;136890117078656*</title>\n<path fill=\"none\" stroke=\"black\" d=\"M823.1,-56.65C832.4,-54.97 841.38,-53.35 849.49,-51.89\"/>\n<polygon fill=\"black\" stroke=\"black\" points=\"850.37,-55.29 859.59,-50.07 849.13,-48.4 850.37,-55.29\"/>\n</g>\n<!-- 136890117078272+ -->\n<g id=\"node5\" class=\"node\">\n<title>136890117078272+</title>\n<ellipse fill=\"none\" stroke=\"black\" cx=\"571\" cy=\"-73.5\" rx=\"27\" ry=\"18\"/>\n<text text-anchor=\"middle\" x=\"571\" y=\"-69.8\" font-family=\"Times,serif\" font-size=\"14.00\">+</text>\n</g>\n<!-- 136890117078272+&#45;&gt;136890117078272 -->\n<g id=\"edge2\" class=\"edge\">\n<title>136890117078272+&#45;&gt;136890117078272</title>\n<path fill=\"none\" stroke=\"black\" d=\"M598.03,-73.5C605.66,-73.5 614.52,-73.5 623.94,-73.5\"/>\n<polygon fill=\"black\" stroke=\"black\" points=\"623.94,-77 633.94,-73.5 623.94,-70 623.94,-77\"/>\n</g>\n<!-- 136890118021920 -->\n<g id=\"node6\" class=\"node\">\n<title>136890118021920</title>\n<polygon fill=\"none\" stroke=\"black\" points=\"0,-56.5 0,-92.5 190,-92.5 190,-56.5 0,-56.5\"/>\n<text text-anchor=\"middle\" x=\"11.5\" y=\"-70.8\" font-family=\"Times,serif\" font-size=\"14.00\">b</text>\n<polyline fill=\"none\" stroke=\"black\" points=\"23,-56.5 23,-92.5 \"/>\n<text text-anchor=\"middle\" x=\"65.5\" y=\"-70.8\" font-family=\"Times,serif\" font-size=\"14.00\">data &#45;3.0000</text>\n<polyline fill=\"none\" stroke=\"black\" points=\"108,-56.5 108,-92.5 \"/>\n<text text-anchor=\"middle\" x=\"149\" y=\"-70.8\" font-family=\"Times,serif\" font-size=\"14.00\">grad 0.0000</text>\n</g>\n<!-- 136890118021920&#45;&gt;136890117078416* -->\n<g id=\"edge7\" class=\"edge\">\n<title>136890118021920&#45;&gt;136890117078416*</title>\n<path fill=\"none\" stroke=\"black\" d=\"M190.34,-90.83C199.62,-92.44 208.58,-93.99 216.66,-95.38\"/>\n<polygon fill=\"black\" stroke=\"black\" points=\"216.27,-98.87 226.72,-97.12 217.46,-91.97 216.27,-98.87\"/>\n</g>\n<!-- 136890117078416 -->\n<g id=\"node7\" class=\"node\">\n<title>136890117078416</title>\n<polygon fill=\"none\" stroke=\"black\" points=\"317,-83.5 317,-119.5 507,-119.5 507,-83.5 317,-83.5\"/>\n<text text-anchor=\"middle\" x=\"328.5\" y=\"-97.8\" font-family=\"Times,serif\" font-size=\"14.00\">e</text>\n<polyline fill=\"none\" stroke=\"black\" points=\"340,-83.5 340,-119.5 \"/>\n<text text-anchor=\"middle\" x=\"382.5\" y=\"-97.8\" font-family=\"Times,serif\" font-size=\"14.00\">data &#45;6.0000</text>\n<polyline fill=\"none\" stroke=\"black\" points=\"425,-83.5 425,-119.5 \"/>\n<text text-anchor=\"middle\" x=\"466\" y=\"-97.8\" font-family=\"Times,serif\" font-size=\"14.00\">grad 0.0000</text>\n</g>\n<!-- 136890117078416&#45;&gt;136890117078272+ -->\n<g id=\"edge9\" class=\"edge\">\n<title>136890117078416&#45;&gt;136890117078272+</title>\n<path fill=\"none\" stroke=\"black\" d=\"M507.05,-84.73C516.89,-82.97 526.39,-81.28 534.9,-79.76\"/>\n<polygon fill=\"black\" stroke=\"black\" points=\"535.52,-83.2 544.75,-78 534.29,-76.31 535.52,-83.2\"/>\n</g>\n<!-- 136890117078416*&#45;&gt;136890117078416 -->\n<g id=\"edge3\" class=\"edge\">\n<title>136890117078416*&#45;&gt;136890117078416</title>\n<path fill=\"none\" stroke=\"black\" d=\"M280.28,-101.5C288.05,-101.5 297.08,-101.5 306.68,-101.5\"/>\n<polygon fill=\"black\" stroke=\"black\" points=\"306.88,-105 316.88,-101.5 306.88,-98 306.88,-105\"/>\n</g>\n<!-- 136890120416720 -->\n<g id=\"node9\" class=\"node\">\n<title>136890120416720</title>\n<polygon fill=\"none\" stroke=\"black\" points=\"316,-28.5 316,-64.5 508,-64.5 508,-28.5 316,-28.5\"/>\n<text text-anchor=\"middle\" x=\"327.5\" y=\"-42.8\" font-family=\"Times,serif\" font-size=\"14.00\">c</text>\n<polyline fill=\"none\" stroke=\"black\" points=\"339,-28.5 339,-64.5 \"/>\n<text text-anchor=\"middle\" x=\"382.5\" y=\"-42.8\" font-family=\"Times,serif\" font-size=\"14.00\">data 10.0000</text>\n<polyline fill=\"none\" stroke=\"black\" points=\"426,-28.5 426,-64.5 \"/>\n<text text-anchor=\"middle\" x=\"467\" y=\"-42.8\" font-family=\"Times,serif\" font-size=\"14.00\">grad 0.0000</text>\n</g>\n<!-- 136890120416720&#45;&gt;136890117078272+ -->\n<g id=\"edge5\" class=\"edge\">\n<title>136890120416720&#45;&gt;136890117078272+</title>\n<path fill=\"none\" stroke=\"black\" d=\"M508.4,-62.91C517.69,-64.5 526.64,-66.04 534.71,-67.43\"/>\n<polygon fill=\"black\" stroke=\"black\" points=\"534.32,-70.91 544.76,-69.16 535.5,-64.02 534.32,-70.91\"/>\n</g>\n<!-- 136890117070304 -->\n<g id=\"node10\" class=\"node\">\n<title>136890117070304</title>\n<polygon fill=\"none\" stroke=\"black\" points=\"634.5,-0.5 634.5,-36.5 822.5,-36.5 822.5,-0.5 634.5,-0.5\"/>\n<text text-anchor=\"middle\" x=\"645\" y=\"-14.8\" font-family=\"Times,serif\" font-size=\"14.00\">f</text>\n<polyline fill=\"none\" stroke=\"black\" points=\"655.5,-0.5 655.5,-36.5 \"/>\n<text text-anchor=\"middle\" x=\"698\" y=\"-14.8\" font-family=\"Times,serif\" font-size=\"14.00\">data &#45;2.0000</text>\n<polyline fill=\"none\" stroke=\"black\" points=\"740.5,-0.5 740.5,-36.5 \"/>\n<text text-anchor=\"middle\" x=\"781.5\" y=\"-14.8\" font-family=\"Times,serif\" font-size=\"14.00\">grad 4.0000</text>\n</g>\n<!-- 136890117070304&#45;&gt;136890117078656* -->\n<g id=\"edge4\" class=\"edge\">\n<title>136890117070304&#45;&gt;136890117078656*</title>\n<path fill=\"none\" stroke=\"black\" d=\"M822.65,-34.67C832.2,-36.33 841.43,-37.93 849.72,-39.37\"/>\n<polygon fill=\"black\" stroke=\"black\" points=\"849.24,-42.84 859.69,-41.11 850.44,-35.95 849.24,-42.84\"/>\n</g>\n</g>\n</svg>\n",
            "text/plain": [
              "<graphviz.graphs.Digraph at 0x7c8036cd2ef0>"
            ]
          },
          "metadata": {},
          "execution_count": 131
        }
      ]
    },
    {
      "cell_type": "code",
      "source": [
        "# dL/de\n",
        "def lol():\n",
        "\n",
        "  h = 1e-6\n",
        "\n",
        "  a = Value(2.0, label='a')\n",
        "  b = Value(-3.0, label='b')\n",
        "  c = Value(10.0, label='c')\n",
        "  e = a * b; e.label = 'e'\n",
        "  d = e + c; d.label = 'd'\n",
        "  f = Value(-2.0, label='f')\n",
        "  L = d * f; L.label = 'L'\n",
        "  L1 = L.data\n",
        "\n",
        "  a = Value(2.0, label='a')\n",
        "  b = Value(-3.0, label='b')\n",
        "  c = Value(10.0, label='c')\n",
        "  e = a * b; e.label = 'e'\n",
        "  e.data += h\n",
        "  d = e + c; d.label = 'd'\n",
        "  f = Value(-2.0, label='f')\n",
        "  L = d * f; L.label = 'L'\n",
        "  L2 = L.data\n",
        "\n",
        "  print((L2 - L1) / h)\n",
        "\n",
        "lol()"
      ],
      "metadata": {
        "colab": {
          "base_uri": "https://localhost:8080/"
        },
        "id": "44jnBk3X3pB7",
        "outputId": "dd15c540-1c7e-44ac-9aff-54a5c17f107c"
      },
      "execution_count": 132,
      "outputs": [
        {
          "output_type": "stream",
          "name": "stdout",
          "text": [
            "-2.000000000279556\n"
          ]
        }
      ]
    },
    {
      "cell_type": "code",
      "source": [
        "e.grad = -2.0"
      ],
      "metadata": {
        "id": "NhCQRK9B4Hr6"
      },
      "execution_count": 133,
      "outputs": []
    },
    {
      "cell_type": "code",
      "source": [
        "draw_dot(L)"
      ],
      "metadata": {
        "colab": {
          "base_uri": "https://localhost:8080/",
          "height": 249
        },
        "id": "fHEu688x4W9u",
        "outputId": "eaa50793-d99b-430f-cfe0-4b1809989e97"
      },
      "execution_count": 134,
      "outputs": [
        {
          "output_type": "execute_result",
          "data": {
            "image/svg+xml": "<?xml version=\"1.0\" encoding=\"UTF-8\" standalone=\"no\"?>\n<!DOCTYPE svg PUBLIC \"-//W3C//DTD SVG 1.1//EN\"\n \"http://www.w3.org/Graphics/SVG/1.1/DTD/svg11.dtd\">\n<!-- Generated by graphviz version 2.43.0 (0)\n -->\n<!-- Title: %3 Pages: 1 -->\n<svg width=\"1151pt\" height=\"156pt\"\n viewBox=\"0.00 0.00 1151.00 156.00\" xmlns=\"http://www.w3.org/2000/svg\" xmlns:xlink=\"http://www.w3.org/1999/xlink\">\n<g id=\"graph0\" class=\"graph\" transform=\"scale(1 1) rotate(0) translate(4 152)\">\n<title>%3</title>\n<polygon fill=\"white\" stroke=\"transparent\" points=\"-4,4 -4,-152 1147,-152 1147,4 -4,4\"/>\n<!-- 136890117078656 -->\n<g id=\"node1\" class=\"node\">\n<title>136890117078656</title>\n<polygon fill=\"none\" stroke=\"black\" points=\"951,-27.5 951,-63.5 1143,-63.5 1143,-27.5 951,-27.5\"/>\n<text text-anchor=\"middle\" x=\"963.5\" y=\"-41.8\" font-family=\"Times,serif\" font-size=\"14.00\">L</text>\n<polyline fill=\"none\" stroke=\"black\" points=\"976,-27.5 976,-63.5 \"/>\n<text text-anchor=\"middle\" x=\"1018.5\" y=\"-41.8\" font-family=\"Times,serif\" font-size=\"14.00\">data &#45;8.0000</text>\n<polyline fill=\"none\" stroke=\"black\" points=\"1061,-27.5 1061,-63.5 \"/>\n<text text-anchor=\"middle\" x=\"1102\" y=\"-41.8\" font-family=\"Times,serif\" font-size=\"14.00\">grad 1.0000</text>\n</g>\n<!-- 136890117078656* -->\n<g id=\"node2\" class=\"node\">\n<title>136890117078656*</title>\n<ellipse fill=\"none\" stroke=\"black\" cx=\"888\" cy=\"-45.5\" rx=\"27\" ry=\"18\"/>\n<text text-anchor=\"middle\" x=\"888\" y=\"-41.8\" font-family=\"Times,serif\" font-size=\"14.00\">*</text>\n</g>\n<!-- 136890117078656*&#45;&gt;136890117078656 -->\n<g id=\"edge1\" class=\"edge\">\n<title>136890117078656*&#45;&gt;136890117078656</title>\n<path fill=\"none\" stroke=\"black\" d=\"M915.28,-45.5C922.78,-45.5 931.44,-45.5 940.67,-45.5\"/>\n<polygon fill=\"black\" stroke=\"black\" points=\"940.87,-49 950.87,-45.5 940.87,-42 940.87,-49\"/>\n</g>\n<!-- 136890118024848 -->\n<g id=\"node3\" class=\"node\">\n<title>136890118024848</title>\n<polygon fill=\"none\" stroke=\"black\" points=\"2.5,-111.5 2.5,-147.5 187.5,-147.5 187.5,-111.5 2.5,-111.5\"/>\n<text text-anchor=\"middle\" x=\"14\" y=\"-125.8\" font-family=\"Times,serif\" font-size=\"14.00\">a</text>\n<polyline fill=\"none\" stroke=\"black\" points=\"25.5,-111.5 25.5,-147.5 \"/>\n<text text-anchor=\"middle\" x=\"65.5\" y=\"-125.8\" font-family=\"Times,serif\" font-size=\"14.00\">data 2.0000</text>\n<polyline fill=\"none\" stroke=\"black\" points=\"105.5,-111.5 105.5,-147.5 \"/>\n<text text-anchor=\"middle\" x=\"146.5\" y=\"-125.8\" font-family=\"Times,serif\" font-size=\"14.00\">grad 0.0000</text>\n</g>\n<!-- 136890117078416* -->\n<g id=\"node8\" class=\"node\">\n<title>136890117078416*</title>\n<ellipse fill=\"none\" stroke=\"black\" cx=\"253\" cy=\"-101.5\" rx=\"27\" ry=\"18\"/>\n<text text-anchor=\"middle\" x=\"253\" y=\"-97.8\" font-family=\"Times,serif\" font-size=\"14.00\">*</text>\n</g>\n<!-- 136890118024848&#45;&gt;136890117078416* -->\n<g id=\"edge6\" class=\"edge\">\n<title>136890118024848&#45;&gt;136890117078416*</title>\n<path fill=\"none\" stroke=\"black\" d=\"M187.65,-113.05C197.94,-111.2 207.91,-109.41 216.81,-107.82\"/>\n<polygon fill=\"black\" stroke=\"black\" points=\"217.48,-111.25 226.71,-106.04 216.25,-104.36 217.48,-111.25\"/>\n</g>\n<!-- 136890117078272 -->\n<g id=\"node4\" class=\"node\">\n<title>136890117078272</title>\n<polygon fill=\"none\" stroke=\"black\" points=\"636,-55.5 636,-91.5 825,-91.5 825,-55.5 636,-55.5\"/>\n<text text-anchor=\"middle\" x=\"647.5\" y=\"-69.8\" font-family=\"Times,serif\" font-size=\"14.00\">d</text>\n<polyline fill=\"none\" stroke=\"black\" points=\"659,-55.5 659,-91.5 \"/>\n<text text-anchor=\"middle\" x=\"699\" y=\"-69.8\" font-family=\"Times,serif\" font-size=\"14.00\">data 4.0000</text>\n<polyline fill=\"none\" stroke=\"black\" points=\"739,-55.5 739,-91.5 \"/>\n<text text-anchor=\"middle\" x=\"782\" y=\"-69.8\" font-family=\"Times,serif\" font-size=\"14.00\">grad &#45;2.0000</text>\n</g>\n<!-- 136890117078272&#45;&gt;136890117078656* -->\n<g id=\"edge8\" class=\"edge\">\n<title>136890117078272&#45;&gt;136890117078656*</title>\n<path fill=\"none\" stroke=\"black\" d=\"M825.1,-56.65C834.4,-54.97 843.38,-53.35 851.49,-51.89\"/>\n<polygon fill=\"black\" stroke=\"black\" points=\"852.37,-55.29 861.59,-50.07 851.13,-48.4 852.37,-55.29\"/>\n</g>\n<!-- 136890117078272+ -->\n<g id=\"node5\" class=\"node\">\n<title>136890117078272+</title>\n<ellipse fill=\"none\" stroke=\"black\" cx=\"573\" cy=\"-73.5\" rx=\"27\" ry=\"18\"/>\n<text text-anchor=\"middle\" x=\"573\" y=\"-69.8\" font-family=\"Times,serif\" font-size=\"14.00\">+</text>\n</g>\n<!-- 136890117078272+&#45;&gt;136890117078272 -->\n<g id=\"edge2\" class=\"edge\">\n<title>136890117078272+&#45;&gt;136890117078272</title>\n<path fill=\"none\" stroke=\"black\" d=\"M600.03,-73.5C607.66,-73.5 616.52,-73.5 625.94,-73.5\"/>\n<polygon fill=\"black\" stroke=\"black\" points=\"625.94,-77 635.94,-73.5 625.94,-70 625.94,-77\"/>\n</g>\n<!-- 136890118021920 -->\n<g id=\"node6\" class=\"node\">\n<title>136890118021920</title>\n<polygon fill=\"none\" stroke=\"black\" points=\"0,-56.5 0,-92.5 190,-92.5 190,-56.5 0,-56.5\"/>\n<text text-anchor=\"middle\" x=\"11.5\" y=\"-70.8\" font-family=\"Times,serif\" font-size=\"14.00\">b</text>\n<polyline fill=\"none\" stroke=\"black\" points=\"23,-56.5 23,-92.5 \"/>\n<text text-anchor=\"middle\" x=\"65.5\" y=\"-70.8\" font-family=\"Times,serif\" font-size=\"14.00\">data &#45;3.0000</text>\n<polyline fill=\"none\" stroke=\"black\" points=\"108,-56.5 108,-92.5 \"/>\n<text text-anchor=\"middle\" x=\"149\" y=\"-70.8\" font-family=\"Times,serif\" font-size=\"14.00\">grad 0.0000</text>\n</g>\n<!-- 136890118021920&#45;&gt;136890117078416* -->\n<g id=\"edge7\" class=\"edge\">\n<title>136890118021920&#45;&gt;136890117078416*</title>\n<path fill=\"none\" stroke=\"black\" d=\"M190.34,-90.83C199.62,-92.44 208.58,-93.99 216.66,-95.38\"/>\n<polygon fill=\"black\" stroke=\"black\" points=\"216.27,-98.87 226.72,-97.12 217.46,-91.97 216.27,-98.87\"/>\n</g>\n<!-- 136890117078416 -->\n<g id=\"node7\" class=\"node\">\n<title>136890117078416</title>\n<polygon fill=\"none\" stroke=\"black\" points=\"316,-83.5 316,-119.5 510,-119.5 510,-83.5 316,-83.5\"/>\n<text text-anchor=\"middle\" x=\"327.5\" y=\"-97.8\" font-family=\"Times,serif\" font-size=\"14.00\">e</text>\n<polyline fill=\"none\" stroke=\"black\" points=\"339,-83.5 339,-119.5 \"/>\n<text text-anchor=\"middle\" x=\"381.5\" y=\"-97.8\" font-family=\"Times,serif\" font-size=\"14.00\">data &#45;6.0000</text>\n<polyline fill=\"none\" stroke=\"black\" points=\"424,-83.5 424,-119.5 \"/>\n<text text-anchor=\"middle\" x=\"467\" y=\"-97.8\" font-family=\"Times,serif\" font-size=\"14.00\">grad &#45;2.0000</text>\n</g>\n<!-- 136890117078416&#45;&gt;136890117078272+ -->\n<g id=\"edge9\" class=\"edge\">\n<title>136890117078416&#45;&gt;136890117078272+</title>\n<path fill=\"none\" stroke=\"black\" d=\"M510.01,-84.49C519.35,-82.83 528.37,-81.23 536.49,-79.79\"/>\n<polygon fill=\"black\" stroke=\"black\" points=\"537.37,-83.19 546.6,-78 536.15,-76.3 537.37,-83.19\"/>\n</g>\n<!-- 136890117078416*&#45;&gt;136890117078416 -->\n<g id=\"edge3\" class=\"edge\">\n<title>136890117078416*&#45;&gt;136890117078416</title>\n<path fill=\"none\" stroke=\"black\" d=\"M280.09,-101.5C287.62,-101.5 296.34,-101.5 305.63,-101.5\"/>\n<polygon fill=\"black\" stroke=\"black\" points=\"305.92,-105 315.92,-101.5 305.92,-98 305.92,-105\"/>\n</g>\n<!-- 136890120416720 -->\n<g id=\"node9\" class=\"node\">\n<title>136890120416720</title>\n<polygon fill=\"none\" stroke=\"black\" points=\"317,-28.5 317,-64.5 509,-64.5 509,-28.5 317,-28.5\"/>\n<text text-anchor=\"middle\" x=\"328.5\" y=\"-42.8\" font-family=\"Times,serif\" font-size=\"14.00\">c</text>\n<polyline fill=\"none\" stroke=\"black\" points=\"340,-28.5 340,-64.5 \"/>\n<text text-anchor=\"middle\" x=\"383.5\" y=\"-42.8\" font-family=\"Times,serif\" font-size=\"14.00\">data 10.0000</text>\n<polyline fill=\"none\" stroke=\"black\" points=\"427,-28.5 427,-64.5 \"/>\n<text text-anchor=\"middle\" x=\"468\" y=\"-42.8\" font-family=\"Times,serif\" font-size=\"14.00\">grad 0.0000</text>\n</g>\n<!-- 136890120416720&#45;&gt;136890117078272+ -->\n<g id=\"edge5\" class=\"edge\">\n<title>136890120416720&#45;&gt;136890117078272+</title>\n<path fill=\"none\" stroke=\"black\" d=\"M509.1,-62.75C518.75,-64.4 528.07,-65.99 536.44,-67.42\"/>\n<polygon fill=\"black\" stroke=\"black\" points=\"536.04,-70.91 546.49,-69.14 537.22,-64.01 536.04,-70.91\"/>\n</g>\n<!-- 136890117070304 -->\n<g id=\"node10\" class=\"node\">\n<title>136890117070304</title>\n<polygon fill=\"none\" stroke=\"black\" points=\"636.5,-0.5 636.5,-36.5 824.5,-36.5 824.5,-0.5 636.5,-0.5\"/>\n<text text-anchor=\"middle\" x=\"647\" y=\"-14.8\" font-family=\"Times,serif\" font-size=\"14.00\">f</text>\n<polyline fill=\"none\" stroke=\"black\" points=\"657.5,-0.5 657.5,-36.5 \"/>\n<text text-anchor=\"middle\" x=\"700\" y=\"-14.8\" font-family=\"Times,serif\" font-size=\"14.00\">data &#45;2.0000</text>\n<polyline fill=\"none\" stroke=\"black\" points=\"742.5,-0.5 742.5,-36.5 \"/>\n<text text-anchor=\"middle\" x=\"783.5\" y=\"-14.8\" font-family=\"Times,serif\" font-size=\"14.00\">grad 4.0000</text>\n</g>\n<!-- 136890117070304&#45;&gt;136890117078656* -->\n<g id=\"edge4\" class=\"edge\">\n<title>136890117070304&#45;&gt;136890117078656*</title>\n<path fill=\"none\" stroke=\"black\" d=\"M824.65,-34.67C834.2,-36.33 843.43,-37.93 851.72,-39.37\"/>\n<polygon fill=\"black\" stroke=\"black\" points=\"851.24,-42.84 861.69,-41.11 852.44,-35.95 851.24,-42.84\"/>\n</g>\n</g>\n</svg>\n",
            "text/plain": [
              "<graphviz.graphs.Digraph at 0x7c8036c93bb0>"
            ]
          },
          "metadata": {},
          "execution_count": 134
        }
      ]
    },
    {
      "cell_type": "code",
      "source": [
        "# dL/dc\n",
        "def lol():\n",
        "\n",
        "  h = 1e-6\n",
        "\n",
        "  a = Value(2.0, label='a')\n",
        "  b = Value(-3.0, label='b')\n",
        "  c = Value(10.0, label='c')\n",
        "  e = a * b; e.label = 'e'\n",
        "  d = e + c; d.label = 'd'\n",
        "  f = Value(-2.0, label='f')\n",
        "  L = d * f; L.label = 'L'\n",
        "  L1 = L.data\n",
        "\n",
        "  a = Value(2.0, label='a')\n",
        "  b = Value(-3.0, label='b')\n",
        "  c = Value(10.0, label='c')\n",
        "  c.data += h\n",
        "  e = a * b; e.label = 'e'\n",
        "  d = e + c; d.label = 'd'\n",
        "  f = Value(-2.0, label='f')\n",
        "  L = d * f; L.label = 'L'\n",
        "  L2 = L.data\n",
        "\n",
        "  print((L2 - L1) / h)\n",
        "\n",
        "lol()"
      ],
      "metadata": {
        "colab": {
          "base_uri": "https://localhost:8080/"
        },
        "id": "vT8p-zCV4Zhk",
        "outputId": "dc74352d-ba6d-4490-b32f-62de1db88fb3"
      },
      "execution_count": 135,
      "outputs": [
        {
          "output_type": "stream",
          "name": "stdout",
          "text": [
            "-1.999999998503199\n"
          ]
        }
      ]
    },
    {
      "cell_type": "code",
      "source": [
        "c.grad = -2.0"
      ],
      "metadata": {
        "id": "s5vTrzlT40Vx"
      },
      "execution_count": 136,
      "outputs": []
    },
    {
      "cell_type": "code",
      "source": [
        "draw_dot(L)"
      ],
      "metadata": {
        "colab": {
          "base_uri": "https://localhost:8080/",
          "height": 249
        },
        "id": "PkrROw0V43QT",
        "outputId": "0e64389b-d330-4a14-cbc3-9c5cb3267e29"
      },
      "execution_count": 137,
      "outputs": [
        {
          "output_type": "execute_result",
          "data": {
            "image/svg+xml": "<?xml version=\"1.0\" encoding=\"UTF-8\" standalone=\"no\"?>\n<!DOCTYPE svg PUBLIC \"-//W3C//DTD SVG 1.1//EN\"\n \"http://www.w3.org/Graphics/SVG/1.1/DTD/svg11.dtd\">\n<!-- Generated by graphviz version 2.43.0 (0)\n -->\n<!-- Title: %3 Pages: 1 -->\n<svg width=\"1153pt\" height=\"156pt\"\n viewBox=\"0.00 0.00 1153.00 156.00\" xmlns=\"http://www.w3.org/2000/svg\" xmlns:xlink=\"http://www.w3.org/1999/xlink\">\n<g id=\"graph0\" class=\"graph\" transform=\"scale(1 1) rotate(0) translate(4 152)\">\n<title>%3</title>\n<polygon fill=\"white\" stroke=\"transparent\" points=\"-4,4 -4,-152 1149,-152 1149,4 -4,4\"/>\n<!-- 136890117078656 -->\n<g id=\"node1\" class=\"node\">\n<title>136890117078656</title>\n<polygon fill=\"none\" stroke=\"black\" points=\"953,-27.5 953,-63.5 1145,-63.5 1145,-27.5 953,-27.5\"/>\n<text text-anchor=\"middle\" x=\"965.5\" y=\"-41.8\" font-family=\"Times,serif\" font-size=\"14.00\">L</text>\n<polyline fill=\"none\" stroke=\"black\" points=\"978,-27.5 978,-63.5 \"/>\n<text text-anchor=\"middle\" x=\"1020.5\" y=\"-41.8\" font-family=\"Times,serif\" font-size=\"14.00\">data &#45;8.0000</text>\n<polyline fill=\"none\" stroke=\"black\" points=\"1063,-27.5 1063,-63.5 \"/>\n<text text-anchor=\"middle\" x=\"1104\" y=\"-41.8\" font-family=\"Times,serif\" font-size=\"14.00\">grad 1.0000</text>\n</g>\n<!-- 136890117078656* -->\n<g id=\"node2\" class=\"node\">\n<title>136890117078656*</title>\n<ellipse fill=\"none\" stroke=\"black\" cx=\"890\" cy=\"-45.5\" rx=\"27\" ry=\"18\"/>\n<text text-anchor=\"middle\" x=\"890\" y=\"-41.8\" font-family=\"Times,serif\" font-size=\"14.00\">*</text>\n</g>\n<!-- 136890117078656*&#45;&gt;136890117078656 -->\n<g id=\"edge1\" class=\"edge\">\n<title>136890117078656*&#45;&gt;136890117078656</title>\n<path fill=\"none\" stroke=\"black\" d=\"M917.28,-45.5C924.78,-45.5 933.44,-45.5 942.67,-45.5\"/>\n<polygon fill=\"black\" stroke=\"black\" points=\"942.87,-49 952.87,-45.5 942.87,-42 942.87,-49\"/>\n</g>\n<!-- 136890118024848 -->\n<g id=\"node3\" class=\"node\">\n<title>136890118024848</title>\n<polygon fill=\"none\" stroke=\"black\" points=\"2.5,-111.5 2.5,-147.5 187.5,-147.5 187.5,-111.5 2.5,-111.5\"/>\n<text text-anchor=\"middle\" x=\"14\" y=\"-125.8\" font-family=\"Times,serif\" font-size=\"14.00\">a</text>\n<polyline fill=\"none\" stroke=\"black\" points=\"25.5,-111.5 25.5,-147.5 \"/>\n<text text-anchor=\"middle\" x=\"65.5\" y=\"-125.8\" font-family=\"Times,serif\" font-size=\"14.00\">data 2.0000</text>\n<polyline fill=\"none\" stroke=\"black\" points=\"105.5,-111.5 105.5,-147.5 \"/>\n<text text-anchor=\"middle\" x=\"146.5\" y=\"-125.8\" font-family=\"Times,serif\" font-size=\"14.00\">grad 0.0000</text>\n</g>\n<!-- 136890117078416* -->\n<g id=\"node8\" class=\"node\">\n<title>136890117078416*</title>\n<ellipse fill=\"none\" stroke=\"black\" cx=\"253\" cy=\"-101.5\" rx=\"27\" ry=\"18\"/>\n<text text-anchor=\"middle\" x=\"253\" y=\"-97.8\" font-family=\"Times,serif\" font-size=\"14.00\">*</text>\n</g>\n<!-- 136890118024848&#45;&gt;136890117078416* -->\n<g id=\"edge6\" class=\"edge\">\n<title>136890118024848&#45;&gt;136890117078416*</title>\n<path fill=\"none\" stroke=\"black\" d=\"M187.65,-113.05C197.94,-111.2 207.91,-109.41 216.81,-107.82\"/>\n<polygon fill=\"black\" stroke=\"black\" points=\"217.48,-111.25 226.71,-106.04 216.25,-104.36 217.48,-111.25\"/>\n</g>\n<!-- 136890117078272 -->\n<g id=\"node4\" class=\"node\">\n<title>136890117078272</title>\n<polygon fill=\"none\" stroke=\"black\" points=\"638,-55.5 638,-91.5 827,-91.5 827,-55.5 638,-55.5\"/>\n<text text-anchor=\"middle\" x=\"649.5\" y=\"-69.8\" font-family=\"Times,serif\" font-size=\"14.00\">d</text>\n<polyline fill=\"none\" stroke=\"black\" points=\"661,-55.5 661,-91.5 \"/>\n<text text-anchor=\"middle\" x=\"701\" y=\"-69.8\" font-family=\"Times,serif\" font-size=\"14.00\">data 4.0000</text>\n<polyline fill=\"none\" stroke=\"black\" points=\"741,-55.5 741,-91.5 \"/>\n<text text-anchor=\"middle\" x=\"784\" y=\"-69.8\" font-family=\"Times,serif\" font-size=\"14.00\">grad &#45;2.0000</text>\n</g>\n<!-- 136890117078272&#45;&gt;136890117078656* -->\n<g id=\"edge8\" class=\"edge\">\n<title>136890117078272&#45;&gt;136890117078656*</title>\n<path fill=\"none\" stroke=\"black\" d=\"M827.1,-56.65C836.4,-54.97 845.38,-53.35 853.49,-51.89\"/>\n<polygon fill=\"black\" stroke=\"black\" points=\"854.37,-55.29 863.59,-50.07 853.13,-48.4 854.37,-55.29\"/>\n</g>\n<!-- 136890117078272+ -->\n<g id=\"node5\" class=\"node\">\n<title>136890117078272+</title>\n<ellipse fill=\"none\" stroke=\"black\" cx=\"575\" cy=\"-73.5\" rx=\"27\" ry=\"18\"/>\n<text text-anchor=\"middle\" x=\"575\" y=\"-69.8\" font-family=\"Times,serif\" font-size=\"14.00\">+</text>\n</g>\n<!-- 136890117078272+&#45;&gt;136890117078272 -->\n<g id=\"edge2\" class=\"edge\">\n<title>136890117078272+&#45;&gt;136890117078272</title>\n<path fill=\"none\" stroke=\"black\" d=\"M602.03,-73.5C609.66,-73.5 618.52,-73.5 627.94,-73.5\"/>\n<polygon fill=\"black\" stroke=\"black\" points=\"627.94,-77 637.94,-73.5 627.94,-70 627.94,-77\"/>\n</g>\n<!-- 136890118021920 -->\n<g id=\"node6\" class=\"node\">\n<title>136890118021920</title>\n<polygon fill=\"none\" stroke=\"black\" points=\"0,-56.5 0,-92.5 190,-92.5 190,-56.5 0,-56.5\"/>\n<text text-anchor=\"middle\" x=\"11.5\" y=\"-70.8\" font-family=\"Times,serif\" font-size=\"14.00\">b</text>\n<polyline fill=\"none\" stroke=\"black\" points=\"23,-56.5 23,-92.5 \"/>\n<text text-anchor=\"middle\" x=\"65.5\" y=\"-70.8\" font-family=\"Times,serif\" font-size=\"14.00\">data &#45;3.0000</text>\n<polyline fill=\"none\" stroke=\"black\" points=\"108,-56.5 108,-92.5 \"/>\n<text text-anchor=\"middle\" x=\"149\" y=\"-70.8\" font-family=\"Times,serif\" font-size=\"14.00\">grad 0.0000</text>\n</g>\n<!-- 136890118021920&#45;&gt;136890117078416* -->\n<g id=\"edge7\" class=\"edge\">\n<title>136890118021920&#45;&gt;136890117078416*</title>\n<path fill=\"none\" stroke=\"black\" d=\"M190.34,-90.83C199.62,-92.44 208.58,-93.99 216.66,-95.38\"/>\n<polygon fill=\"black\" stroke=\"black\" points=\"216.27,-98.87 226.72,-97.12 217.46,-91.97 216.27,-98.87\"/>\n</g>\n<!-- 136890117078416 -->\n<g id=\"node7\" class=\"node\">\n<title>136890117078416</title>\n<polygon fill=\"none\" stroke=\"black\" points=\"317,-83.5 317,-119.5 511,-119.5 511,-83.5 317,-83.5\"/>\n<text text-anchor=\"middle\" x=\"328.5\" y=\"-97.8\" font-family=\"Times,serif\" font-size=\"14.00\">e</text>\n<polyline fill=\"none\" stroke=\"black\" points=\"340,-83.5 340,-119.5 \"/>\n<text text-anchor=\"middle\" x=\"382.5\" y=\"-97.8\" font-family=\"Times,serif\" font-size=\"14.00\">data &#45;6.0000</text>\n<polyline fill=\"none\" stroke=\"black\" points=\"425,-83.5 425,-119.5 \"/>\n<text text-anchor=\"middle\" x=\"468\" y=\"-97.8\" font-family=\"Times,serif\" font-size=\"14.00\">grad &#45;2.0000</text>\n</g>\n<!-- 136890117078416&#45;&gt;136890117078272+ -->\n<g id=\"edge9\" class=\"edge\">\n<title>136890117078416&#45;&gt;136890117078272+</title>\n<path fill=\"none\" stroke=\"black\" d=\"M511.16,-84.57C520.82,-82.87 530.13,-81.23 538.49,-79.75\"/>\n<polygon fill=\"black\" stroke=\"black\" points=\"539.3,-83.17 548.54,-77.98 538.08,-76.27 539.3,-83.17\"/>\n</g>\n<!-- 136890117078416*&#45;&gt;136890117078416 -->\n<g id=\"edge3\" class=\"edge\">\n<title>136890117078416*&#45;&gt;136890117078416</title>\n<path fill=\"none\" stroke=\"black\" d=\"M280.26,-101.5C288.05,-101.5 297.1,-101.5 306.75,-101.5\"/>\n<polygon fill=\"black\" stroke=\"black\" points=\"306.99,-105 316.99,-101.5 306.99,-98 306.99,-105\"/>\n</g>\n<!-- 136890120416720 -->\n<g id=\"node9\" class=\"node\">\n<title>136890120416720</title>\n<polygon fill=\"none\" stroke=\"black\" points=\"316,-28.5 316,-64.5 512,-64.5 512,-28.5 316,-28.5\"/>\n<text text-anchor=\"middle\" x=\"327.5\" y=\"-42.8\" font-family=\"Times,serif\" font-size=\"14.00\">c</text>\n<polyline fill=\"none\" stroke=\"black\" points=\"339,-28.5 339,-64.5 \"/>\n<text text-anchor=\"middle\" x=\"382.5\" y=\"-42.8\" font-family=\"Times,serif\" font-size=\"14.00\">data 10.0000</text>\n<polyline fill=\"none\" stroke=\"black\" points=\"426,-28.5 426,-64.5 \"/>\n<text text-anchor=\"middle\" x=\"469\" y=\"-42.8\" font-family=\"Times,serif\" font-size=\"14.00\">grad &#45;2.0000</text>\n</g>\n<!-- 136890120416720&#45;&gt;136890117078272+ -->\n<g id=\"edge5\" class=\"edge\">\n<title>136890120416720&#45;&gt;136890117078272+</title>\n<path fill=\"none\" stroke=\"black\" d=\"M512.07,-62.98C521.42,-64.57 530.43,-66.1 538.55,-67.48\"/>\n<polygon fill=\"black\" stroke=\"black\" points=\"538.21,-70.97 548.65,-69.2 539.38,-64.07 538.21,-70.97\"/>\n</g>\n<!-- 136890117070304 -->\n<g id=\"node10\" class=\"node\">\n<title>136890117070304</title>\n<polygon fill=\"none\" stroke=\"black\" points=\"638.5,-0.5 638.5,-36.5 826.5,-36.5 826.5,-0.5 638.5,-0.5\"/>\n<text text-anchor=\"middle\" x=\"649\" y=\"-14.8\" font-family=\"Times,serif\" font-size=\"14.00\">f</text>\n<polyline fill=\"none\" stroke=\"black\" points=\"659.5,-0.5 659.5,-36.5 \"/>\n<text text-anchor=\"middle\" x=\"702\" y=\"-14.8\" font-family=\"Times,serif\" font-size=\"14.00\">data &#45;2.0000</text>\n<polyline fill=\"none\" stroke=\"black\" points=\"744.5,-0.5 744.5,-36.5 \"/>\n<text text-anchor=\"middle\" x=\"785.5\" y=\"-14.8\" font-family=\"Times,serif\" font-size=\"14.00\">grad 4.0000</text>\n</g>\n<!-- 136890117070304&#45;&gt;136890117078656* -->\n<g id=\"edge4\" class=\"edge\">\n<title>136890117070304&#45;&gt;136890117078656*</title>\n<path fill=\"none\" stroke=\"black\" d=\"M826.65,-34.67C836.2,-36.33 845.43,-37.93 853.72,-39.37\"/>\n<polygon fill=\"black\" stroke=\"black\" points=\"853.24,-42.84 863.69,-41.11 854.44,-35.95 853.24,-42.84\"/>\n</g>\n</g>\n</svg>\n",
            "text/plain": [
              "<graphviz.graphs.Digraph at 0x7c8036c46f20>"
            ]
          },
          "metadata": {},
          "execution_count": 137
        }
      ]
    },
    {
      "cell_type": "code",
      "source": [
        "# dL/da\n",
        "def lol():\n",
        "\n",
        "  h = 1e-6\n",
        "\n",
        "  a = Value(2.0, label='a')\n",
        "  b = Value(-3.0, label='b')\n",
        "  c = Value(10.0, label='c')\n",
        "  e = a * b; e.label = 'e'\n",
        "  d = e + c; d.label = 'd'\n",
        "  f = Value(-2.0, label='f')\n",
        "  L = d * f; L.label = 'L'\n",
        "  L1 = L.data\n",
        "\n",
        "  a = Value(2.0, label='a')\n",
        "  a.data += h\n",
        "  b = Value(-3.0, label='b')\n",
        "  c = Value(10.0, label='c')\n",
        "  e = a * b; e.label = 'e'\n",
        "  d = e + c; d.label = 'd'\n",
        "  f = Value(-2.0, label='f')\n",
        "  L = d * f; L.label = 'L'\n",
        "  L2 = L.data\n",
        "\n",
        "  print((L2 - L1) / h)\n",
        "\n",
        "lol()"
      ],
      "metadata": {
        "colab": {
          "base_uri": "https://localhost:8080/"
        },
        "id": "-5m8xurM44of",
        "outputId": "b36543c2-af0b-49d8-aec8-b1f917ff6e9a"
      },
      "execution_count": 139,
      "outputs": [
        {
          "output_type": "stream",
          "name": "stdout",
          "text": [
            "6.000000000838668\n"
          ]
        }
      ]
    },
    {
      "cell_type": "code",
      "source": [
        "a.grad = 6.0"
      ],
      "metadata": {
        "id": "mlos6uMK5DPJ"
      },
      "execution_count": 140,
      "outputs": []
    },
    {
      "cell_type": "code",
      "source": [
        "draw_dot(L)"
      ],
      "metadata": {
        "colab": {
          "base_uri": "https://localhost:8080/",
          "height": 249
        },
        "id": "42LXoOCe5MbT",
        "outputId": "656053c1-6fe5-4555-f396-cb6f3141a7d6"
      },
      "execution_count": 141,
      "outputs": [
        {
          "output_type": "execute_result",
          "data": {
            "image/svg+xml": "<?xml version=\"1.0\" encoding=\"UTF-8\" standalone=\"no\"?>\n<!DOCTYPE svg PUBLIC \"-//W3C//DTD SVG 1.1//EN\"\n \"http://www.w3.org/Graphics/SVG/1.1/DTD/svg11.dtd\">\n<!-- Generated by graphviz version 2.43.0 (0)\n -->\n<!-- Title: %3 Pages: 1 -->\n<svg width=\"1153pt\" height=\"156pt\"\n viewBox=\"0.00 0.00 1153.00 156.00\" xmlns=\"http://www.w3.org/2000/svg\" xmlns:xlink=\"http://www.w3.org/1999/xlink\">\n<g id=\"graph0\" class=\"graph\" transform=\"scale(1 1) rotate(0) translate(4 152)\">\n<title>%3</title>\n<polygon fill=\"white\" stroke=\"transparent\" points=\"-4,4 -4,-152 1149,-152 1149,4 -4,4\"/>\n<!-- 136890117078656 -->\n<g id=\"node1\" class=\"node\">\n<title>136890117078656</title>\n<polygon fill=\"none\" stroke=\"black\" points=\"953,-27.5 953,-63.5 1145,-63.5 1145,-27.5 953,-27.5\"/>\n<text text-anchor=\"middle\" x=\"965.5\" y=\"-41.8\" font-family=\"Times,serif\" font-size=\"14.00\">L</text>\n<polyline fill=\"none\" stroke=\"black\" points=\"978,-27.5 978,-63.5 \"/>\n<text text-anchor=\"middle\" x=\"1020.5\" y=\"-41.8\" font-family=\"Times,serif\" font-size=\"14.00\">data &#45;8.0000</text>\n<polyline fill=\"none\" stroke=\"black\" points=\"1063,-27.5 1063,-63.5 \"/>\n<text text-anchor=\"middle\" x=\"1104\" y=\"-41.8\" font-family=\"Times,serif\" font-size=\"14.00\">grad 1.0000</text>\n</g>\n<!-- 136890117078656* -->\n<g id=\"node2\" class=\"node\">\n<title>136890117078656*</title>\n<ellipse fill=\"none\" stroke=\"black\" cx=\"890\" cy=\"-45.5\" rx=\"27\" ry=\"18\"/>\n<text text-anchor=\"middle\" x=\"890\" y=\"-41.8\" font-family=\"Times,serif\" font-size=\"14.00\">*</text>\n</g>\n<!-- 136890117078656*&#45;&gt;136890117078656 -->\n<g id=\"edge1\" class=\"edge\">\n<title>136890117078656*&#45;&gt;136890117078656</title>\n<path fill=\"none\" stroke=\"black\" d=\"M917.28,-45.5C924.78,-45.5 933.44,-45.5 942.67,-45.5\"/>\n<polygon fill=\"black\" stroke=\"black\" points=\"942.87,-49 952.87,-45.5 942.87,-42 942.87,-49\"/>\n</g>\n<!-- 136890118024848 -->\n<g id=\"node3\" class=\"node\">\n<title>136890118024848</title>\n<polygon fill=\"none\" stroke=\"black\" points=\"2.5,-111.5 2.5,-147.5 187.5,-147.5 187.5,-111.5 2.5,-111.5\"/>\n<text text-anchor=\"middle\" x=\"14\" y=\"-125.8\" font-family=\"Times,serif\" font-size=\"14.00\">a</text>\n<polyline fill=\"none\" stroke=\"black\" points=\"25.5,-111.5 25.5,-147.5 \"/>\n<text text-anchor=\"middle\" x=\"65.5\" y=\"-125.8\" font-family=\"Times,serif\" font-size=\"14.00\">data 2.0000</text>\n<polyline fill=\"none\" stroke=\"black\" points=\"105.5,-111.5 105.5,-147.5 \"/>\n<text text-anchor=\"middle\" x=\"146.5\" y=\"-125.8\" font-family=\"Times,serif\" font-size=\"14.00\">grad 6.0000</text>\n</g>\n<!-- 136890117078416* -->\n<g id=\"node8\" class=\"node\">\n<title>136890117078416*</title>\n<ellipse fill=\"none\" stroke=\"black\" cx=\"253\" cy=\"-101.5\" rx=\"27\" ry=\"18\"/>\n<text text-anchor=\"middle\" x=\"253\" y=\"-97.8\" font-family=\"Times,serif\" font-size=\"14.00\">*</text>\n</g>\n<!-- 136890118024848&#45;&gt;136890117078416* -->\n<g id=\"edge6\" class=\"edge\">\n<title>136890118024848&#45;&gt;136890117078416*</title>\n<path fill=\"none\" stroke=\"black\" d=\"M187.65,-113.05C197.94,-111.2 207.91,-109.41 216.81,-107.82\"/>\n<polygon fill=\"black\" stroke=\"black\" points=\"217.48,-111.25 226.71,-106.04 216.25,-104.36 217.48,-111.25\"/>\n</g>\n<!-- 136890117078272 -->\n<g id=\"node4\" class=\"node\">\n<title>136890117078272</title>\n<polygon fill=\"none\" stroke=\"black\" points=\"638,-55.5 638,-91.5 827,-91.5 827,-55.5 638,-55.5\"/>\n<text text-anchor=\"middle\" x=\"649.5\" y=\"-69.8\" font-family=\"Times,serif\" font-size=\"14.00\">d</text>\n<polyline fill=\"none\" stroke=\"black\" points=\"661,-55.5 661,-91.5 \"/>\n<text text-anchor=\"middle\" x=\"701\" y=\"-69.8\" font-family=\"Times,serif\" font-size=\"14.00\">data 4.0000</text>\n<polyline fill=\"none\" stroke=\"black\" points=\"741,-55.5 741,-91.5 \"/>\n<text text-anchor=\"middle\" x=\"784\" y=\"-69.8\" font-family=\"Times,serif\" font-size=\"14.00\">grad &#45;2.0000</text>\n</g>\n<!-- 136890117078272&#45;&gt;136890117078656* -->\n<g id=\"edge8\" class=\"edge\">\n<title>136890117078272&#45;&gt;136890117078656*</title>\n<path fill=\"none\" stroke=\"black\" d=\"M827.1,-56.65C836.4,-54.97 845.38,-53.35 853.49,-51.89\"/>\n<polygon fill=\"black\" stroke=\"black\" points=\"854.37,-55.29 863.59,-50.07 853.13,-48.4 854.37,-55.29\"/>\n</g>\n<!-- 136890117078272+ -->\n<g id=\"node5\" class=\"node\">\n<title>136890117078272+</title>\n<ellipse fill=\"none\" stroke=\"black\" cx=\"575\" cy=\"-73.5\" rx=\"27\" ry=\"18\"/>\n<text text-anchor=\"middle\" x=\"575\" y=\"-69.8\" font-family=\"Times,serif\" font-size=\"14.00\">+</text>\n</g>\n<!-- 136890117078272+&#45;&gt;136890117078272 -->\n<g id=\"edge2\" class=\"edge\">\n<title>136890117078272+&#45;&gt;136890117078272</title>\n<path fill=\"none\" stroke=\"black\" d=\"M602.03,-73.5C609.66,-73.5 618.52,-73.5 627.94,-73.5\"/>\n<polygon fill=\"black\" stroke=\"black\" points=\"627.94,-77 637.94,-73.5 627.94,-70 627.94,-77\"/>\n</g>\n<!-- 136890118021920 -->\n<g id=\"node6\" class=\"node\">\n<title>136890118021920</title>\n<polygon fill=\"none\" stroke=\"black\" points=\"0,-56.5 0,-92.5 190,-92.5 190,-56.5 0,-56.5\"/>\n<text text-anchor=\"middle\" x=\"11.5\" y=\"-70.8\" font-family=\"Times,serif\" font-size=\"14.00\">b</text>\n<polyline fill=\"none\" stroke=\"black\" points=\"23,-56.5 23,-92.5 \"/>\n<text text-anchor=\"middle\" x=\"65.5\" y=\"-70.8\" font-family=\"Times,serif\" font-size=\"14.00\">data &#45;3.0000</text>\n<polyline fill=\"none\" stroke=\"black\" points=\"108,-56.5 108,-92.5 \"/>\n<text text-anchor=\"middle\" x=\"149\" y=\"-70.8\" font-family=\"Times,serif\" font-size=\"14.00\">grad 0.0000</text>\n</g>\n<!-- 136890118021920&#45;&gt;136890117078416* -->\n<g id=\"edge7\" class=\"edge\">\n<title>136890118021920&#45;&gt;136890117078416*</title>\n<path fill=\"none\" stroke=\"black\" d=\"M190.34,-90.83C199.62,-92.44 208.58,-93.99 216.66,-95.38\"/>\n<polygon fill=\"black\" stroke=\"black\" points=\"216.27,-98.87 226.72,-97.12 217.46,-91.97 216.27,-98.87\"/>\n</g>\n<!-- 136890117078416 -->\n<g id=\"node7\" class=\"node\">\n<title>136890117078416</title>\n<polygon fill=\"none\" stroke=\"black\" points=\"317,-83.5 317,-119.5 511,-119.5 511,-83.5 317,-83.5\"/>\n<text text-anchor=\"middle\" x=\"328.5\" y=\"-97.8\" font-family=\"Times,serif\" font-size=\"14.00\">e</text>\n<polyline fill=\"none\" stroke=\"black\" points=\"340,-83.5 340,-119.5 \"/>\n<text text-anchor=\"middle\" x=\"382.5\" y=\"-97.8\" font-family=\"Times,serif\" font-size=\"14.00\">data &#45;6.0000</text>\n<polyline fill=\"none\" stroke=\"black\" points=\"425,-83.5 425,-119.5 \"/>\n<text text-anchor=\"middle\" x=\"468\" y=\"-97.8\" font-family=\"Times,serif\" font-size=\"14.00\">grad &#45;2.0000</text>\n</g>\n<!-- 136890117078416&#45;&gt;136890117078272+ -->\n<g id=\"edge9\" class=\"edge\">\n<title>136890117078416&#45;&gt;136890117078272+</title>\n<path fill=\"none\" stroke=\"black\" d=\"M511.16,-84.57C520.82,-82.87 530.13,-81.23 538.49,-79.75\"/>\n<polygon fill=\"black\" stroke=\"black\" points=\"539.3,-83.17 548.54,-77.98 538.08,-76.27 539.3,-83.17\"/>\n</g>\n<!-- 136890117078416*&#45;&gt;136890117078416 -->\n<g id=\"edge3\" class=\"edge\">\n<title>136890117078416*&#45;&gt;136890117078416</title>\n<path fill=\"none\" stroke=\"black\" d=\"M280.26,-101.5C288.05,-101.5 297.1,-101.5 306.75,-101.5\"/>\n<polygon fill=\"black\" stroke=\"black\" points=\"306.99,-105 316.99,-101.5 306.99,-98 306.99,-105\"/>\n</g>\n<!-- 136890120416720 -->\n<g id=\"node9\" class=\"node\">\n<title>136890120416720</title>\n<polygon fill=\"none\" stroke=\"black\" points=\"316,-28.5 316,-64.5 512,-64.5 512,-28.5 316,-28.5\"/>\n<text text-anchor=\"middle\" x=\"327.5\" y=\"-42.8\" font-family=\"Times,serif\" font-size=\"14.00\">c</text>\n<polyline fill=\"none\" stroke=\"black\" points=\"339,-28.5 339,-64.5 \"/>\n<text text-anchor=\"middle\" x=\"382.5\" y=\"-42.8\" font-family=\"Times,serif\" font-size=\"14.00\">data 10.0000</text>\n<polyline fill=\"none\" stroke=\"black\" points=\"426,-28.5 426,-64.5 \"/>\n<text text-anchor=\"middle\" x=\"469\" y=\"-42.8\" font-family=\"Times,serif\" font-size=\"14.00\">grad &#45;2.0000</text>\n</g>\n<!-- 136890120416720&#45;&gt;136890117078272+ -->\n<g id=\"edge5\" class=\"edge\">\n<title>136890120416720&#45;&gt;136890117078272+</title>\n<path fill=\"none\" stroke=\"black\" d=\"M512.07,-62.98C521.42,-64.57 530.43,-66.1 538.55,-67.48\"/>\n<polygon fill=\"black\" stroke=\"black\" points=\"538.21,-70.97 548.65,-69.2 539.38,-64.07 538.21,-70.97\"/>\n</g>\n<!-- 136890117070304 -->\n<g id=\"node10\" class=\"node\">\n<title>136890117070304</title>\n<polygon fill=\"none\" stroke=\"black\" points=\"638.5,-0.5 638.5,-36.5 826.5,-36.5 826.5,-0.5 638.5,-0.5\"/>\n<text text-anchor=\"middle\" x=\"649\" y=\"-14.8\" font-family=\"Times,serif\" font-size=\"14.00\">f</text>\n<polyline fill=\"none\" stroke=\"black\" points=\"659.5,-0.5 659.5,-36.5 \"/>\n<text text-anchor=\"middle\" x=\"702\" y=\"-14.8\" font-family=\"Times,serif\" font-size=\"14.00\">data &#45;2.0000</text>\n<polyline fill=\"none\" stroke=\"black\" points=\"744.5,-0.5 744.5,-36.5 \"/>\n<text text-anchor=\"middle\" x=\"785.5\" y=\"-14.8\" font-family=\"Times,serif\" font-size=\"14.00\">grad 4.0000</text>\n</g>\n<!-- 136890117070304&#45;&gt;136890117078656* -->\n<g id=\"edge4\" class=\"edge\">\n<title>136890117070304&#45;&gt;136890117078656*</title>\n<path fill=\"none\" stroke=\"black\" d=\"M826.65,-34.67C836.2,-36.33 845.43,-37.93 853.72,-39.37\"/>\n<polygon fill=\"black\" stroke=\"black\" points=\"853.24,-42.84 863.69,-41.11 854.44,-35.95 853.24,-42.84\"/>\n</g>\n</g>\n</svg>\n",
            "text/plain": [
              "<graphviz.graphs.Digraph at 0x7c8036c47eb0>"
            ]
          },
          "metadata": {},
          "execution_count": 141
        }
      ]
    },
    {
      "cell_type": "code",
      "source": [
        "# dL/db\n",
        "def lol():\n",
        "\n",
        "  h = 1e-6\n",
        "\n",
        "  a = Value(2.0, label='a')\n",
        "  b = Value(-3.0, label='b')\n",
        "  c = Value(10.0, label='c')\n",
        "  e = a * b; e.label = 'e'\n",
        "  d = e + c; d.label = 'd'\n",
        "  f = Value(-2.0, label='f')\n",
        "  L = d * f; L.label = 'L'\n",
        "  L1 = L.data\n",
        "\n",
        "  a = Value(2.0, label='a')\n",
        "  b = Value(-3.0, label='b')\n",
        "  b.data += h\n",
        "  c = Value(10.0, label='c')\n",
        "  e = a * b; e.label = 'e'\n",
        "  d = e + c; d.label = 'd'\n",
        "  f = Value(-2.0, label='f')\n",
        "  L = d * f; L.label = 'L'\n",
        "  L2 = L.data\n",
        "\n",
        "  print((L2 - L1) / h)\n",
        "\n",
        "lol()"
      ],
      "metadata": {
        "colab": {
          "base_uri": "https://localhost:8080/"
        },
        "id": "1706L3vU5RAC",
        "outputId": "efc1dcb0-36b8-4170-c798-8543ea935d49"
      },
      "execution_count": 142,
      "outputs": [
        {
          "output_type": "stream",
          "name": "stdout",
          "text": [
            "-4.000000000559112\n"
          ]
        }
      ]
    },
    {
      "cell_type": "code",
      "source": [
        "b.data = -2.0"
      ],
      "metadata": {
        "id": "1guD5xvr5Z5W"
      },
      "execution_count": 143,
      "outputs": []
    },
    {
      "cell_type": "code",
      "source": [
        "draw_dot(L)"
      ],
      "metadata": {
        "colab": {
          "base_uri": "https://localhost:8080/",
          "height": 249
        },
        "id": "lrB015nc5dl5",
        "outputId": "d480ee5d-d224-4e7e-e402-14ff44731727"
      },
      "execution_count": 144,
      "outputs": [
        {
          "output_type": "execute_result",
          "data": {
            "image/svg+xml": "<?xml version=\"1.0\" encoding=\"UTF-8\" standalone=\"no\"?>\n<!DOCTYPE svg PUBLIC \"-//W3C//DTD SVG 1.1//EN\"\n \"http://www.w3.org/Graphics/SVG/1.1/DTD/svg11.dtd\">\n<!-- Generated by graphviz version 2.43.0 (0)\n -->\n<!-- Title: %3 Pages: 1 -->\n<svg width=\"1153pt\" height=\"156pt\"\n viewBox=\"0.00 0.00 1153.00 156.00\" xmlns=\"http://www.w3.org/2000/svg\" xmlns:xlink=\"http://www.w3.org/1999/xlink\">\n<g id=\"graph0\" class=\"graph\" transform=\"scale(1 1) rotate(0) translate(4 152)\">\n<title>%3</title>\n<polygon fill=\"white\" stroke=\"transparent\" points=\"-4,4 -4,-152 1149,-152 1149,4 -4,4\"/>\n<!-- 136890117078656 -->\n<g id=\"node1\" class=\"node\">\n<title>136890117078656</title>\n<polygon fill=\"none\" stroke=\"black\" points=\"953,-27.5 953,-63.5 1145,-63.5 1145,-27.5 953,-27.5\"/>\n<text text-anchor=\"middle\" x=\"965.5\" y=\"-41.8\" font-family=\"Times,serif\" font-size=\"14.00\">L</text>\n<polyline fill=\"none\" stroke=\"black\" points=\"978,-27.5 978,-63.5 \"/>\n<text text-anchor=\"middle\" x=\"1020.5\" y=\"-41.8\" font-family=\"Times,serif\" font-size=\"14.00\">data &#45;8.0000</text>\n<polyline fill=\"none\" stroke=\"black\" points=\"1063,-27.5 1063,-63.5 \"/>\n<text text-anchor=\"middle\" x=\"1104\" y=\"-41.8\" font-family=\"Times,serif\" font-size=\"14.00\">grad 1.0000</text>\n</g>\n<!-- 136890117078656* -->\n<g id=\"node2\" class=\"node\">\n<title>136890117078656*</title>\n<ellipse fill=\"none\" stroke=\"black\" cx=\"890\" cy=\"-45.5\" rx=\"27\" ry=\"18\"/>\n<text text-anchor=\"middle\" x=\"890\" y=\"-41.8\" font-family=\"Times,serif\" font-size=\"14.00\">*</text>\n</g>\n<!-- 136890117078656*&#45;&gt;136890117078656 -->\n<g id=\"edge1\" class=\"edge\">\n<title>136890117078656*&#45;&gt;136890117078656</title>\n<path fill=\"none\" stroke=\"black\" d=\"M917.28,-45.5C924.78,-45.5 933.44,-45.5 942.67,-45.5\"/>\n<polygon fill=\"black\" stroke=\"black\" points=\"942.87,-49 952.87,-45.5 942.87,-42 942.87,-49\"/>\n</g>\n<!-- 136890118024848 -->\n<g id=\"node3\" class=\"node\">\n<title>136890118024848</title>\n<polygon fill=\"none\" stroke=\"black\" points=\"2.5,-111.5 2.5,-147.5 187.5,-147.5 187.5,-111.5 2.5,-111.5\"/>\n<text text-anchor=\"middle\" x=\"14\" y=\"-125.8\" font-family=\"Times,serif\" font-size=\"14.00\">a</text>\n<polyline fill=\"none\" stroke=\"black\" points=\"25.5,-111.5 25.5,-147.5 \"/>\n<text text-anchor=\"middle\" x=\"65.5\" y=\"-125.8\" font-family=\"Times,serif\" font-size=\"14.00\">data 2.0000</text>\n<polyline fill=\"none\" stroke=\"black\" points=\"105.5,-111.5 105.5,-147.5 \"/>\n<text text-anchor=\"middle\" x=\"146.5\" y=\"-125.8\" font-family=\"Times,serif\" font-size=\"14.00\">grad 6.0000</text>\n</g>\n<!-- 136890117078416* -->\n<g id=\"node8\" class=\"node\">\n<title>136890117078416*</title>\n<ellipse fill=\"none\" stroke=\"black\" cx=\"253\" cy=\"-101.5\" rx=\"27\" ry=\"18\"/>\n<text text-anchor=\"middle\" x=\"253\" y=\"-97.8\" font-family=\"Times,serif\" font-size=\"14.00\">*</text>\n</g>\n<!-- 136890118024848&#45;&gt;136890117078416* -->\n<g id=\"edge6\" class=\"edge\">\n<title>136890118024848&#45;&gt;136890117078416*</title>\n<path fill=\"none\" stroke=\"black\" d=\"M187.65,-113.05C197.94,-111.2 207.91,-109.41 216.81,-107.82\"/>\n<polygon fill=\"black\" stroke=\"black\" points=\"217.48,-111.25 226.71,-106.04 216.25,-104.36 217.48,-111.25\"/>\n</g>\n<!-- 136890117078272 -->\n<g id=\"node4\" class=\"node\">\n<title>136890117078272</title>\n<polygon fill=\"none\" stroke=\"black\" points=\"638,-55.5 638,-91.5 827,-91.5 827,-55.5 638,-55.5\"/>\n<text text-anchor=\"middle\" x=\"649.5\" y=\"-69.8\" font-family=\"Times,serif\" font-size=\"14.00\">d</text>\n<polyline fill=\"none\" stroke=\"black\" points=\"661,-55.5 661,-91.5 \"/>\n<text text-anchor=\"middle\" x=\"701\" y=\"-69.8\" font-family=\"Times,serif\" font-size=\"14.00\">data 4.0000</text>\n<polyline fill=\"none\" stroke=\"black\" points=\"741,-55.5 741,-91.5 \"/>\n<text text-anchor=\"middle\" x=\"784\" y=\"-69.8\" font-family=\"Times,serif\" font-size=\"14.00\">grad &#45;2.0000</text>\n</g>\n<!-- 136890117078272&#45;&gt;136890117078656* -->\n<g id=\"edge8\" class=\"edge\">\n<title>136890117078272&#45;&gt;136890117078656*</title>\n<path fill=\"none\" stroke=\"black\" d=\"M827.1,-56.65C836.4,-54.97 845.38,-53.35 853.49,-51.89\"/>\n<polygon fill=\"black\" stroke=\"black\" points=\"854.37,-55.29 863.59,-50.07 853.13,-48.4 854.37,-55.29\"/>\n</g>\n<!-- 136890117078272+ -->\n<g id=\"node5\" class=\"node\">\n<title>136890117078272+</title>\n<ellipse fill=\"none\" stroke=\"black\" cx=\"575\" cy=\"-73.5\" rx=\"27\" ry=\"18\"/>\n<text text-anchor=\"middle\" x=\"575\" y=\"-69.8\" font-family=\"Times,serif\" font-size=\"14.00\">+</text>\n</g>\n<!-- 136890117078272+&#45;&gt;136890117078272 -->\n<g id=\"edge2\" class=\"edge\">\n<title>136890117078272+&#45;&gt;136890117078272</title>\n<path fill=\"none\" stroke=\"black\" d=\"M602.03,-73.5C609.66,-73.5 618.52,-73.5 627.94,-73.5\"/>\n<polygon fill=\"black\" stroke=\"black\" points=\"627.94,-77 637.94,-73.5 627.94,-70 627.94,-77\"/>\n</g>\n<!-- 136890118021920 -->\n<g id=\"node6\" class=\"node\">\n<title>136890118021920</title>\n<polygon fill=\"none\" stroke=\"black\" points=\"0,-56.5 0,-92.5 190,-92.5 190,-56.5 0,-56.5\"/>\n<text text-anchor=\"middle\" x=\"11.5\" y=\"-70.8\" font-family=\"Times,serif\" font-size=\"14.00\">b</text>\n<polyline fill=\"none\" stroke=\"black\" points=\"23,-56.5 23,-92.5 \"/>\n<text text-anchor=\"middle\" x=\"65.5\" y=\"-70.8\" font-family=\"Times,serif\" font-size=\"14.00\">data &#45;2.0000</text>\n<polyline fill=\"none\" stroke=\"black\" points=\"108,-56.5 108,-92.5 \"/>\n<text text-anchor=\"middle\" x=\"149\" y=\"-70.8\" font-family=\"Times,serif\" font-size=\"14.00\">grad 0.0000</text>\n</g>\n<!-- 136890118021920&#45;&gt;136890117078416* -->\n<g id=\"edge7\" class=\"edge\">\n<title>136890118021920&#45;&gt;136890117078416*</title>\n<path fill=\"none\" stroke=\"black\" d=\"M190.34,-90.83C199.62,-92.44 208.58,-93.99 216.66,-95.38\"/>\n<polygon fill=\"black\" stroke=\"black\" points=\"216.27,-98.87 226.72,-97.12 217.46,-91.97 216.27,-98.87\"/>\n</g>\n<!-- 136890117078416 -->\n<g id=\"node7\" class=\"node\">\n<title>136890117078416</title>\n<polygon fill=\"none\" stroke=\"black\" points=\"317,-83.5 317,-119.5 511,-119.5 511,-83.5 317,-83.5\"/>\n<text text-anchor=\"middle\" x=\"328.5\" y=\"-97.8\" font-family=\"Times,serif\" font-size=\"14.00\">e</text>\n<polyline fill=\"none\" stroke=\"black\" points=\"340,-83.5 340,-119.5 \"/>\n<text text-anchor=\"middle\" x=\"382.5\" y=\"-97.8\" font-family=\"Times,serif\" font-size=\"14.00\">data &#45;6.0000</text>\n<polyline fill=\"none\" stroke=\"black\" points=\"425,-83.5 425,-119.5 \"/>\n<text text-anchor=\"middle\" x=\"468\" y=\"-97.8\" font-family=\"Times,serif\" font-size=\"14.00\">grad &#45;2.0000</text>\n</g>\n<!-- 136890117078416&#45;&gt;136890117078272+ -->\n<g id=\"edge9\" class=\"edge\">\n<title>136890117078416&#45;&gt;136890117078272+</title>\n<path fill=\"none\" stroke=\"black\" d=\"M511.16,-84.57C520.82,-82.87 530.13,-81.23 538.49,-79.75\"/>\n<polygon fill=\"black\" stroke=\"black\" points=\"539.3,-83.17 548.54,-77.98 538.08,-76.27 539.3,-83.17\"/>\n</g>\n<!-- 136890117078416*&#45;&gt;136890117078416 -->\n<g id=\"edge3\" class=\"edge\">\n<title>136890117078416*&#45;&gt;136890117078416</title>\n<path fill=\"none\" stroke=\"black\" d=\"M280.26,-101.5C288.05,-101.5 297.1,-101.5 306.75,-101.5\"/>\n<polygon fill=\"black\" stroke=\"black\" points=\"306.99,-105 316.99,-101.5 306.99,-98 306.99,-105\"/>\n</g>\n<!-- 136890120416720 -->\n<g id=\"node9\" class=\"node\">\n<title>136890120416720</title>\n<polygon fill=\"none\" stroke=\"black\" points=\"316,-28.5 316,-64.5 512,-64.5 512,-28.5 316,-28.5\"/>\n<text text-anchor=\"middle\" x=\"327.5\" y=\"-42.8\" font-family=\"Times,serif\" font-size=\"14.00\">c</text>\n<polyline fill=\"none\" stroke=\"black\" points=\"339,-28.5 339,-64.5 \"/>\n<text text-anchor=\"middle\" x=\"382.5\" y=\"-42.8\" font-family=\"Times,serif\" font-size=\"14.00\">data 10.0000</text>\n<polyline fill=\"none\" stroke=\"black\" points=\"426,-28.5 426,-64.5 \"/>\n<text text-anchor=\"middle\" x=\"469\" y=\"-42.8\" font-family=\"Times,serif\" font-size=\"14.00\">grad &#45;2.0000</text>\n</g>\n<!-- 136890120416720&#45;&gt;136890117078272+ -->\n<g id=\"edge5\" class=\"edge\">\n<title>136890120416720&#45;&gt;136890117078272+</title>\n<path fill=\"none\" stroke=\"black\" d=\"M512.07,-62.98C521.42,-64.57 530.43,-66.1 538.55,-67.48\"/>\n<polygon fill=\"black\" stroke=\"black\" points=\"538.21,-70.97 548.65,-69.2 539.38,-64.07 538.21,-70.97\"/>\n</g>\n<!-- 136890117070304 -->\n<g id=\"node10\" class=\"node\">\n<title>136890117070304</title>\n<polygon fill=\"none\" stroke=\"black\" points=\"638.5,-0.5 638.5,-36.5 826.5,-36.5 826.5,-0.5 638.5,-0.5\"/>\n<text text-anchor=\"middle\" x=\"649\" y=\"-14.8\" font-family=\"Times,serif\" font-size=\"14.00\">f</text>\n<polyline fill=\"none\" stroke=\"black\" points=\"659.5,-0.5 659.5,-36.5 \"/>\n<text text-anchor=\"middle\" x=\"702\" y=\"-14.8\" font-family=\"Times,serif\" font-size=\"14.00\">data &#45;2.0000</text>\n<polyline fill=\"none\" stroke=\"black\" points=\"744.5,-0.5 744.5,-36.5 \"/>\n<text text-anchor=\"middle\" x=\"785.5\" y=\"-14.8\" font-family=\"Times,serif\" font-size=\"14.00\">grad 4.0000</text>\n</g>\n<!-- 136890117070304&#45;&gt;136890117078656* -->\n<g id=\"edge4\" class=\"edge\">\n<title>136890117070304&#45;&gt;136890117078656*</title>\n<path fill=\"none\" stroke=\"black\" d=\"M826.65,-34.67C836.2,-36.33 845.43,-37.93 853.72,-39.37\"/>\n<polygon fill=\"black\" stroke=\"black\" points=\"853.24,-42.84 863.69,-41.11 854.44,-35.95 853.24,-42.84\"/>\n</g>\n</g>\n</svg>\n",
            "text/plain": [
              "<graphviz.graphs.Digraph at 0x7c8036c93670>"
            ]
          },
          "metadata": {},
          "execution_count": 144
        }
      ]
    },
    {
      "cell_type": "code",
      "source": [
        "print(f'a = {a}')\n",
        "print(f'b = {b}')\n",
        "print(f'c = {c}')\n",
        "print(f'd = {d}')\n",
        "print(f'e = {e}')\n",
        "print(f'f = {f}')\n",
        "print(f'L = {L}')"
      ],
      "metadata": {
        "colab": {
          "base_uri": "https://localhost:8080/"
        },
        "id": "bYkM2O5h5_Z6",
        "outputId": "dbbf5dcb-2a8d-4852-b0a7-0fee288e5487"
      },
      "execution_count": 145,
      "outputs": [
        {
          "output_type": "stream",
          "name": "stdout",
          "text": [
            "a = Value(data=2.0)\n",
            "b = Value(data=-2.0)\n",
            "c = Value(data=10.0)\n",
            "d = Value(data=4.0)\n",
            "e = Value(data=-6.0)\n",
            "f = Value(data=-2.0)\n",
            "L = Value(data=-8.0)\n"
          ]
        }
      ]
    },
    {
      "cell_type": "code",
      "source": [
        "# var = var - (learning_rate) * dL/dvar\n",
        "# var = var - (learning_rate) * var.grad\n",
        "lr = 0.001\n",
        "a.data -= lr * a.grad\n",
        "b.data -= lr * a.grad\n",
        "c.data -= lr * c.grad\n",
        "d.data -= lr * d.grad\n",
        "e.data -= lr * e.grad\n",
        "f.data -= lr * f.grad"
      ],
      "metadata": {
        "id": "dAbTHPY15fAh"
      },
      "execution_count": 147,
      "outputs": []
    },
    {
      "cell_type": "code",
      "source": [
        "print(f'a = {a}')\n",
        "print(f'b = {b}')\n",
        "print(f'c = {c}')\n",
        "print(f'd = {d}')\n",
        "print(f'e = {e}')\n",
        "print(f'f = {f}')\n",
        "print(f'L = {L}')"
      ],
      "metadata": {
        "colab": {
          "base_uri": "https://localhost:8080/"
        },
        "id": "i2l0YzDu6id_",
        "outputId": "e94f5f90-f197-47fa-92fc-be8f373f213b"
      },
      "execution_count": 148,
      "outputs": [
        {
          "output_type": "stream",
          "name": "stdout",
          "text": [
            "a = Value(data=1.994)\n",
            "b = Value(data=-2.006)\n",
            "c = Value(data=10.002)\n",
            "d = Value(data=4.002)\n",
            "e = Value(data=-5.998)\n",
            "f = Value(data=-2.004)\n",
            "L = Value(data=-8.0)\n"
          ]
        }
      ]
    },
    {
      "cell_type": "code",
      "source": [
        "# One forward pass\n",
        "e = a * b\n",
        "d = e + c\n",
        "L = d * f\n",
        "\n",
        "print(L.data)"
      ],
      "metadata": {
        "colab": {
          "base_uri": "https://localhost:8080/"
        },
        "id": "PsMjXzIZ607I",
        "outputId": "44ad6a36-e54b-4903-8d7f-d3cfe085bdb2"
      },
      "execution_count": 149,
      "outputs": [
        {
          "output_type": "stream",
          "name": "stdout",
          "text": [
            "-12.028080144000002\n"
          ]
        }
      ]
    },
    {
      "cell_type": "code",
      "source": [
        "draw"
      ],
      "metadata": {
        "id": "0uo6mDKR7Ocv"
      },
      "execution_count": null,
      "outputs": []
    }
  ],
  "metadata": {
    "colab": {
      "provenance": []
    },
    "kernelspec": {
      "display_name": "Python 3",
      "name": "python3"
    },
    "language_info": {
      "name": "python"
    }
  },
  "nbformat": 4,
  "nbformat_minor": 0
}