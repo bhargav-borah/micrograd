{
  "cells": [
    {
      "cell_type": "code",
      "execution_count": 269,
      "metadata": {
        "id": "STAwAiG5EZeS"
      },
      "outputs": [],
      "source": [
        "import numpy as np\n",
        "import math\n",
        "import matplotlib.pyplot as plt\n",
        "%matplotlib inline"
      ]
    },
    {
      "cell_type": "code",
      "execution_count": 270,
      "metadata": {
        "id": "yKzY5TdKGon9"
      },
      "outputs": [],
      "source": [
        "def f(x):\n",
        "  return 3*x**2 - 4*x + 5"
      ]
    },
    {
      "cell_type": "code",
      "execution_count": 271,
      "metadata": {
        "colab": {
          "base_uri": "https://localhost:8080/"
        },
        "id": "p7ruINk7Gsbe",
        "outputId": "e1db08ba-6e8e-4e0f-efe0-87e1bb9dbe39"
      },
      "outputs": [
        {
          "output_type": "execute_result",
          "data": {
            "text/plain": [
              "5"
            ]
          },
          "metadata": {},
          "execution_count": 271
        }
      ],
      "source": [
        "f(0)"
      ]
    },
    {
      "cell_type": "code",
      "execution_count": 272,
      "metadata": {
        "colab": {
          "base_uri": "https://localhost:8080/"
        },
        "id": "7NJnZECUGtT-",
        "outputId": "cec9e1b1-c7bd-414c-a2b2-16e2a547f50d"
      },
      "outputs": [
        {
          "output_type": "execute_result",
          "data": {
            "text/plain": [
              "7.0717967697244895"
            ]
          },
          "metadata": {},
          "execution_count": 272
        }
      ],
      "source": [
        "f(math.sqrt(3))"
      ]
    },
    {
      "cell_type": "code",
      "execution_count": 273,
      "metadata": {
        "colab": {
          "base_uri": "https://localhost:8080/"
        },
        "id": "sk_tIAufGyP3",
        "outputId": "c8fa011e-0277-486a-accb-78d446b23931"
      },
      "outputs": [
        {
          "output_type": "execute_result",
          "data": {
            "text/plain": [
              "array([100.    ,  91.6875,  83.75  ,  76.1875,  69.    ,  62.1875,\n",
              "        55.75  ,  49.6875,  44.    ,  38.6875,  33.75  ,  29.1875,\n",
              "        25.    ,  21.1875,  17.75  ,  14.6875,  12.    ,   9.6875,\n",
              "         7.75  ,   6.1875,   5.    ,   4.1875,   3.75  ,   3.6875,\n",
              "         4.    ,   4.6875,   5.75  ,   7.1875,   9.    ,  11.1875,\n",
              "        13.75  ,  16.6875,  20.    ,  23.6875,  27.75  ,  32.1875,\n",
              "        37.    ,  42.1875,  47.75  ,  53.6875])"
            ]
          },
          "metadata": {},
          "execution_count": 273
        }
      ],
      "source": [
        "xs = np.arange(-5, 5, 0.25)\n",
        "ys = f(xs)\n",
        "ys"
      ]
    },
    {
      "cell_type": "code",
      "execution_count": 274,
      "metadata": {
        "colab": {
          "base_uri": "https://localhost:8080/",
          "height": 430
        },
        "id": "ILh-t-IlG-2D",
        "outputId": "bd4edeaa-49cb-4a20-82a6-f11f8937e668"
      },
      "outputs": [
        {
          "output_type": "display_data",
          "data": {
            "text/plain": [
              "<Figure size 640x480 with 1 Axes>"
            ],
            "image/png": "[encoded data removed]"
          },
          "metadata": {}
        }
      ],
      "source": [
        "plt.plot(xs, ys)\n",
        "plt.show()"
      ]
    },
    {
      "cell_type": "code",
      "execution_count": 275,
      "metadata": {
        "colab": {
          "base_uri": "https://localhost:8080/"
        },
        "id": "aGhc64fBHBg_",
        "outputId": "c7f904fb-39c5-45a8-e4f4-cb4beca04468"
      },
      "outputs": [
        {
          "output_type": "execute_result",
          "data": {
            "text/plain": [
              "14.00300000000243"
            ]
          },
          "metadata": {},
          "execution_count": 275
        }
      ],
      "source": [
        "h = 0.001\n",
        "x = 3.0\n",
        "(f(x + h) - f(x)) / h"
      ]
    },
    {
      "cell_type": "code",
      "execution_count": 276,
      "metadata": {
        "colab": {
          "base_uri": "https://localhost:8080/"
        },
        "id": "CXg_aDRRHoMN",
        "outputId": "0be6631d-fa8b-439d-f2a7-2d5391648c85"
      },
      "outputs": [
        {
          "output_type": "execute_result",
          "data": {
            "text/plain": [
              "14.000003002223593"
            ]
          },
          "metadata": {},
          "execution_count": 276
        }
      ],
      "source": [
        "h = 1e-6\n",
        "x = 3.0\n",
        "(f(x + h) - f(x)) / h"
      ]
    },
    {
      "cell_type": "code",
      "execution_count": 277,
      "metadata": {
        "colab": {
          "base_uri": "https://localhost:8080/"
        },
        "id": "ONvJEl-XH6OC",
        "outputId": "256a666e-830e-4aeb-a4f6-c34815a25b42"
      },
      "outputs": [
        {
          "output_type": "execute_result",
          "data": {
            "text/plain": [
              "-21.999997002808414"
            ]
          },
          "metadata": {},
          "execution_count": 277
        }
      ],
      "source": [
        "h = 1e-6\n",
        "x = -3.0\n",
        "(f(x + h) - f(x)) / h"
      ]
    },
    {
      "cell_type": "code",
      "execution_count": 278,
      "metadata": {
        "colab": {
          "base_uri": "https://localhost:8080/"
        },
        "id": "fRg12hegILKK",
        "outputId": "65879143-b65b-4f50-ee22-15ce5250bde1"
      },
      "outputs": [
        {
          "output_type": "execute_result",
          "data": {
            "text/plain": [
              "2.999378523327323e-06"
            ]
          },
          "metadata": {},
          "execution_count": 278
        }
      ],
      "source": [
        "h = 1e-6\n",
        "x = 2 / 3\n",
        "(f(x + h) - f(x)) / h"
      ]
    },
    {
      "cell_type": "code",
      "execution_count": 279,
      "metadata": {
        "colab": {
          "base_uri": "https://localhost:8080/"
        },
        "id": "i2QMUAPyIV6U",
        "outputId": "a4441b90-2e27-45a7-c62d-4a8b5713046a"
      },
      "outputs": [
        {
          "output_type": "stream",
          "name": "stdout",
          "text": [
            "4.0\n"
          ]
        }
      ],
      "source": [
        "a = 2.0\n",
        "b = -3.0\n",
        "c = 10.0\n",
        "d = a * b + c\n",
        "print(d)"
      ]
    },
    {
      "cell_type": "code",
      "execution_count": 280,
      "metadata": {
        "colab": {
          "base_uri": "https://localhost:8080/"
        },
        "id": "jf6-CoVUIg9R",
        "outputId": "8ebcff65-81e5-4ebb-a61a-0424f6c23283"
      },
      "outputs": [
        {
          "output_type": "stream",
          "name": "stdout",
          "text": [
            "d1:  4.0\n",
            "d2:  3.9999969999999996\n",
            "slope:  -3.000000000419334\n"
          ]
        }
      ],
      "source": [
        "h=1e-6\n",
        "\n",
        "# inputs\n",
        "a = 2.0\n",
        "b = -3.0\n",
        "c = 10.0\n",
        "\n",
        "d1 = a * b + c\n",
        "a += h\n",
        "d2 = a * b + c\n",
        "\n",
        "print('d1: ', d1)\n",
        "print('d2: ', d2)\n",
        "print('slope: ', (d2 - d1) / h)"
      ]
    },
    {
      "cell_type": "code",
      "execution_count": 281,
      "metadata": {
        "colab": {
          "base_uri": "https://localhost:8080/"
        },
        "id": "-TP4NhN7I8Bn",
        "outputId": "2b390106-cf4a-44e2-d77d-2e7058589e35"
      },
      "outputs": [
        {
          "output_type": "stream",
          "name": "stdout",
          "text": [
            "d1:  4.0\n",
            "d2:  4.000002\n",
            "slope:  2.000000000279556\n"
          ]
        }
      ],
      "source": [
        "h=1e-6\n",
        "\n",
        "# inputs\n",
        "a = 2.0\n",
        "b = -3.0\n",
        "c = 10.0\n",
        "\n",
        "d1 = a * b + c\n",
        "b += h\n",
        "d2 = a * b + c\n",
        "\n",
        "print('d1: ', d1)\n",
        "print('d2: ', d2)\n",
        "print('slope: ', (d2 - d1) / h)"
      ]
    },
    {
      "cell_type": "code",
      "execution_count": 282,
      "metadata": {
        "colab": {
          "base_uri": "https://localhost:8080/"
        },
        "id": "dq53Ar8cJcPG",
        "outputId": "b3ed6782-aa09-4a27-b0ee-b06fb94f4073"
      },
      "outputs": [
        {
          "output_type": "stream",
          "name": "stdout",
          "text": [
            "d1:  4.0\n",
            "d2:  4.000000999999999\n",
            "slope:  0.9999999992515995\n"
          ]
        }
      ],
      "source": [
        "h=1e-6\n",
        "\n",
        "# inputs\n",
        "a = 2.0\n",
        "b = -3.0\n",
        "c = 10.0\n",
        "\n",
        "d1 = a * b + c\n",
        "c += h\n",
        "d2 = a * b + c\n",
        "\n",
        "print('d1: ', d1)\n",
        "print('d2: ', d2)\n",
        "print('slope: ', (d2 - d1) / h)"
      ]
    },
    {
      "cell_type": "code",
      "execution_count": 283,
      "metadata": {
        "id": "obbLDTWIJrh7"
      },
      "outputs": [],
      "source": [
        "class Value:\n",
        "\n",
        "  def __init__(self, data, _children=(), _op='', label=''):\n",
        "    self.data = data\n",
        "    self.grad = 0\n",
        "    self._prev = set(_children)\n",
        "    self._op = _op\n",
        "    self.label = label\n",
        "\n",
        "  def __repr__(self):\n",
        "    return f\"Value(data={self.data})\"\n",
        "\n",
        "  def __add__(self, other):\n",
        "    output = Value(self.data + other.data, (self, other), '+')\n",
        "    return output\n",
        "\n",
        "  def __mul__(self, other):\n",
        "    output = Value(self.data * other.data, (self, other), '*')\n",
        "    return output\n",
        "\n",
        "  def tanh(self):\n",
        "    x = self.data\n",
        "    t = (math.exp(2*x) - 1) / (math.exp(2*x) + 1)\n",
        "    output = Value(t, (self, ), 'tanh')\n",
        "    return output"
      ]
    },
    {
      "cell_type": "code",
      "execution_count": 284,
      "metadata": {
        "colab": {
          "base_uri": "https://localhost:8080/"
        },
        "id": "1ikdIdOYMSpJ",
        "outputId": "2af27021-a778-4b6d-ada2-e4de45e5e422"
      },
      "outputs": [
        {
          "output_type": "execute_result",
          "data": {
            "text/plain": [
              "Value(data=2.0)"
            ]
          },
          "metadata": {},
          "execution_count": 284
        }
      ],
      "source": [
        "a = Value(2.0, label='a')\n",
        "a"
      ]
    },
    {
      "cell_type": "code",
      "execution_count": 285,
      "metadata": {
        "colab": {
          "base_uri": "https://localhost:8080/"
        },
        "id": "mhV5e5h9MVOZ",
        "outputId": "382d21e1-11f1-4a88-f3f4-de8d17b4a5b5"
      },
      "outputs": [
        {
          "output_type": "execute_result",
          "data": {
            "text/plain": [
              "Value(data=3.0)"
            ]
          },
          "metadata": {},
          "execution_count": 285
        }
      ],
      "source": [
        "b = Value(3.0, label='b')\n",
        "b"
      ]
    },
    {
      "cell_type": "code",
      "execution_count": 286,
      "metadata": {
        "colab": {
          "base_uri": "https://localhost:8080/"
        },
        "id": "VtlSdmBLMb27",
        "outputId": "d058856b-f1ad-4745-c2cc-356f30e35bf2"
      },
      "outputs": [
        {
          "output_type": "execute_result",
          "data": {
            "text/plain": [
              "Value(data=5.0)"
            ]
          },
          "metadata": {},
          "execution_count": 286
        }
      ],
      "source": [
        "a + b"
      ]
    },
    {
      "cell_type": "code",
      "execution_count": 287,
      "metadata": {
        "colab": {
          "base_uri": "https://localhost:8080/"
        },
        "id": "bPxdr0LeMrqM",
        "outputId": "83aac30d-a01c-466f-cc4e-9cdf67f447db"
      },
      "outputs": [
        {
          "output_type": "execute_result",
          "data": {
            "text/plain": [
              "Value(data=6.0)"
            ]
          },
          "metadata": {},
          "execution_count": 287
        }
      ],
      "source": [
        "a * b"
      ]
    },
    {
      "cell_type": "code",
      "execution_count": 288,
      "metadata": {
        "id": "yW8ZtsP8NGU6"
      },
      "outputs": [],
      "source": [
        "c = Value(7.0, label='c')\n",
        "d = a * b + c; d.label = 'd'"
      ]
    },
    {
      "cell_type": "code",
      "execution_count": 289,
      "metadata": {
        "colab": {
          "base_uri": "https://localhost:8080/"
        },
        "id": "z5k-lL-VNiH6",
        "outputId": "984e856a-d97a-453c-e2b1-35eb2f38e185"
      },
      "outputs": [
        {
          "output_type": "execute_result",
          "data": {
            "text/plain": [
              "{Value(data=6.0), Value(data=7.0)}"
            ]
          },
          "metadata": {},
          "execution_count": 289
        }
      ],
      "source": [
        "d._prev"
      ]
    },
    {
      "cell_type": "code",
      "execution_count": 290,
      "metadata": {
        "colab": {
          "base_uri": "https://localhost:8080/",
          "height": 36
        },
        "id": "GsR-ef_oOH2R",
        "outputId": "e9a82dcb-468c-4214-8880-2f0ea8328a9c"
      },
      "outputs": [
        {
          "output_type": "execute_result",
          "data": {
            "text/plain": [
              "'+'"
            ],
            "application/vnd.google.colaboratory.intrinsic+json": {
              "type": "string"
            }
          },
          "metadata": {},
          "execution_count": 290
        }
      ],
      "source": [
        "d._op"
      ]
    },
    {
      "cell_type": "code",
      "execution_count": 291,
      "metadata": {
        "id": "5hgC_61ROcVl"
      },
      "outputs": [],
      "source": [
        "from graphviz import Digraph\n",
        "\n",
        "def trace(root):\n",
        "  # builds a set of all nodes and edges in a graph\n",
        "  nodes, edges = set(), set()\n",
        "  def build(v):\n",
        "    if v not in nodes:\n",
        "      nodes.add(v)\n",
        "      for child in v._prev:\n",
        "        edges.add((child, v))\n",
        "        build(child)\n",
        "  build(root)\n",
        "  return nodes, edges\n",
        "\n",
        "def draw_dot(root):\n",
        "  dot = Digraph(format='svg', graph_attr={'rankdir': 'LR'}) # LR = left to right\n",
        "\n",
        "  nodes, edges = trace(root)\n",
        "  for n in nodes:\n",
        "    uid = str(id(n))\n",
        "    # for any value in the graph, create a rectangular ('record') node for it\n",
        "    dot.node(name = uid, label = \"{ %s | data %.4f | grad %.4f }\" % (n.label, n.data, n.grad), shape='record')\n",
        "    if n._op:\n",
        "      # if this value is a result of some operation, create an op node for it\n",
        "      dot.node(name = uid + n._op, label = n._op)\n",
        "      # and connect this node to it\n",
        "      dot.edge(uid + n._op, uid)\n",
        "\n",
        "  for n1, n2 in edges:\n",
        "    # connect n1 to the op node of n2\n",
        "    dot.edge(str(id(n1)), str(id(n2)) + n2._op)\n",
        "\n",
        "  return dot"
      ]
    },
    {
      "cell_type": "code",
      "execution_count": 292,
      "metadata": {
        "colab": {
          "base_uri": "https://localhost:8080/",
          "height": 210
        },
        "id": "FF4hF1kQPN-o",
        "outputId": "80435c45-df94-4645-ac43-693acb830cc8"
      },
      "outputs": [
        {
          "output_type": "execute_result",
          "data": {
            "image/svg+xml": "<?xml version=\"1.0\" encoding=\"UTF-8\" standalone=\"no\"?>\n<!DOCTYPE svg PUBLIC \"-//W3C//DTD SVG 1.1//EN\"\n \"http://www.w3.org/Graphics/SVG/1.1/DTD/svg11.dtd\">\n<!-- Generated by graphviz version 2.43.0 (0)\n -->\n<!-- Title: %3 Pages: 1 -->\n<svg width=\"822pt\" height=\"127pt\"\n viewBox=\"0.00 0.00 822.00 127.00\" xmlns=\"http://www.w3.org/2000/svg\" xmlns:xlink=\"http://www.w3.org/1999/xlink\">\n<g id=\"graph0\" class=\"graph\" transform=\"scale(1 1) rotate(0) translate(4 123)\">\n<title>%3</title>\n<polygon fill=\"white\" stroke=\"transparent\" points=\"-4,4 -4,-123 818,-123 818,4 -4,4\"/>\n<!-- 137626650069600 -->\n<g id=\"node1\" class=\"node\">\n<title>137626650069600</title>\n<polygon fill=\"none\" stroke=\"black\" points=\"311,-82.5 311,-118.5 496,-118.5 496,-82.5 311,-82.5\"/>\n<text text-anchor=\"middle\" x=\"322.5\" y=\"-96.8\" font-family=\"Times,serif\" font-size=\"14.00\">c</text>\n<polyline fill=\"none\" stroke=\"black\" points=\"334,-82.5 334,-118.5 \"/>\n<text text-anchor=\"middle\" x=\"374\" y=\"-96.8\" font-family=\"Times,serif\" font-size=\"14.00\">data 7.0000</text>\n<polyline fill=\"none\" stroke=\"black\" points=\"414,-82.5 414,-118.5 \"/>\n<text text-anchor=\"middle\" x=\"455\" y=\"-96.8\" font-family=\"Times,serif\" font-size=\"14.00\">grad 0.0000</text>\n</g>\n<!-- 137626650068832+ -->\n<g id=\"node4\" class=\"node\">\n<title>137626650068832+</title>\n<ellipse fill=\"none\" stroke=\"black\" cx=\"559\" cy=\"-72.5\" rx=\"27\" ry=\"18\"/>\n<text text-anchor=\"middle\" x=\"559\" y=\"-68.8\" font-family=\"Times,serif\" font-size=\"14.00\">+</text>\n</g>\n<!-- 137626650069600&#45;&gt;137626650068832+ -->\n<g id=\"edge3\" class=\"edge\">\n<title>137626650069600&#45;&gt;137626650068832+</title>\n<path fill=\"none\" stroke=\"black\" d=\"M496.01,-83.81C505.49,-82.08 514.66,-80.41 522.9,-78.9\"/>\n<polygon fill=\"black\" stroke=\"black\" points=\"523.6,-82.33 532.81,-77.09 522.35,-75.45 523.6,-82.33\"/>\n</g>\n<!-- 137626649935200 -->\n<g id=\"node2\" class=\"node\">\n<title>137626649935200</title>\n<polygon fill=\"none\" stroke=\"black\" points=\"0,-55.5 0,-91.5 185,-91.5 185,-55.5 0,-55.5\"/>\n<text text-anchor=\"middle\" x=\"11.5\" y=\"-69.8\" font-family=\"Times,serif\" font-size=\"14.00\">a</text>\n<polyline fill=\"none\" stroke=\"black\" points=\"23,-55.5 23,-91.5 \"/>\n<text text-anchor=\"middle\" x=\"63\" y=\"-69.8\" font-family=\"Times,serif\" font-size=\"14.00\">data 2.0000</text>\n<polyline fill=\"none\" stroke=\"black\" points=\"103,-55.5 103,-91.5 \"/>\n<text text-anchor=\"middle\" x=\"144\" y=\"-69.8\" font-family=\"Times,serif\" font-size=\"14.00\">grad 0.0000</text>\n</g>\n<!-- 137626649345520* -->\n<g id=\"node7\" class=\"node\">\n<title>137626649345520*</title>\n<ellipse fill=\"none\" stroke=\"black\" cx=\"248\" cy=\"-45.5\" rx=\"27\" ry=\"18\"/>\n<text text-anchor=\"middle\" x=\"248\" y=\"-41.8\" font-family=\"Times,serif\" font-size=\"14.00\">*</text>\n</g>\n<!-- 137626649935200&#45;&gt;137626649345520* -->\n<g id=\"edge4\" class=\"edge\">\n<title>137626649935200&#45;&gt;137626649345520*</title>\n<path fill=\"none\" stroke=\"black\" d=\"M185.01,-56.81C194.49,-55.08 203.66,-53.41 211.9,-51.9\"/>\n<polygon fill=\"black\" stroke=\"black\" points=\"212.6,-55.33 221.81,-50.09 211.35,-48.45 212.6,-55.33\"/>\n</g>\n<!-- 137626650068832 -->\n<g id=\"node3\" class=\"node\">\n<title>137626650068832</title>\n<polygon fill=\"none\" stroke=\"black\" points=\"622,-54.5 622,-90.5 814,-90.5 814,-54.5 622,-54.5\"/>\n<text text-anchor=\"middle\" x=\"633.5\" y=\"-68.8\" font-family=\"Times,serif\" font-size=\"14.00\">d</text>\n<polyline fill=\"none\" stroke=\"black\" points=\"645,-54.5 645,-90.5 \"/>\n<text text-anchor=\"middle\" x=\"688.5\" y=\"-68.8\" font-family=\"Times,serif\" font-size=\"14.00\">data 13.0000</text>\n<polyline fill=\"none\" stroke=\"black\" points=\"732,-54.5 732,-90.5 \"/>\n<text text-anchor=\"middle\" x=\"773\" y=\"-68.8\" font-family=\"Times,serif\" font-size=\"14.00\">grad 0.0000</text>\n</g>\n<!-- 137626650068832+&#45;&gt;137626650068832 -->\n<g id=\"edge1\" class=\"edge\">\n<title>137626650068832+&#45;&gt;137626650068832</title>\n<path fill=\"none\" stroke=\"black\" d=\"M586.28,-72.5C593.78,-72.5 602.44,-72.5 611.67,-72.5\"/>\n<polygon fill=\"black\" stroke=\"black\" points=\"611.87,-76 621.87,-72.5 611.87,-69 611.87,-76\"/>\n</g>\n<!-- 137626649934768 -->\n<g id=\"node5\" class=\"node\">\n<title>137626649934768</title>\n<polygon fill=\"none\" stroke=\"black\" points=\"0,-0.5 0,-36.5 185,-36.5 185,-0.5 0,-0.5\"/>\n<text text-anchor=\"middle\" x=\"11.5\" y=\"-14.8\" font-family=\"Times,serif\" font-size=\"14.00\">b</text>\n<polyline fill=\"none\" stroke=\"black\" points=\"23,-0.5 23,-36.5 \"/>\n<text text-anchor=\"middle\" x=\"63\" y=\"-14.8\" font-family=\"Times,serif\" font-size=\"14.00\">data 3.0000</text>\n<polyline fill=\"none\" stroke=\"black\" points=\"103,-0.5 103,-36.5 \"/>\n<text text-anchor=\"middle\" x=\"144\" y=\"-14.8\" font-family=\"Times,serif\" font-size=\"14.00\">grad 0.0000</text>\n</g>\n<!-- 137626649934768&#45;&gt;137626649345520* -->\n<g id=\"edge5\" class=\"edge\">\n<title>137626649934768&#45;&gt;137626649345520*</title>\n<path fill=\"none\" stroke=\"black\" d=\"M185.01,-34.6C194.49,-36.26 203.66,-37.88 211.9,-39.33\"/>\n<polygon fill=\"black\" stroke=\"black\" points=\"211.36,-42.78 221.81,-41.07 212.57,-35.89 211.36,-42.78\"/>\n</g>\n<!-- 137626649345520 -->\n<g id=\"node6\" class=\"node\">\n<title>137626649345520</title>\n<polygon fill=\"none\" stroke=\"black\" points=\"312.5,-27.5 312.5,-63.5 494.5,-63.5 494.5,-27.5 312.5,-27.5\"/>\n<text text-anchor=\"middle\" x=\"322.5\" y=\"-41.8\" font-family=\"Times,serif\" font-size=\"14.00\"> </text>\n<polyline fill=\"none\" stroke=\"black\" points=\"332.5,-27.5 332.5,-63.5 \"/>\n<text text-anchor=\"middle\" x=\"372.5\" y=\"-41.8\" font-family=\"Times,serif\" font-size=\"14.00\">data 6.0000</text>\n<polyline fill=\"none\" stroke=\"black\" points=\"412.5,-27.5 412.5,-63.5 \"/>\n<text text-anchor=\"middle\" x=\"453.5\" y=\"-41.8\" font-family=\"Times,serif\" font-size=\"14.00\">grad 0.0000</text>\n</g>\n<!-- 137626649345520&#45;&gt;137626650068832+ -->\n<g id=\"edge6\" class=\"edge\">\n<title>137626649345520&#45;&gt;137626650068832+</title>\n<path fill=\"none\" stroke=\"black\" d=\"M494.68,-61.36C504.61,-63.11 514.23,-64.8 522.84,-66.32\"/>\n<polygon fill=\"black\" stroke=\"black\" points=\"522.36,-69.78 532.81,-68.07 523.57,-62.89 522.36,-69.78\"/>\n</g>\n<!-- 137626649345520*&#45;&gt;137626649345520 -->\n<g id=\"edge2\" class=\"edge\">\n<title>137626649345520*&#45;&gt;137626649345520</title>\n<path fill=\"none\" stroke=\"black\" d=\"M275.04,-45.5C283.06,-45.5 292.41,-45.5 302.35,-45.5\"/>\n<polygon fill=\"black\" stroke=\"black\" points=\"302.45,-49 312.45,-45.5 302.45,-42 302.45,-49\"/>\n</g>\n</g>\n</svg>\n",
            "text/plain": [
              "<graphviz.graphs.Digraph at 0x7d2bb396e140>"
            ]
          },
          "metadata": {},
          "execution_count": 292
        }
      ],
      "source": [
        "draw_dot(d)"
      ]
    },
    {
      "cell_type": "code",
      "execution_count": 293,
      "metadata": {
        "id": "P12u1yAoPUZk"
      },
      "outputs": [],
      "source": [
        "e = a * b; e.label = 'e'\n",
        "f = Value(-2.0, label='f')\n",
        "L = d * f; L.label = 'L'"
      ]
    },
    {
      "cell_type": "code",
      "execution_count": 294,
      "metadata": {
        "colab": {
          "base_uri": "https://localhost:8080/",
          "height": 212
        },
        "id": "Dt5gnUTKQj5V",
        "outputId": "19ff7f3d-4cce-458e-f862-1d7fa82a583f"
      },
      "outputs": [
        {
          "output_type": "execute_result",
          "data": {
            "image/svg+xml": "<?xml version=\"1.0\" encoding=\"UTF-8\" standalone=\"no\"?>\n<!DOCTYPE svg PUBLIC \"-//W3C//DTD SVG 1.1//EN\"\n \"http://www.w3.org/Graphics/SVG/1.1/DTD/svg11.dtd\">\n<!-- Generated by graphviz version 2.43.0 (0)\n -->\n<!-- Title: %3 Pages: 1 -->\n<svg width=\"1147pt\" height=\"128pt\"\n viewBox=\"0.00 0.00 1147.00 128.00\" xmlns=\"http://www.w3.org/2000/svg\" xmlns:xlink=\"http://www.w3.org/1999/xlink\">\n<g id=\"graph0\" class=\"graph\" transform=\"scale(1 1) rotate(0) translate(4 124)\">\n<title>%3</title>\n<polygon fill=\"white\" stroke=\"transparent\" points=\"-4,4 -4,-124 1143,-124 1143,4 -4,4\"/>\n<!-- 137626650069600 -->\n<g id=\"node1\" class=\"node\">\n<title>137626650069600</title>\n<polygon fill=\"none\" stroke=\"black\" points=\"311,-83.5 311,-119.5 496,-119.5 496,-83.5 311,-83.5\"/>\n<text text-anchor=\"middle\" x=\"322.5\" y=\"-97.8\" font-family=\"Times,serif\" font-size=\"14.00\">c</text>\n<polyline fill=\"none\" stroke=\"black\" points=\"334,-83.5 334,-119.5 \"/>\n<text text-anchor=\"middle\" x=\"374\" y=\"-97.8\" font-family=\"Times,serif\" font-size=\"14.00\">data 7.0000</text>\n<polyline fill=\"none\" stroke=\"black\" points=\"414,-83.5 414,-119.5 \"/>\n<text text-anchor=\"middle\" x=\"455\" y=\"-97.8\" font-family=\"Times,serif\" font-size=\"14.00\">grad 0.0000</text>\n</g>\n<!-- 137626650068832+ -->\n<g id=\"node4\" class=\"node\">\n<title>137626650068832+</title>\n<ellipse fill=\"none\" stroke=\"black\" cx=\"559\" cy=\"-73.5\" rx=\"27\" ry=\"18\"/>\n<text text-anchor=\"middle\" x=\"559\" y=\"-69.8\" font-family=\"Times,serif\" font-size=\"14.00\">+</text>\n</g>\n<!-- 137626650069600&#45;&gt;137626650068832+ -->\n<g id=\"edge9\" class=\"edge\">\n<title>137626650069600&#45;&gt;137626650068832+</title>\n<path fill=\"none\" stroke=\"black\" d=\"M496.01,-84.81C505.49,-83.08 514.66,-81.41 522.9,-79.9\"/>\n<polygon fill=\"black\" stroke=\"black\" points=\"523.6,-83.33 532.81,-78.09 522.35,-76.45 523.6,-83.33\"/>\n</g>\n<!-- 137626649927328 -->\n<g id=\"node2\" class=\"node\">\n<title>137626649927328</title>\n<polygon fill=\"none\" stroke=\"black\" points=\"624,-0.5 624,-36.5 812,-36.5 812,-0.5 624,-0.5\"/>\n<text text-anchor=\"middle\" x=\"634.5\" y=\"-14.8\" font-family=\"Times,serif\" font-size=\"14.00\">f</text>\n<polyline fill=\"none\" stroke=\"black\" points=\"645,-0.5 645,-36.5 \"/>\n<text text-anchor=\"middle\" x=\"687.5\" y=\"-14.8\" font-family=\"Times,serif\" font-size=\"14.00\">data &#45;2.0000</text>\n<polyline fill=\"none\" stroke=\"black\" points=\"730,-0.5 730,-36.5 \"/>\n<text text-anchor=\"middle\" x=\"771\" y=\"-14.8\" font-family=\"Times,serif\" font-size=\"14.00\">grad 0.0000</text>\n</g>\n<!-- 137626649935824* -->\n<g id=\"node8\" class=\"node\">\n<title>137626649935824*</title>\n<ellipse fill=\"none\" stroke=\"black\" cx=\"877\" cy=\"-45.5\" rx=\"27\" ry=\"18\"/>\n<text text-anchor=\"middle\" x=\"877\" y=\"-41.8\" font-family=\"Times,serif\" font-size=\"14.00\">*</text>\n</g>\n<!-- 137626649927328&#45;&gt;137626649935824* -->\n<g id=\"edge8\" class=\"edge\">\n<title>137626649927328&#45;&gt;137626649935824*</title>\n<path fill=\"none\" stroke=\"black\" d=\"M812.14,-34.52C822.19,-36.25 831.9,-37.92 840.59,-39.41\"/>\n<polygon fill=\"black\" stroke=\"black\" points=\"840.2,-42.89 850.64,-41.14 841.38,-36 840.2,-42.89\"/>\n</g>\n<!-- 137626650068832 -->\n<g id=\"node3\" class=\"node\">\n<title>137626650068832</title>\n<polygon fill=\"none\" stroke=\"black\" points=\"622,-55.5 622,-91.5 814,-91.5 814,-55.5 622,-55.5\"/>\n<text text-anchor=\"middle\" x=\"633.5\" y=\"-69.8\" font-family=\"Times,serif\" font-size=\"14.00\">d</text>\n<polyline fill=\"none\" stroke=\"black\" points=\"645,-55.5 645,-91.5 \"/>\n<text text-anchor=\"middle\" x=\"688.5\" y=\"-69.8\" font-family=\"Times,serif\" font-size=\"14.00\">data 13.0000</text>\n<polyline fill=\"none\" stroke=\"black\" points=\"732,-55.5 732,-91.5 \"/>\n<text text-anchor=\"middle\" x=\"773\" y=\"-69.8\" font-family=\"Times,serif\" font-size=\"14.00\">grad 0.0000</text>\n</g>\n<!-- 137626650068832&#45;&gt;137626649935824* -->\n<g id=\"edge5\" class=\"edge\">\n<title>137626650068832&#45;&gt;137626649935824*</title>\n<path fill=\"none\" stroke=\"black\" d=\"M814.4,-56.49C823.69,-54.83 832.64,-53.23 840.71,-51.79\"/>\n<polygon fill=\"black\" stroke=\"black\" points=\"841.53,-55.2 850.76,-50 840.31,-48.31 841.53,-55.2\"/>\n</g>\n<!-- 137626650068832+&#45;&gt;137626650068832 -->\n<g id=\"edge1\" class=\"edge\">\n<title>137626650068832+&#45;&gt;137626650068832</title>\n<path fill=\"none\" stroke=\"black\" d=\"M586.28,-73.5C593.78,-73.5 602.44,-73.5 611.67,-73.5\"/>\n<polygon fill=\"black\" stroke=\"black\" points=\"611.87,-77 621.87,-73.5 611.87,-70 611.87,-77\"/>\n</g>\n<!-- 137626649935200 -->\n<g id=\"node5\" class=\"node\">\n<title>137626649935200</title>\n<polygon fill=\"none\" stroke=\"black\" points=\"0,-56.5 0,-92.5 185,-92.5 185,-56.5 0,-56.5\"/>\n<text text-anchor=\"middle\" x=\"11.5\" y=\"-70.8\" font-family=\"Times,serif\" font-size=\"14.00\">a</text>\n<polyline fill=\"none\" stroke=\"black\" points=\"23,-56.5 23,-92.5 \"/>\n<text text-anchor=\"middle\" x=\"63\" y=\"-70.8\" font-family=\"Times,serif\" font-size=\"14.00\">data 2.0000</text>\n<polyline fill=\"none\" stroke=\"black\" points=\"103,-56.5 103,-92.5 \"/>\n<text text-anchor=\"middle\" x=\"144\" y=\"-70.8\" font-family=\"Times,serif\" font-size=\"14.00\">grad 0.0000</text>\n</g>\n<!-- 137626649345520* -->\n<g id=\"node10\" class=\"node\">\n<title>137626649345520*</title>\n<ellipse fill=\"none\" stroke=\"black\" cx=\"248\" cy=\"-46.5\" rx=\"27\" ry=\"18\"/>\n<text text-anchor=\"middle\" x=\"248\" y=\"-42.8\" font-family=\"Times,serif\" font-size=\"14.00\">*</text>\n</g>\n<!-- 137626649935200&#45;&gt;137626649345520* -->\n<g id=\"edge7\" class=\"edge\">\n<title>137626649935200&#45;&gt;137626649345520*</title>\n<path fill=\"none\" stroke=\"black\" d=\"M185.01,-57.81C194.49,-56.08 203.66,-54.41 211.9,-52.9\"/>\n<polygon fill=\"black\" stroke=\"black\" points=\"212.6,-56.33 221.81,-51.09 211.35,-49.45 212.6,-56.33\"/>\n</g>\n<!-- 137626649934768 -->\n<g id=\"node6\" class=\"node\">\n<title>137626649934768</title>\n<polygon fill=\"none\" stroke=\"black\" points=\"0,-1.5 0,-37.5 185,-37.5 185,-1.5 0,-1.5\"/>\n<text text-anchor=\"middle\" x=\"11.5\" y=\"-15.8\" font-family=\"Times,serif\" font-size=\"14.00\">b</text>\n<polyline fill=\"none\" stroke=\"black\" points=\"23,-1.5 23,-37.5 \"/>\n<text text-anchor=\"middle\" x=\"63\" y=\"-15.8\" font-family=\"Times,serif\" font-size=\"14.00\">data 3.0000</text>\n<polyline fill=\"none\" stroke=\"black\" points=\"103,-1.5 103,-37.5 \"/>\n<text text-anchor=\"middle\" x=\"144\" y=\"-15.8\" font-family=\"Times,serif\" font-size=\"14.00\">grad 0.0000</text>\n</g>\n<!-- 137626649934768&#45;&gt;137626649345520* -->\n<g id=\"edge6\" class=\"edge\">\n<title>137626649934768&#45;&gt;137626649345520*</title>\n<path fill=\"none\" stroke=\"black\" d=\"M185.01,-35.6C194.49,-37.26 203.66,-38.88 211.9,-40.33\"/>\n<polygon fill=\"black\" stroke=\"black\" points=\"211.36,-43.78 221.81,-42.07 212.57,-36.89 211.36,-43.78\"/>\n</g>\n<!-- 137626649935824 -->\n<g id=\"node7\" class=\"node\">\n<title>137626649935824</title>\n<polygon fill=\"none\" stroke=\"black\" points=\"940,-27.5 940,-63.5 1139,-63.5 1139,-27.5 940,-27.5\"/>\n<text text-anchor=\"middle\" x=\"952.5\" y=\"-41.8\" font-family=\"Times,serif\" font-size=\"14.00\">L</text>\n<polyline fill=\"none\" stroke=\"black\" points=\"965,-27.5 965,-63.5 \"/>\n<text text-anchor=\"middle\" x=\"1011\" y=\"-41.8\" font-family=\"Times,serif\" font-size=\"14.00\">data &#45;26.0000</text>\n<polyline fill=\"none\" stroke=\"black\" points=\"1057,-27.5 1057,-63.5 \"/>\n<text text-anchor=\"middle\" x=\"1098\" y=\"-41.8\" font-family=\"Times,serif\" font-size=\"14.00\">grad 0.0000</text>\n</g>\n<!-- 137626649935824*&#45;&gt;137626649935824 -->\n<g id=\"edge2\" class=\"edge\">\n<title>137626649935824*&#45;&gt;137626649935824</title>\n<path fill=\"none\" stroke=\"black\" d=\"M904.14,-45.5C911.65,-45.5 920.33,-45.5 929.6,-45.5\"/>\n<polygon fill=\"black\" stroke=\"black\" points=\"929.86,-49 939.86,-45.5 929.86,-42 929.86,-49\"/>\n</g>\n<!-- 137626649345520 -->\n<g id=\"node9\" class=\"node\">\n<title>137626649345520</title>\n<polygon fill=\"none\" stroke=\"black\" points=\"312.5,-28.5 312.5,-64.5 494.5,-64.5 494.5,-28.5 312.5,-28.5\"/>\n<text text-anchor=\"middle\" x=\"322.5\" y=\"-42.8\" font-family=\"Times,serif\" font-size=\"14.00\"> </text>\n<polyline fill=\"none\" stroke=\"black\" points=\"332.5,-28.5 332.5,-64.5 \"/>\n<text text-anchor=\"middle\" x=\"372.5\" y=\"-42.8\" font-family=\"Times,serif\" font-size=\"14.00\">data 6.0000</text>\n<polyline fill=\"none\" stroke=\"black\" points=\"412.5,-28.5 412.5,-64.5 \"/>\n<text text-anchor=\"middle\" x=\"453.5\" y=\"-42.8\" font-family=\"Times,serif\" font-size=\"14.00\">grad 0.0000</text>\n</g>\n<!-- 137626649345520&#45;&gt;137626650068832+ -->\n<g id=\"edge4\" class=\"edge\">\n<title>137626649345520&#45;&gt;137626650068832+</title>\n<path fill=\"none\" stroke=\"black\" d=\"M494.68,-62.36C504.61,-64.11 514.23,-65.8 522.84,-67.32\"/>\n<polygon fill=\"black\" stroke=\"black\" points=\"522.36,-70.78 532.81,-69.07 523.57,-63.89 522.36,-70.78\"/>\n</g>\n<!-- 137626649345520*&#45;&gt;137626649345520 -->\n<g id=\"edge3\" class=\"edge\">\n<title>137626649345520*&#45;&gt;137626649345520</title>\n<path fill=\"none\" stroke=\"black\" d=\"M275.04,-46.5C283.06,-46.5 292.41,-46.5 302.35,-46.5\"/>\n<polygon fill=\"black\" stroke=\"black\" points=\"302.45,-50 312.45,-46.5 302.45,-43 302.45,-50\"/>\n</g>\n</g>\n</svg>\n",
            "text/plain": [
              "<graphviz.graphs.Digraph at 0x7d2bb3a2e770>"
            ]
          },
          "metadata": {},
          "execution_count": 294
        }
      ],
      "source": [
        "draw_dot(L)"
      ]
    },
    {
      "cell_type": "code",
      "execution_count": 295,
      "metadata": {
        "id": "GLeDpTZyQlK8"
      },
      "outputs": [],
      "source": [
        "h = 0.001\n",
        "\n",
        "a = Value(2.0, label='a')\n",
        "b = Value(-3.0, label='b')\n",
        "c = Value(10.0, label='c')\n",
        "e = a * b; e.label = 'e'\n",
        "d = e + c; d.label = 'd'\n",
        "f = Value(-2.0, label='f')\n",
        "L = d * f; L.label = 'L'"
      ]
    },
    {
      "cell_type": "code",
      "source": [
        "draw_dot(L)"
      ],
      "metadata": {
        "colab": {
          "base_uri": "https://localhost:8080/",
          "height": 212
        },
        "id": "7gywQmMDoiwX",
        "outputId": "75af69fd-87b2-4df8-9993-bc3f905f3033"
      },
      "execution_count": 296,
      "outputs": [
        {
          "output_type": "execute_result",
          "data": {
            "image/svg+xml": "<?xml version=\"1.0\" encoding=\"UTF-8\" standalone=\"no\"?>\n<!DOCTYPE svg PUBLIC \"-//W3C//DTD SVG 1.1//EN\"\n \"http://www.w3.org/Graphics/SVG/1.1/DTD/svg11.dtd\">\n<!-- Generated by graphviz version 2.43.0 (0)\n -->\n<!-- Title: %3 Pages: 1 -->\n<svg width=\"1148pt\" height=\"128pt\"\n viewBox=\"0.00 0.00 1148.00 128.00\" xmlns=\"http://www.w3.org/2000/svg\" xmlns:xlink=\"http://www.w3.org/1999/xlink\">\n<g id=\"graph0\" class=\"graph\" transform=\"scale(1 1) rotate(0) translate(4 124)\">\n<title>%3</title>\n<polygon fill=\"white\" stroke=\"transparent\" points=\"-4,4 -4,-124 1144,-124 1144,4 -4,4\"/>\n<!-- 137626649334912 -->\n<g id=\"node1\" class=\"node\">\n<title>137626649334912</title>\n<polygon fill=\"none\" stroke=\"black\" points=\"634,-82.5 634,-118.5 822,-118.5 822,-82.5 634,-82.5\"/>\n<text text-anchor=\"middle\" x=\"644.5\" y=\"-96.8\" font-family=\"Times,serif\" font-size=\"14.00\">f</text>\n<polyline fill=\"none\" stroke=\"black\" points=\"655,-82.5 655,-118.5 \"/>\n<text text-anchor=\"middle\" x=\"697.5\" y=\"-96.8\" font-family=\"Times,serif\" font-size=\"14.00\">data &#45;2.0000</text>\n<polyline fill=\"none\" stroke=\"black\" points=\"740,-82.5 740,-118.5 \"/>\n<text text-anchor=\"middle\" x=\"781\" y=\"-96.8\" font-family=\"Times,serif\" font-size=\"14.00\">grad 0.0000</text>\n</g>\n<!-- 137626649934048* -->\n<g id=\"node4\" class=\"node\">\n<title>137626649934048*</title>\n<ellipse fill=\"none\" stroke=\"black\" cx=\"885\" cy=\"-72.5\" rx=\"27\" ry=\"18\"/>\n<text text-anchor=\"middle\" x=\"885\" y=\"-68.8\" font-family=\"Times,serif\" font-size=\"14.00\">*</text>\n</g>\n<!-- 137626649334912&#45;&gt;137626649934048* -->\n<g id=\"edge8\" class=\"edge\">\n<title>137626649334912&#45;&gt;137626649934048*</title>\n<path fill=\"none\" stroke=\"black\" d=\"M822.29,-83.65C831.57,-81.97 840.52,-80.35 848.61,-78.89\"/>\n<polygon fill=\"black\" stroke=\"black\" points=\"849.46,-82.3 858.68,-77.07 848.21,-75.41 849.46,-82.3\"/>\n</g>\n<!-- 137626649927376 -->\n<g id=\"node2\" class=\"node\">\n<title>137626649927376</title>\n<polygon fill=\"none\" stroke=\"black\" points=\"0,-83.5 0,-119.5 190,-119.5 190,-83.5 0,-83.5\"/>\n<text text-anchor=\"middle\" x=\"11.5\" y=\"-97.8\" font-family=\"Times,serif\" font-size=\"14.00\">b</text>\n<polyline fill=\"none\" stroke=\"black\" points=\"23,-83.5 23,-119.5 \"/>\n<text text-anchor=\"middle\" x=\"65.5\" y=\"-97.8\" font-family=\"Times,serif\" font-size=\"14.00\">data &#45;3.0000</text>\n<polyline fill=\"none\" stroke=\"black\" points=\"108,-83.5 108,-119.5 \"/>\n<text text-anchor=\"middle\" x=\"149\" y=\"-97.8\" font-family=\"Times,serif\" font-size=\"14.00\">grad 0.0000</text>\n</g>\n<!-- 137626649924400* -->\n<g id=\"node7\" class=\"node\">\n<title>137626649924400*</title>\n<ellipse fill=\"none\" stroke=\"black\" cx=\"253\" cy=\"-73.5\" rx=\"27\" ry=\"18\"/>\n<text text-anchor=\"middle\" x=\"253\" y=\"-69.8\" font-family=\"Times,serif\" font-size=\"14.00\">*</text>\n</g>\n<!-- 137626649927376&#45;&gt;137626649924400* -->\n<g id=\"edge7\" class=\"edge\">\n<title>137626649927376&#45;&gt;137626649924400*</title>\n<path fill=\"none\" stroke=\"black\" d=\"M190.34,-84.57C199.62,-82.9 208.58,-81.29 216.66,-79.84\"/>\n<polygon fill=\"black\" stroke=\"black\" points=\"217.49,-83.25 226.72,-78.04 216.26,-76.36 217.49,-83.25\"/>\n</g>\n<!-- 137626649934048 -->\n<g id=\"node3\" class=\"node\">\n<title>137626649934048</title>\n<polygon fill=\"none\" stroke=\"black\" points=\"948,-54.5 948,-90.5 1140,-90.5 1140,-54.5 948,-54.5\"/>\n<text text-anchor=\"middle\" x=\"960.5\" y=\"-68.8\" font-family=\"Times,serif\" font-size=\"14.00\">L</text>\n<polyline fill=\"none\" stroke=\"black\" points=\"973,-54.5 973,-90.5 \"/>\n<text text-anchor=\"middle\" x=\"1015.5\" y=\"-68.8\" font-family=\"Times,serif\" font-size=\"14.00\">data &#45;8.0000</text>\n<polyline fill=\"none\" stroke=\"black\" points=\"1058,-54.5 1058,-90.5 \"/>\n<text text-anchor=\"middle\" x=\"1099\" y=\"-68.8\" font-family=\"Times,serif\" font-size=\"14.00\">grad 0.0000</text>\n</g>\n<!-- 137626649934048*&#45;&gt;137626649934048 -->\n<g id=\"edge1\" class=\"edge\">\n<title>137626649934048*&#45;&gt;137626649934048</title>\n<path fill=\"none\" stroke=\"black\" d=\"M912.28,-72.5C919.78,-72.5 928.44,-72.5 937.67,-72.5\"/>\n<polygon fill=\"black\" stroke=\"black\" points=\"937.87,-76 947.87,-72.5 937.87,-69 937.87,-76\"/>\n</g>\n<!-- 137626649486592 -->\n<g id=\"node5\" class=\"node\">\n<title>137626649486592</title>\n<polygon fill=\"none\" stroke=\"black\" points=\"2.5,-28.5 2.5,-64.5 187.5,-64.5 187.5,-28.5 2.5,-28.5\"/>\n<text text-anchor=\"middle\" x=\"14\" y=\"-42.8\" font-family=\"Times,serif\" font-size=\"14.00\">a</text>\n<polyline fill=\"none\" stroke=\"black\" points=\"25.5,-28.5 25.5,-64.5 \"/>\n<text text-anchor=\"middle\" x=\"65.5\" y=\"-42.8\" font-family=\"Times,serif\" font-size=\"14.00\">data 2.0000</text>\n<polyline fill=\"none\" stroke=\"black\" points=\"105.5,-28.5 105.5,-64.5 \"/>\n<text text-anchor=\"middle\" x=\"146.5\" y=\"-42.8\" font-family=\"Times,serif\" font-size=\"14.00\">grad 0.0000</text>\n</g>\n<!-- 137626649486592&#45;&gt;137626649924400* -->\n<g id=\"edge5\" class=\"edge\">\n<title>137626649486592&#45;&gt;137626649924400*</title>\n<path fill=\"none\" stroke=\"black\" d=\"M187.65,-62.36C197.94,-64.14 207.91,-65.87 216.81,-67.41\"/>\n<polygon fill=\"black\" stroke=\"black\" points=\"216.26,-70.87 226.71,-69.12 217.45,-63.97 216.26,-70.87\"/>\n</g>\n<!-- 137626649924400 -->\n<g id=\"node6\" class=\"node\">\n<title>137626649924400</title>\n<polygon fill=\"none\" stroke=\"black\" points=\"317,-55.5 317,-91.5 507,-91.5 507,-55.5 317,-55.5\"/>\n<text text-anchor=\"middle\" x=\"328.5\" y=\"-69.8\" font-family=\"Times,serif\" font-size=\"14.00\">e</text>\n<polyline fill=\"none\" stroke=\"black\" points=\"340,-55.5 340,-91.5 \"/>\n<text text-anchor=\"middle\" x=\"382.5\" y=\"-69.8\" font-family=\"Times,serif\" font-size=\"14.00\">data &#45;6.0000</text>\n<polyline fill=\"none\" stroke=\"black\" points=\"425,-55.5 425,-91.5 \"/>\n<text text-anchor=\"middle\" x=\"466\" y=\"-69.8\" font-family=\"Times,serif\" font-size=\"14.00\">grad 0.0000</text>\n</g>\n<!-- 137626649929632+ -->\n<g id=\"node9\" class=\"node\">\n<title>137626649929632+</title>\n<ellipse fill=\"none\" stroke=\"black\" cx=\"571\" cy=\"-45.5\" rx=\"27\" ry=\"18\"/>\n<text text-anchor=\"middle\" x=\"571\" y=\"-41.8\" font-family=\"Times,serif\" font-size=\"14.00\">+</text>\n</g>\n<!-- 137626649924400&#45;&gt;137626649929632+ -->\n<g id=\"edge6\" class=\"edge\">\n<title>137626649924400&#45;&gt;137626649929632+</title>\n<path fill=\"none\" stroke=\"black\" d=\"M507.05,-56.73C516.89,-54.97 526.39,-53.28 534.9,-51.76\"/>\n<polygon fill=\"black\" stroke=\"black\" points=\"535.52,-55.2 544.75,-50 534.29,-48.31 535.52,-55.2\"/>\n</g>\n<!-- 137626649924400*&#45;&gt;137626649924400 -->\n<g id=\"edge2\" class=\"edge\">\n<title>137626649924400*&#45;&gt;137626649924400</title>\n<path fill=\"none\" stroke=\"black\" d=\"M280.28,-73.5C288.05,-73.5 297.08,-73.5 306.68,-73.5\"/>\n<polygon fill=\"black\" stroke=\"black\" points=\"306.88,-77 316.88,-73.5 306.88,-70 306.88,-77\"/>\n</g>\n<!-- 137626649929632 -->\n<g id=\"node8\" class=\"node\">\n<title>137626649929632</title>\n<polygon fill=\"none\" stroke=\"black\" points=\"635.5,-27.5 635.5,-63.5 820.5,-63.5 820.5,-27.5 635.5,-27.5\"/>\n<text text-anchor=\"middle\" x=\"647\" y=\"-41.8\" font-family=\"Times,serif\" font-size=\"14.00\">d</text>\n<polyline fill=\"none\" stroke=\"black\" points=\"658.5,-27.5 658.5,-63.5 \"/>\n<text text-anchor=\"middle\" x=\"698.5\" y=\"-41.8\" font-family=\"Times,serif\" font-size=\"14.00\">data 4.0000</text>\n<polyline fill=\"none\" stroke=\"black\" points=\"738.5,-27.5 738.5,-63.5 \"/>\n<text text-anchor=\"middle\" x=\"779.5\" y=\"-41.8\" font-family=\"Times,serif\" font-size=\"14.00\">grad 0.0000</text>\n</g>\n<!-- 137626649929632&#45;&gt;137626649934048* -->\n<g id=\"edge4\" class=\"edge\">\n<title>137626649929632&#45;&gt;137626649934048*</title>\n<path fill=\"none\" stroke=\"black\" d=\"M820.51,-61.44C830.48,-63.18 840.13,-64.86 848.77,-66.36\"/>\n<polygon fill=\"black\" stroke=\"black\" points=\"848.31,-69.84 858.77,-68.1 849.52,-62.94 848.31,-69.84\"/>\n</g>\n<!-- 137626649929632+&#45;&gt;137626649929632 -->\n<g id=\"edge3\" class=\"edge\">\n<title>137626649929632+&#45;&gt;137626649929632</title>\n<path fill=\"none\" stroke=\"black\" d=\"M598.29,-45.5C606.26,-45.5 615.54,-45.5 625.39,-45.5\"/>\n<polygon fill=\"black\" stroke=\"black\" points=\"625.41,-49 635.41,-45.5 625.41,-42 625.41,-49\"/>\n</g>\n<!-- 137626649932704 -->\n<g id=\"node10\" class=\"node\">\n<title>137626649932704</title>\n<polygon fill=\"none\" stroke=\"black\" points=\"316,-0.5 316,-36.5 508,-36.5 508,-0.5 316,-0.5\"/>\n<text text-anchor=\"middle\" x=\"327.5\" y=\"-14.8\" font-family=\"Times,serif\" font-size=\"14.00\">c</text>\n<polyline fill=\"none\" stroke=\"black\" points=\"339,-0.5 339,-36.5 \"/>\n<text text-anchor=\"middle\" x=\"382.5\" y=\"-14.8\" font-family=\"Times,serif\" font-size=\"14.00\">data 10.0000</text>\n<polyline fill=\"none\" stroke=\"black\" points=\"426,-0.5 426,-36.5 \"/>\n<text text-anchor=\"middle\" x=\"467\" y=\"-14.8\" font-family=\"Times,serif\" font-size=\"14.00\">grad 0.0000</text>\n</g>\n<!-- 137626649932704&#45;&gt;137626649929632+ -->\n<g id=\"edge9\" class=\"edge\">\n<title>137626649932704&#45;&gt;137626649929632+</title>\n<path fill=\"none\" stroke=\"black\" d=\"M508.4,-34.91C517.69,-36.5 526.64,-38.04 534.71,-39.43\"/>\n<polygon fill=\"black\" stroke=\"black\" points=\"534.32,-42.91 544.76,-41.16 535.5,-36.02 534.32,-42.91\"/>\n</g>\n</g>\n</svg>\n",
            "text/plain": [
              "<graphviz.graphs.Digraph at 0x7d2bb38dee90>"
            ]
          },
          "metadata": {},
          "execution_count": 296
        }
      ]
    },
    {
      "cell_type": "code",
      "source": [
        "# dL/dL\n",
        "def lol():\n",
        "\n",
        "  h = 1e-6\n",
        "\n",
        "  a = Value(2.0, label='a')\n",
        "  b = Value(-3.0, label='b')\n",
        "  c = Value(10.0, label='c')\n",
        "  e = a * b; e.label = 'e'\n",
        "  d = e + c; d.label = 'd'\n",
        "  f = Value(-2.0, label='f')\n",
        "  L = d * f; L.label = 'L'\n",
        "  L1 = L.data\n",
        "\n",
        "  a = Value(2.0, label='a')\n",
        "  b = Value(-3.0, label='b')\n",
        "  c = Value(10.0, label='c')\n",
        "  e = a * b; e.label = 'e'\n",
        "  d = e + c; d.label = 'd'\n",
        "  f = Value(-2.0, label='f')\n",
        "  L = d * f; L.label = 'L'\n",
        "  L2 = L.data + h\n",
        "\n",
        "  print((L2 - L1) / h)\n",
        "\n",
        "lol()"
      ],
      "metadata": {
        "colab": {
          "base_uri": "https://localhost:8080/"
        },
        "id": "nd-8GgMIojh6",
        "outputId": "e13e6b72-4603-40b8-e061-ad4534fa8e13"
      },
      "execution_count": 297,
      "outputs": [
        {
          "output_type": "stream",
          "name": "stdout",
          "text": [
            "1.000000000139778\n"
          ]
        }
      ]
    },
    {
      "cell_type": "code",
      "source": [
        "L.grad = 1.0"
      ],
      "metadata": {
        "id": "IZzpZic1o74t"
      },
      "execution_count": 298,
      "outputs": []
    },
    {
      "cell_type": "code",
      "source": [
        "draw_dot(L)"
      ],
      "metadata": {
        "colab": {
          "base_uri": "https://localhost:8080/",
          "height": 212
        },
        "id": "hLncLNp81wdN",
        "outputId": "458512c5-a870-4a35-d6c1-115864d2bc52"
      },
      "execution_count": 299,
      "outputs": [
        {
          "output_type": "execute_result",
          "data": {
            "image/svg+xml": "<?xml version=\"1.0\" encoding=\"UTF-8\" standalone=\"no\"?>\n<!DOCTYPE svg PUBLIC \"-//W3C//DTD SVG 1.1//EN\"\n \"http://www.w3.org/Graphics/SVG/1.1/DTD/svg11.dtd\">\n<!-- Generated by graphviz version 2.43.0 (0)\n -->\n<!-- Title: %3 Pages: 1 -->\n<svg width=\"1148pt\" height=\"128pt\"\n viewBox=\"0.00 0.00 1148.00 128.00\" xmlns=\"http://www.w3.org/2000/svg\" xmlns:xlink=\"http://www.w3.org/1999/xlink\">\n<g id=\"graph0\" class=\"graph\" transform=\"scale(1 1) rotate(0) translate(4 124)\">\n<title>%3</title>\n<polygon fill=\"white\" stroke=\"transparent\" points=\"-4,4 -4,-124 1144,-124 1144,4 -4,4\"/>\n<!-- 137626649334912 -->\n<g id=\"node1\" class=\"node\">\n<title>137626649334912</title>\n<polygon fill=\"none\" stroke=\"black\" points=\"634,-82.5 634,-118.5 822,-118.5 822,-82.5 634,-82.5\"/>\n<text text-anchor=\"middle\" x=\"644.5\" y=\"-96.8\" font-family=\"Times,serif\" font-size=\"14.00\">f</text>\n<polyline fill=\"none\" stroke=\"black\" points=\"655,-82.5 655,-118.5 \"/>\n<text text-anchor=\"middle\" x=\"697.5\" y=\"-96.8\" font-family=\"Times,serif\" font-size=\"14.00\">data &#45;2.0000</text>\n<polyline fill=\"none\" stroke=\"black\" points=\"740,-82.5 740,-118.5 \"/>\n<text text-anchor=\"middle\" x=\"781\" y=\"-96.8\" font-family=\"Times,serif\" font-size=\"14.00\">grad 0.0000</text>\n</g>\n<!-- 137626649934048* -->\n<g id=\"node4\" class=\"node\">\n<title>137626649934048*</title>\n<ellipse fill=\"none\" stroke=\"black\" cx=\"885\" cy=\"-72.5\" rx=\"27\" ry=\"18\"/>\n<text text-anchor=\"middle\" x=\"885\" y=\"-68.8\" font-family=\"Times,serif\" font-size=\"14.00\">*</text>\n</g>\n<!-- 137626649334912&#45;&gt;137626649934048* -->\n<g id=\"edge8\" class=\"edge\">\n<title>137626649334912&#45;&gt;137626649934048*</title>\n<path fill=\"none\" stroke=\"black\" d=\"M822.29,-83.65C831.57,-81.97 840.52,-80.35 848.61,-78.89\"/>\n<polygon fill=\"black\" stroke=\"black\" points=\"849.46,-82.3 858.68,-77.07 848.21,-75.41 849.46,-82.3\"/>\n</g>\n<!-- 137626649927376 -->\n<g id=\"node2\" class=\"node\">\n<title>137626649927376</title>\n<polygon fill=\"none\" stroke=\"black\" points=\"0,-83.5 0,-119.5 190,-119.5 190,-83.5 0,-83.5\"/>\n<text text-anchor=\"middle\" x=\"11.5\" y=\"-97.8\" font-family=\"Times,serif\" font-size=\"14.00\">b</text>\n<polyline fill=\"none\" stroke=\"black\" points=\"23,-83.5 23,-119.5 \"/>\n<text text-anchor=\"middle\" x=\"65.5\" y=\"-97.8\" font-family=\"Times,serif\" font-size=\"14.00\">data &#45;3.0000</text>\n<polyline fill=\"none\" stroke=\"black\" points=\"108,-83.5 108,-119.5 \"/>\n<text text-anchor=\"middle\" x=\"149\" y=\"-97.8\" font-family=\"Times,serif\" font-size=\"14.00\">grad 0.0000</text>\n</g>\n<!-- 137626649924400* -->\n<g id=\"node7\" class=\"node\">\n<title>137626649924400*</title>\n<ellipse fill=\"none\" stroke=\"black\" cx=\"253\" cy=\"-73.5\" rx=\"27\" ry=\"18\"/>\n<text text-anchor=\"middle\" x=\"253\" y=\"-69.8\" font-family=\"Times,serif\" font-size=\"14.00\">*</text>\n</g>\n<!-- 137626649927376&#45;&gt;137626649924400* -->\n<g id=\"edge7\" class=\"edge\">\n<title>137626649927376&#45;&gt;137626649924400*</title>\n<path fill=\"none\" stroke=\"black\" d=\"M190.34,-84.57C199.62,-82.9 208.58,-81.29 216.66,-79.84\"/>\n<polygon fill=\"black\" stroke=\"black\" points=\"217.49,-83.25 226.72,-78.04 216.26,-76.36 217.49,-83.25\"/>\n</g>\n<!-- 137626649934048 -->\n<g id=\"node3\" class=\"node\">\n<title>137626649934048</title>\n<polygon fill=\"none\" stroke=\"black\" points=\"948,-54.5 948,-90.5 1140,-90.5 1140,-54.5 948,-54.5\"/>\n<text text-anchor=\"middle\" x=\"960.5\" y=\"-68.8\" font-family=\"Times,serif\" font-size=\"14.00\">L</text>\n<polyline fill=\"none\" stroke=\"black\" points=\"973,-54.5 973,-90.5 \"/>\n<text text-anchor=\"middle\" x=\"1015.5\" y=\"-68.8\" font-family=\"Times,serif\" font-size=\"14.00\">data &#45;8.0000</text>\n<polyline fill=\"none\" stroke=\"black\" points=\"1058,-54.5 1058,-90.5 \"/>\n<text text-anchor=\"middle\" x=\"1099\" y=\"-68.8\" font-family=\"Times,serif\" font-size=\"14.00\">grad 1.0000</text>\n</g>\n<!-- 137626649934048*&#45;&gt;137626649934048 -->\n<g id=\"edge1\" class=\"edge\">\n<title>137626649934048*&#45;&gt;137626649934048</title>\n<path fill=\"none\" stroke=\"black\" d=\"M912.28,-72.5C919.78,-72.5 928.44,-72.5 937.67,-72.5\"/>\n<polygon fill=\"black\" stroke=\"black\" points=\"937.87,-76 947.87,-72.5 937.87,-69 937.87,-76\"/>\n</g>\n<!-- 137626649486592 -->\n<g id=\"node5\" class=\"node\">\n<title>137626649486592</title>\n<polygon fill=\"none\" stroke=\"black\" points=\"2.5,-28.5 2.5,-64.5 187.5,-64.5 187.5,-28.5 2.5,-28.5\"/>\n<text text-anchor=\"middle\" x=\"14\" y=\"-42.8\" font-family=\"Times,serif\" font-size=\"14.00\">a</text>\n<polyline fill=\"none\" stroke=\"black\" points=\"25.5,-28.5 25.5,-64.5 \"/>\n<text text-anchor=\"middle\" x=\"65.5\" y=\"-42.8\" font-family=\"Times,serif\" font-size=\"14.00\">data 2.0000</text>\n<polyline fill=\"none\" stroke=\"black\" points=\"105.5,-28.5 105.5,-64.5 \"/>\n<text text-anchor=\"middle\" x=\"146.5\" y=\"-42.8\" font-family=\"Times,serif\" font-size=\"14.00\">grad 0.0000</text>\n</g>\n<!-- 137626649486592&#45;&gt;137626649924400* -->\n<g id=\"edge5\" class=\"edge\">\n<title>137626649486592&#45;&gt;137626649924400*</title>\n<path fill=\"none\" stroke=\"black\" d=\"M187.65,-62.36C197.94,-64.14 207.91,-65.87 216.81,-67.41\"/>\n<polygon fill=\"black\" stroke=\"black\" points=\"216.26,-70.87 226.71,-69.12 217.45,-63.97 216.26,-70.87\"/>\n</g>\n<!-- 137626649924400 -->\n<g id=\"node6\" class=\"node\">\n<title>137626649924400</title>\n<polygon fill=\"none\" stroke=\"black\" points=\"317,-55.5 317,-91.5 507,-91.5 507,-55.5 317,-55.5\"/>\n<text text-anchor=\"middle\" x=\"328.5\" y=\"-69.8\" font-family=\"Times,serif\" font-size=\"14.00\">e</text>\n<polyline fill=\"none\" stroke=\"black\" points=\"340,-55.5 340,-91.5 \"/>\n<text text-anchor=\"middle\" x=\"382.5\" y=\"-69.8\" font-family=\"Times,serif\" font-size=\"14.00\">data &#45;6.0000</text>\n<polyline fill=\"none\" stroke=\"black\" points=\"425,-55.5 425,-91.5 \"/>\n<text text-anchor=\"middle\" x=\"466\" y=\"-69.8\" font-family=\"Times,serif\" font-size=\"14.00\">grad 0.0000</text>\n</g>\n<!-- 137626649929632+ -->\n<g id=\"node9\" class=\"node\">\n<title>137626649929632+</title>\n<ellipse fill=\"none\" stroke=\"black\" cx=\"571\" cy=\"-45.5\" rx=\"27\" ry=\"18\"/>\n<text text-anchor=\"middle\" x=\"571\" y=\"-41.8\" font-family=\"Times,serif\" font-size=\"14.00\">+</text>\n</g>\n<!-- 137626649924400&#45;&gt;137626649929632+ -->\n<g id=\"edge6\" class=\"edge\">\n<title>137626649924400&#45;&gt;137626649929632+</title>\n<path fill=\"none\" stroke=\"black\" d=\"M507.05,-56.73C516.89,-54.97 526.39,-53.28 534.9,-51.76\"/>\n<polygon fill=\"black\" stroke=\"black\" points=\"535.52,-55.2 544.75,-50 534.29,-48.31 535.52,-55.2\"/>\n</g>\n<!-- 137626649924400*&#45;&gt;137626649924400 -->\n<g id=\"edge2\" class=\"edge\">\n<title>137626649924400*&#45;&gt;137626649924400</title>\n<path fill=\"none\" stroke=\"black\" d=\"M280.28,-73.5C288.05,-73.5 297.08,-73.5 306.68,-73.5\"/>\n<polygon fill=\"black\" stroke=\"black\" points=\"306.88,-77 316.88,-73.5 306.88,-70 306.88,-77\"/>\n</g>\n<!-- 137626649929632 -->\n<g id=\"node8\" class=\"node\">\n<title>137626649929632</title>\n<polygon fill=\"none\" stroke=\"black\" points=\"635.5,-27.5 635.5,-63.5 820.5,-63.5 820.5,-27.5 635.5,-27.5\"/>\n<text text-anchor=\"middle\" x=\"647\" y=\"-41.8\" font-family=\"Times,serif\" font-size=\"14.00\">d</text>\n<polyline fill=\"none\" stroke=\"black\" points=\"658.5,-27.5 658.5,-63.5 \"/>\n<text text-anchor=\"middle\" x=\"698.5\" y=\"-41.8\" font-family=\"Times,serif\" font-size=\"14.00\">data 4.0000</text>\n<polyline fill=\"none\" stroke=\"black\" points=\"738.5,-27.5 738.5,-63.5 \"/>\n<text text-anchor=\"middle\" x=\"779.5\" y=\"-41.8\" font-family=\"Times,serif\" font-size=\"14.00\">grad 0.0000</text>\n</g>\n<!-- 137626649929632&#45;&gt;137626649934048* -->\n<g id=\"edge4\" class=\"edge\">\n<title>137626649929632&#45;&gt;137626649934048*</title>\n<path fill=\"none\" stroke=\"black\" d=\"M820.51,-61.44C830.48,-63.18 840.13,-64.86 848.77,-66.36\"/>\n<polygon fill=\"black\" stroke=\"black\" points=\"848.31,-69.84 858.77,-68.1 849.52,-62.94 848.31,-69.84\"/>\n</g>\n<!-- 137626649929632+&#45;&gt;137626649929632 -->\n<g id=\"edge3\" class=\"edge\">\n<title>137626649929632+&#45;&gt;137626649929632</title>\n<path fill=\"none\" stroke=\"black\" d=\"M598.29,-45.5C606.26,-45.5 615.54,-45.5 625.39,-45.5\"/>\n<polygon fill=\"black\" stroke=\"black\" points=\"625.41,-49 635.41,-45.5 625.41,-42 625.41,-49\"/>\n</g>\n<!-- 137626649932704 -->\n<g id=\"node10\" class=\"node\">\n<title>137626649932704</title>\n<polygon fill=\"none\" stroke=\"black\" points=\"316,-0.5 316,-36.5 508,-36.5 508,-0.5 316,-0.5\"/>\n<text text-anchor=\"middle\" x=\"327.5\" y=\"-14.8\" font-family=\"Times,serif\" font-size=\"14.00\">c</text>\n<polyline fill=\"none\" stroke=\"black\" points=\"339,-0.5 339,-36.5 \"/>\n<text text-anchor=\"middle\" x=\"382.5\" y=\"-14.8\" font-family=\"Times,serif\" font-size=\"14.00\">data 10.0000</text>\n<polyline fill=\"none\" stroke=\"black\" points=\"426,-0.5 426,-36.5 \"/>\n<text text-anchor=\"middle\" x=\"467\" y=\"-14.8\" font-family=\"Times,serif\" font-size=\"14.00\">grad 0.0000</text>\n</g>\n<!-- 137626649932704&#45;&gt;137626649929632+ -->\n<g id=\"edge9\" class=\"edge\">\n<title>137626649932704&#45;&gt;137626649929632+</title>\n<path fill=\"none\" stroke=\"black\" d=\"M508.4,-34.91C517.69,-36.5 526.64,-38.04 534.71,-39.43\"/>\n<polygon fill=\"black\" stroke=\"black\" points=\"534.32,-42.91 544.76,-41.16 535.5,-36.02 534.32,-42.91\"/>\n</g>\n</g>\n</svg>\n",
            "text/plain": [
              "<graphviz.graphs.Digraph at 0x7d2bb38bacb0>"
            ]
          },
          "metadata": {},
          "execution_count": 299
        }
      ]
    },
    {
      "cell_type": "code",
      "source": [
        "# dL/dd\n",
        "def lol():\n",
        "\n",
        "  h = 1e-6\n",
        "\n",
        "  a = Value(2.0, label='a')\n",
        "  b = Value(-3.0, label='b')\n",
        "  c = Value(10.0, label='c')\n",
        "  e = a * b; e.label = 'e'\n",
        "  d = e + c; d.label = 'd'\n",
        "  f = Value(-2.0, label='f')\n",
        "  L = d * f; L.label = 'L'\n",
        "  L1 = L.data\n",
        "\n",
        "  a = Value(2.0, label='a')\n",
        "  b = Value(-3.0, label='b')\n",
        "  c = Value(10.0, label='c')\n",
        "  e = a * b; e.label = 'e'\n",
        "  d = e + c; d.label = 'd'\n",
        "  d.data += h\n",
        "  f = Value(-2.0, label='f')\n",
        "  L = d * f; L.label = 'L'\n",
        "  L2 = L.data\n",
        "\n",
        "  print((L2 - L1) / h)\n",
        "\n",
        "lol()"
      ],
      "metadata": {
        "colab": {
          "base_uri": "https://localhost:8080/"
        },
        "id": "P7xMPg581zcr",
        "outputId": "82951a22-d0b3-4662-fd3c-3cdfac145d56"
      },
      "execution_count": 300,
      "outputs": [
        {
          "output_type": "stream",
          "name": "stdout",
          "text": [
            "-2.000000000279556\n"
          ]
        }
      ]
    },
    {
      "cell_type": "code",
      "source": [
        "d.grad = -2.0"
      ],
      "metadata": {
        "id": "2n1nnzMO16Os"
      },
      "execution_count": 301,
      "outputs": []
    },
    {
      "cell_type": "code",
      "source": [
        "# dL/df\n",
        "def lol():\n",
        "\n",
        "  h = 1e-6\n",
        "\n",
        "  a = Value(2.0, label='a')\n",
        "  b = Value(-3.0, label='b')\n",
        "  c = Value(10.0, label='c')\n",
        "  e = a * b; e.label = 'e'\n",
        "  d = e + c; d.label = 'd'\n",
        "  f = Value(-2.0, label='f')\n",
        "  L = d * f; L.label = 'L'\n",
        "  L1 = L.data\n",
        "\n",
        "  a = Value(2.0, label='a')\n",
        "  b = Value(-3.0, label='b')\n",
        "  c = Value(10.0, label='c')\n",
        "  e = a * b; e.label = 'e'\n",
        "  d = e + c; d.label = 'd'\n",
        "  f = Value(-2.0, label='f')\n",
        "  f.data += h\n",
        "  L = d * f; L.label = 'L'\n",
        "  L2 = L.data\n",
        "\n",
        "  print((L2 - L1) / h)\n",
        "\n",
        "lol()"
      ],
      "metadata": {
        "colab": {
          "base_uri": "https://localhost:8080/"
        },
        "id": "Rka-qByR22a4",
        "outputId": "d2a10faa-fc6b-4ce4-a5e4-2ec6b0215cc2"
      },
      "execution_count": 302,
      "outputs": [
        {
          "output_type": "stream",
          "name": "stdout",
          "text": [
            "3.9999999996709334\n"
          ]
        }
      ]
    },
    {
      "cell_type": "code",
      "source": [
        "f.grad = 4.0"
      ],
      "metadata": {
        "id": "3wobtBQI3SZw"
      },
      "execution_count": 303,
      "outputs": []
    },
    {
      "cell_type": "code",
      "source": [
        "draw_dot(L)"
      ],
      "metadata": {
        "colab": {
          "base_uri": "https://localhost:8080/",
          "height": 212
        },
        "id": "ZhwdNWju3oEI",
        "outputId": "f4f66223-d0ac-4334-8cb7-6cb69972515a"
      },
      "execution_count": 304,
      "outputs": [
        {
          "output_type": "execute_result",
          "data": {
            "image/svg+xml": "<?xml version=\"1.0\" encoding=\"UTF-8\" standalone=\"no\"?>\n<!DOCTYPE svg PUBLIC \"-//W3C//DTD SVG 1.1//EN\"\n \"http://www.w3.org/Graphics/SVG/1.1/DTD/svg11.dtd\">\n<!-- Generated by graphviz version 2.43.0 (0)\n -->\n<!-- Title: %3 Pages: 1 -->\n<svg width=\"1149pt\" height=\"128pt\"\n viewBox=\"0.00 0.00 1149.00 128.00\" xmlns=\"http://www.w3.org/2000/svg\" xmlns:xlink=\"http://www.w3.org/1999/xlink\">\n<g id=\"graph0\" class=\"graph\" transform=\"scale(1 1) rotate(0) translate(4 124)\">\n<title>%3</title>\n<polygon fill=\"white\" stroke=\"transparent\" points=\"-4,4 -4,-124 1145,-124 1145,4 -4,4\"/>\n<!-- 137626649334912 -->\n<g id=\"node1\" class=\"node\">\n<title>137626649334912</title>\n<polygon fill=\"none\" stroke=\"black\" points=\"634.5,-82.5 634.5,-118.5 822.5,-118.5 822.5,-82.5 634.5,-82.5\"/>\n<text text-anchor=\"middle\" x=\"645\" y=\"-96.8\" font-family=\"Times,serif\" font-size=\"14.00\">f</text>\n<polyline fill=\"none\" stroke=\"black\" points=\"655.5,-82.5 655.5,-118.5 \"/>\n<text text-anchor=\"middle\" x=\"698\" y=\"-96.8\" font-family=\"Times,serif\" font-size=\"14.00\">data &#45;2.0000</text>\n<polyline fill=\"none\" stroke=\"black\" points=\"740.5,-82.5 740.5,-118.5 \"/>\n<text text-anchor=\"middle\" x=\"781.5\" y=\"-96.8\" font-family=\"Times,serif\" font-size=\"14.00\">grad 4.0000</text>\n</g>\n<!-- 137626649934048* -->\n<g id=\"node4\" class=\"node\">\n<title>137626649934048*</title>\n<ellipse fill=\"none\" stroke=\"black\" cx=\"886\" cy=\"-72.5\" rx=\"27\" ry=\"18\"/>\n<text text-anchor=\"middle\" x=\"886\" y=\"-68.8\" font-family=\"Times,serif\" font-size=\"14.00\">*</text>\n</g>\n<!-- 137626649334912&#45;&gt;137626649934048* -->\n<g id=\"edge8\" class=\"edge\">\n<title>137626649334912&#45;&gt;137626649934048*</title>\n<path fill=\"none\" stroke=\"black\" d=\"M822.65,-83.73C832.2,-82.01 841.43,-80.35 849.72,-78.85\"/>\n<polygon fill=\"black\" stroke=\"black\" points=\"850.47,-82.27 859.69,-77.06 849.23,-75.39 850.47,-82.27\"/>\n</g>\n<!-- 137626649927376 -->\n<g id=\"node2\" class=\"node\">\n<title>137626649927376</title>\n<polygon fill=\"none\" stroke=\"black\" points=\"0,-83.5 0,-119.5 190,-119.5 190,-83.5 0,-83.5\"/>\n<text text-anchor=\"middle\" x=\"11.5\" y=\"-97.8\" font-family=\"Times,serif\" font-size=\"14.00\">b</text>\n<polyline fill=\"none\" stroke=\"black\" points=\"23,-83.5 23,-119.5 \"/>\n<text text-anchor=\"middle\" x=\"65.5\" y=\"-97.8\" font-family=\"Times,serif\" font-size=\"14.00\">data &#45;3.0000</text>\n<polyline fill=\"none\" stroke=\"black\" points=\"108,-83.5 108,-119.5 \"/>\n<text text-anchor=\"middle\" x=\"149\" y=\"-97.8\" font-family=\"Times,serif\" font-size=\"14.00\">grad 0.0000</text>\n</g>\n<!-- 137626649924400* -->\n<g id=\"node7\" class=\"node\">\n<title>137626649924400*</title>\n<ellipse fill=\"none\" stroke=\"black\" cx=\"253\" cy=\"-73.5\" rx=\"27\" ry=\"18\"/>\n<text text-anchor=\"middle\" x=\"253\" y=\"-69.8\" font-family=\"Times,serif\" font-size=\"14.00\">*</text>\n</g>\n<!-- 137626649927376&#45;&gt;137626649924400* -->\n<g id=\"edge7\" class=\"edge\">\n<title>137626649927376&#45;&gt;137626649924400*</title>\n<path fill=\"none\" stroke=\"black\" d=\"M190.34,-84.57C199.62,-82.9 208.58,-81.29 216.66,-79.84\"/>\n<polygon fill=\"black\" stroke=\"black\" points=\"217.49,-83.25 226.72,-78.04 216.26,-76.36 217.49,-83.25\"/>\n</g>\n<!-- 137626649934048 -->\n<g id=\"node3\" class=\"node\">\n<title>137626649934048</title>\n<polygon fill=\"none\" stroke=\"black\" points=\"949,-54.5 949,-90.5 1141,-90.5 1141,-54.5 949,-54.5\"/>\n<text text-anchor=\"middle\" x=\"961.5\" y=\"-68.8\" font-family=\"Times,serif\" font-size=\"14.00\">L</text>\n<polyline fill=\"none\" stroke=\"black\" points=\"974,-54.5 974,-90.5 \"/>\n<text text-anchor=\"middle\" x=\"1016.5\" y=\"-68.8\" font-family=\"Times,serif\" font-size=\"14.00\">data &#45;8.0000</text>\n<polyline fill=\"none\" stroke=\"black\" points=\"1059,-54.5 1059,-90.5 \"/>\n<text text-anchor=\"middle\" x=\"1100\" y=\"-68.8\" font-family=\"Times,serif\" font-size=\"14.00\">grad 1.0000</text>\n</g>\n<!-- 137626649934048*&#45;&gt;137626649934048 -->\n<g id=\"edge1\" class=\"edge\">\n<title>137626649934048*&#45;&gt;137626649934048</title>\n<path fill=\"none\" stroke=\"black\" d=\"M913.28,-72.5C920.78,-72.5 929.44,-72.5 938.67,-72.5\"/>\n<polygon fill=\"black\" stroke=\"black\" points=\"938.87,-76 948.87,-72.5 938.87,-69 938.87,-76\"/>\n</g>\n<!-- 137626649486592 -->\n<g id=\"node5\" class=\"node\">\n<title>137626649486592</title>\n<polygon fill=\"none\" stroke=\"black\" points=\"2.5,-28.5 2.5,-64.5 187.5,-64.5 187.5,-28.5 2.5,-28.5\"/>\n<text text-anchor=\"middle\" x=\"14\" y=\"-42.8\" font-family=\"Times,serif\" font-size=\"14.00\">a</text>\n<polyline fill=\"none\" stroke=\"black\" points=\"25.5,-28.5 25.5,-64.5 \"/>\n<text text-anchor=\"middle\" x=\"65.5\" y=\"-42.8\" font-family=\"Times,serif\" font-size=\"14.00\">data 2.0000</text>\n<polyline fill=\"none\" stroke=\"black\" points=\"105.5,-28.5 105.5,-64.5 \"/>\n<text text-anchor=\"middle\" x=\"146.5\" y=\"-42.8\" font-family=\"Times,serif\" font-size=\"14.00\">grad 0.0000</text>\n</g>\n<!-- 137626649486592&#45;&gt;137626649924400* -->\n<g id=\"edge5\" class=\"edge\">\n<title>137626649486592&#45;&gt;137626649924400*</title>\n<path fill=\"none\" stroke=\"black\" d=\"M187.65,-62.36C197.94,-64.14 207.91,-65.87 216.81,-67.41\"/>\n<polygon fill=\"black\" stroke=\"black\" points=\"216.26,-70.87 226.71,-69.12 217.45,-63.97 216.26,-70.87\"/>\n</g>\n<!-- 137626649924400 -->\n<g id=\"node6\" class=\"node\">\n<title>137626649924400</title>\n<polygon fill=\"none\" stroke=\"black\" points=\"317,-55.5 317,-91.5 507,-91.5 507,-55.5 317,-55.5\"/>\n<text text-anchor=\"middle\" x=\"328.5\" y=\"-69.8\" font-family=\"Times,serif\" font-size=\"14.00\">e</text>\n<polyline fill=\"none\" stroke=\"black\" points=\"340,-55.5 340,-91.5 \"/>\n<text text-anchor=\"middle\" x=\"382.5\" y=\"-69.8\" font-family=\"Times,serif\" font-size=\"14.00\">data &#45;6.0000</text>\n<polyline fill=\"none\" stroke=\"black\" points=\"425,-55.5 425,-91.5 \"/>\n<text text-anchor=\"middle\" x=\"466\" y=\"-69.8\" font-family=\"Times,serif\" font-size=\"14.00\">grad 0.0000</text>\n</g>\n<!-- 137626649929632+ -->\n<g id=\"node9\" class=\"node\">\n<title>137626649929632+</title>\n<ellipse fill=\"none\" stroke=\"black\" cx=\"571\" cy=\"-45.5\" rx=\"27\" ry=\"18\"/>\n<text text-anchor=\"middle\" x=\"571\" y=\"-41.8\" font-family=\"Times,serif\" font-size=\"14.00\">+</text>\n</g>\n<!-- 137626649924400&#45;&gt;137626649929632+ -->\n<g id=\"edge6\" class=\"edge\">\n<title>137626649924400&#45;&gt;137626649929632+</title>\n<path fill=\"none\" stroke=\"black\" d=\"M507.05,-56.73C516.89,-54.97 526.39,-53.28 534.9,-51.76\"/>\n<polygon fill=\"black\" stroke=\"black\" points=\"535.52,-55.2 544.75,-50 534.29,-48.31 535.52,-55.2\"/>\n</g>\n<!-- 137626649924400*&#45;&gt;137626649924400 -->\n<g id=\"edge2\" class=\"edge\">\n<title>137626649924400*&#45;&gt;137626649924400</title>\n<path fill=\"none\" stroke=\"black\" d=\"M280.28,-73.5C288.05,-73.5 297.08,-73.5 306.68,-73.5\"/>\n<polygon fill=\"black\" stroke=\"black\" points=\"306.88,-77 316.88,-73.5 306.88,-70 306.88,-77\"/>\n</g>\n<!-- 137626649929632 -->\n<g id=\"node8\" class=\"node\">\n<title>137626649929632</title>\n<polygon fill=\"none\" stroke=\"black\" points=\"634,-27.5 634,-63.5 823,-63.5 823,-27.5 634,-27.5\"/>\n<text text-anchor=\"middle\" x=\"645.5\" y=\"-41.8\" font-family=\"Times,serif\" font-size=\"14.00\">d</text>\n<polyline fill=\"none\" stroke=\"black\" points=\"657,-27.5 657,-63.5 \"/>\n<text text-anchor=\"middle\" x=\"697\" y=\"-41.8\" font-family=\"Times,serif\" font-size=\"14.00\">data 4.0000</text>\n<polyline fill=\"none\" stroke=\"black\" points=\"737,-27.5 737,-63.5 \"/>\n<text text-anchor=\"middle\" x=\"780\" y=\"-41.8\" font-family=\"Times,serif\" font-size=\"14.00\">grad &#45;2.0000</text>\n</g>\n<!-- 137626649929632&#45;&gt;137626649934048* -->\n<g id=\"edge4\" class=\"edge\">\n<title>137626649929632&#45;&gt;137626649934048*</title>\n<path fill=\"none\" stroke=\"black\" d=\"M823.1,-61.75C832.4,-63.37 841.38,-64.93 849.49,-66.33\"/>\n<polygon fill=\"black\" stroke=\"black\" points=\"849.14,-69.83 859.59,-68.09 850.34,-62.93 849.14,-69.83\"/>\n</g>\n<!-- 137626649929632+&#45;&gt;137626649929632 -->\n<g id=\"edge3\" class=\"edge\">\n<title>137626649929632+&#45;&gt;137626649929632</title>\n<path fill=\"none\" stroke=\"black\" d=\"M598.03,-45.5C605.66,-45.5 614.52,-45.5 623.94,-45.5\"/>\n<polygon fill=\"black\" stroke=\"black\" points=\"623.94,-49 633.94,-45.5 623.94,-42 623.94,-49\"/>\n</g>\n<!-- 137626649932704 -->\n<g id=\"node10\" class=\"node\">\n<title>137626649932704</title>\n<polygon fill=\"none\" stroke=\"black\" points=\"316,-0.5 316,-36.5 508,-36.5 508,-0.5 316,-0.5\"/>\n<text text-anchor=\"middle\" x=\"327.5\" y=\"-14.8\" font-family=\"Times,serif\" font-size=\"14.00\">c</text>\n<polyline fill=\"none\" stroke=\"black\" points=\"339,-0.5 339,-36.5 \"/>\n<text text-anchor=\"middle\" x=\"382.5\" y=\"-14.8\" font-family=\"Times,serif\" font-size=\"14.00\">data 10.0000</text>\n<polyline fill=\"none\" stroke=\"black\" points=\"426,-0.5 426,-36.5 \"/>\n<text text-anchor=\"middle\" x=\"467\" y=\"-14.8\" font-family=\"Times,serif\" font-size=\"14.00\">grad 0.0000</text>\n</g>\n<!-- 137626649932704&#45;&gt;137626649929632+ -->\n<g id=\"edge9\" class=\"edge\">\n<title>137626649932704&#45;&gt;137626649929632+</title>\n<path fill=\"none\" stroke=\"black\" d=\"M508.4,-34.91C517.69,-36.5 526.64,-38.04 534.71,-39.43\"/>\n<polygon fill=\"black\" stroke=\"black\" points=\"534.32,-42.91 544.76,-41.16 535.5,-36.02 534.32,-42.91\"/>\n</g>\n</g>\n</svg>\n",
            "text/plain": [
              "<graphviz.graphs.Digraph at 0x7d2bb3949f00>"
            ]
          },
          "metadata": {},
          "execution_count": 304
        }
      ]
    },
    {
      "cell_type": "code",
      "source": [
        "# dL/de\n",
        "def lol():\n",
        "\n",
        "  h = 1e-6\n",
        "\n",
        "  a = Value(2.0, label='a')\n",
        "  b = Value(-3.0, label='b')\n",
        "  c = Value(10.0, label='c')\n",
        "  e = a * b; e.label = 'e'\n",
        "  d = e + c; d.label = 'd'\n",
        "  f = Value(-2.0, label='f')\n",
        "  L = d * f; L.label = 'L'\n",
        "  L1 = L.data\n",
        "\n",
        "  a = Value(2.0, label='a')\n",
        "  b = Value(-3.0, label='b')\n",
        "  c = Value(10.0, label='c')\n",
        "  e = a * b; e.label = 'e'\n",
        "  e.data += h\n",
        "  d = e + c; d.label = 'd'\n",
        "  f = Value(-2.0, label='f')\n",
        "  L = d * f; L.label = 'L'\n",
        "  L2 = L.data\n",
        "\n",
        "  print((L2 - L1) / h)\n",
        "\n",
        "lol()"
      ],
      "metadata": {
        "colab": {
          "base_uri": "https://localhost:8080/"
        },
        "id": "44jnBk3X3pB7",
        "outputId": "8ee4831e-c681-4791-cf6d-69eb7aad2e6c"
      },
      "execution_count": 305,
      "outputs": [
        {
          "output_type": "stream",
          "name": "stdout",
          "text": [
            "-2.000000000279556\n"
          ]
        }
      ]
    },
    {
      "cell_type": "code",
      "source": [
        "e.grad = -2.0"
      ],
      "metadata": {
        "id": "NhCQRK9B4Hr6"
      },
      "execution_count": 306,
      "outputs": []
    },
    {
      "cell_type": "code",
      "source": [
        "draw_dot(L)"
      ],
      "metadata": {
        "colab": {
          "base_uri": "https://localhost:8080/",
          "height": 212
        },
        "id": "fHEu688x4W9u",
        "outputId": "f16d5a6d-ab95-4703-b077-b369c2798cfe"
      },
      "execution_count": 307,
      "outputs": [
        {
          "output_type": "execute_result",
          "data": {
            "image/svg+xml": "<?xml version=\"1.0\" encoding=\"UTF-8\" standalone=\"no\"?>\n<!DOCTYPE svg PUBLIC \"-//W3C//DTD SVG 1.1//EN\"\n \"http://www.w3.org/Graphics/SVG/1.1/DTD/svg11.dtd\">\n<!-- Generated by graphviz version 2.43.0 (0)\n -->\n<!-- Title: %3 Pages: 1 -->\n<svg width=\"1151pt\" height=\"128pt\"\n viewBox=\"0.00 0.00 1151.00 128.00\" xmlns=\"http://www.w3.org/2000/svg\" xmlns:xlink=\"http://www.w3.org/1999/xlink\">\n<g id=\"graph0\" class=\"graph\" transform=\"scale(1 1) rotate(0) translate(4 124)\">\n<title>%3</title>\n<polygon fill=\"white\" stroke=\"transparent\" points=\"-4,4 -4,-124 1147,-124 1147,4 -4,4\"/>\n<!-- 137626649334912 -->\n<g id=\"node1\" class=\"node\">\n<title>137626649334912</title>\n<polygon fill=\"none\" stroke=\"black\" points=\"636.5,-82.5 636.5,-118.5 824.5,-118.5 824.5,-82.5 636.5,-82.5\"/>\n<text text-anchor=\"middle\" x=\"647\" y=\"-96.8\" font-family=\"Times,serif\" font-size=\"14.00\">f</text>\n<polyline fill=\"none\" stroke=\"black\" points=\"657.5,-82.5 657.5,-118.5 \"/>\n<text text-anchor=\"middle\" x=\"700\" y=\"-96.8\" font-family=\"Times,serif\" font-size=\"14.00\">data &#45;2.0000</text>\n<polyline fill=\"none\" stroke=\"black\" points=\"742.5,-82.5 742.5,-118.5 \"/>\n<text text-anchor=\"middle\" x=\"783.5\" y=\"-96.8\" font-family=\"Times,serif\" font-size=\"14.00\">grad 4.0000</text>\n</g>\n<!-- 137626649934048* -->\n<g id=\"node4\" class=\"node\">\n<title>137626649934048*</title>\n<ellipse fill=\"none\" stroke=\"black\" cx=\"888\" cy=\"-72.5\" rx=\"27\" ry=\"18\"/>\n<text text-anchor=\"middle\" x=\"888\" y=\"-68.8\" font-family=\"Times,serif\" font-size=\"14.00\">*</text>\n</g>\n<!-- 137626649334912&#45;&gt;137626649934048* -->\n<g id=\"edge8\" class=\"edge\">\n<title>137626649334912&#45;&gt;137626649934048*</title>\n<path fill=\"none\" stroke=\"black\" d=\"M824.65,-83.73C834.2,-82.01 843.43,-80.35 851.72,-78.85\"/>\n<polygon fill=\"black\" stroke=\"black\" points=\"852.47,-82.27 861.69,-77.06 851.23,-75.39 852.47,-82.27\"/>\n</g>\n<!-- 137626649927376 -->\n<g id=\"node2\" class=\"node\">\n<title>137626649927376</title>\n<polygon fill=\"none\" stroke=\"black\" points=\"0,-83.5 0,-119.5 190,-119.5 190,-83.5 0,-83.5\"/>\n<text text-anchor=\"middle\" x=\"11.5\" y=\"-97.8\" font-family=\"Times,serif\" font-size=\"14.00\">b</text>\n<polyline fill=\"none\" stroke=\"black\" points=\"23,-83.5 23,-119.5 \"/>\n<text text-anchor=\"middle\" x=\"65.5\" y=\"-97.8\" font-family=\"Times,serif\" font-size=\"14.00\">data &#45;3.0000</text>\n<polyline fill=\"none\" stroke=\"black\" points=\"108,-83.5 108,-119.5 \"/>\n<text text-anchor=\"middle\" x=\"149\" y=\"-97.8\" font-family=\"Times,serif\" font-size=\"14.00\">grad 0.0000</text>\n</g>\n<!-- 137626649924400* -->\n<g id=\"node7\" class=\"node\">\n<title>137626649924400*</title>\n<ellipse fill=\"none\" stroke=\"black\" cx=\"253\" cy=\"-73.5\" rx=\"27\" ry=\"18\"/>\n<text text-anchor=\"middle\" x=\"253\" y=\"-69.8\" font-family=\"Times,serif\" font-size=\"14.00\">*</text>\n</g>\n<!-- 137626649927376&#45;&gt;137626649924400* -->\n<g id=\"edge7\" class=\"edge\">\n<title>137626649927376&#45;&gt;137626649924400*</title>\n<path fill=\"none\" stroke=\"black\" d=\"M190.34,-84.57C199.62,-82.9 208.58,-81.29 216.66,-79.84\"/>\n<polygon fill=\"black\" stroke=\"black\" points=\"217.49,-83.25 226.72,-78.04 216.26,-76.36 217.49,-83.25\"/>\n</g>\n<!-- 137626649934048 -->\n<g id=\"node3\" class=\"node\">\n<title>137626649934048</title>\n<polygon fill=\"none\" stroke=\"black\" points=\"951,-54.5 951,-90.5 1143,-90.5 1143,-54.5 951,-54.5\"/>\n<text text-anchor=\"middle\" x=\"963.5\" y=\"-68.8\" font-family=\"Times,serif\" font-size=\"14.00\">L</text>\n<polyline fill=\"none\" stroke=\"black\" points=\"976,-54.5 976,-90.5 \"/>\n<text text-anchor=\"middle\" x=\"1018.5\" y=\"-68.8\" font-family=\"Times,serif\" font-size=\"14.00\">data &#45;8.0000</text>\n<polyline fill=\"none\" stroke=\"black\" points=\"1061,-54.5 1061,-90.5 \"/>\n<text text-anchor=\"middle\" x=\"1102\" y=\"-68.8\" font-family=\"Times,serif\" font-size=\"14.00\">grad 1.0000</text>\n</g>\n<!-- 137626649934048*&#45;&gt;137626649934048 -->\n<g id=\"edge1\" class=\"edge\">\n<title>137626649934048*&#45;&gt;137626649934048</title>\n<path fill=\"none\" stroke=\"black\" d=\"M915.28,-72.5C922.78,-72.5 931.44,-72.5 940.67,-72.5\"/>\n<polygon fill=\"black\" stroke=\"black\" points=\"940.87,-76 950.87,-72.5 940.87,-69 940.87,-76\"/>\n</g>\n<!-- 137626649486592 -->\n<g id=\"node5\" class=\"node\">\n<title>137626649486592</title>\n<polygon fill=\"none\" stroke=\"black\" points=\"2.5,-28.5 2.5,-64.5 187.5,-64.5 187.5,-28.5 2.5,-28.5\"/>\n<text text-anchor=\"middle\" x=\"14\" y=\"-42.8\" font-family=\"Times,serif\" font-size=\"14.00\">a</text>\n<polyline fill=\"none\" stroke=\"black\" points=\"25.5,-28.5 25.5,-64.5 \"/>\n<text text-anchor=\"middle\" x=\"65.5\" y=\"-42.8\" font-family=\"Times,serif\" font-size=\"14.00\">data 2.0000</text>\n<polyline fill=\"none\" stroke=\"black\" points=\"105.5,-28.5 105.5,-64.5 \"/>\n<text text-anchor=\"middle\" x=\"146.5\" y=\"-42.8\" font-family=\"Times,serif\" font-size=\"14.00\">grad 0.0000</text>\n</g>\n<!-- 137626649486592&#45;&gt;137626649924400* -->\n<g id=\"edge5\" class=\"edge\">\n<title>137626649486592&#45;&gt;137626649924400*</title>\n<path fill=\"none\" stroke=\"black\" d=\"M187.65,-62.36C197.94,-64.14 207.91,-65.87 216.81,-67.41\"/>\n<polygon fill=\"black\" stroke=\"black\" points=\"216.26,-70.87 226.71,-69.12 217.45,-63.97 216.26,-70.87\"/>\n</g>\n<!-- 137626649924400 -->\n<g id=\"node6\" class=\"node\">\n<title>137626649924400</title>\n<polygon fill=\"none\" stroke=\"black\" points=\"316,-55.5 316,-91.5 510,-91.5 510,-55.5 316,-55.5\"/>\n<text text-anchor=\"middle\" x=\"327.5\" y=\"-69.8\" font-family=\"Times,serif\" font-size=\"14.00\">e</text>\n<polyline fill=\"none\" stroke=\"black\" points=\"339,-55.5 339,-91.5 \"/>\n<text text-anchor=\"middle\" x=\"381.5\" y=\"-69.8\" font-family=\"Times,serif\" font-size=\"14.00\">data &#45;6.0000</text>\n<polyline fill=\"none\" stroke=\"black\" points=\"424,-55.5 424,-91.5 \"/>\n<text text-anchor=\"middle\" x=\"467\" y=\"-69.8\" font-family=\"Times,serif\" font-size=\"14.00\">grad &#45;2.0000</text>\n</g>\n<!-- 137626649929632+ -->\n<g id=\"node9\" class=\"node\">\n<title>137626649929632+</title>\n<ellipse fill=\"none\" stroke=\"black\" cx=\"573\" cy=\"-45.5\" rx=\"27\" ry=\"18\"/>\n<text text-anchor=\"middle\" x=\"573\" y=\"-41.8\" font-family=\"Times,serif\" font-size=\"14.00\">+</text>\n</g>\n<!-- 137626649924400&#45;&gt;137626649929632+ -->\n<g id=\"edge6\" class=\"edge\">\n<title>137626649924400&#45;&gt;137626649929632+</title>\n<path fill=\"none\" stroke=\"black\" d=\"M510.01,-56.49C519.35,-54.83 528.37,-53.23 536.49,-51.79\"/>\n<polygon fill=\"black\" stroke=\"black\" points=\"537.37,-55.19 546.6,-50 536.15,-48.3 537.37,-55.19\"/>\n</g>\n<!-- 137626649924400*&#45;&gt;137626649924400 -->\n<g id=\"edge2\" class=\"edge\">\n<title>137626649924400*&#45;&gt;137626649924400</title>\n<path fill=\"none\" stroke=\"black\" d=\"M280.09,-73.5C287.62,-73.5 296.34,-73.5 305.63,-73.5\"/>\n<polygon fill=\"black\" stroke=\"black\" points=\"305.92,-77 315.92,-73.5 305.92,-70 305.92,-77\"/>\n</g>\n<!-- 137626649929632 -->\n<g id=\"node8\" class=\"node\">\n<title>137626649929632</title>\n<polygon fill=\"none\" stroke=\"black\" points=\"636,-27.5 636,-63.5 825,-63.5 825,-27.5 636,-27.5\"/>\n<text text-anchor=\"middle\" x=\"647.5\" y=\"-41.8\" font-family=\"Times,serif\" font-size=\"14.00\">d</text>\n<polyline fill=\"none\" stroke=\"black\" points=\"659,-27.5 659,-63.5 \"/>\n<text text-anchor=\"middle\" x=\"699\" y=\"-41.8\" font-family=\"Times,serif\" font-size=\"14.00\">data 4.0000</text>\n<polyline fill=\"none\" stroke=\"black\" points=\"739,-27.5 739,-63.5 \"/>\n<text text-anchor=\"middle\" x=\"782\" y=\"-41.8\" font-family=\"Times,serif\" font-size=\"14.00\">grad &#45;2.0000</text>\n</g>\n<!-- 137626649929632&#45;&gt;137626649934048* -->\n<g id=\"edge4\" class=\"edge\">\n<title>137626649929632&#45;&gt;137626649934048*</title>\n<path fill=\"none\" stroke=\"black\" d=\"M825.1,-61.75C834.4,-63.37 843.38,-64.93 851.49,-66.33\"/>\n<polygon fill=\"black\" stroke=\"black\" points=\"851.14,-69.83 861.59,-68.09 852.34,-62.93 851.14,-69.83\"/>\n</g>\n<!-- 137626649929632+&#45;&gt;137626649929632 -->\n<g id=\"edge3\" class=\"edge\">\n<title>137626649929632+&#45;&gt;137626649929632</title>\n<path fill=\"none\" stroke=\"black\" d=\"M600.03,-45.5C607.66,-45.5 616.52,-45.5 625.94,-45.5\"/>\n<polygon fill=\"black\" stroke=\"black\" points=\"625.94,-49 635.94,-45.5 625.94,-42 625.94,-49\"/>\n</g>\n<!-- 137626649932704 -->\n<g id=\"node10\" class=\"node\">\n<title>137626649932704</title>\n<polygon fill=\"none\" stroke=\"black\" points=\"317,-0.5 317,-36.5 509,-36.5 509,-0.5 317,-0.5\"/>\n<text text-anchor=\"middle\" x=\"328.5\" y=\"-14.8\" font-family=\"Times,serif\" font-size=\"14.00\">c</text>\n<polyline fill=\"none\" stroke=\"black\" points=\"340,-0.5 340,-36.5 \"/>\n<text text-anchor=\"middle\" x=\"383.5\" y=\"-14.8\" font-family=\"Times,serif\" font-size=\"14.00\">data 10.0000</text>\n<polyline fill=\"none\" stroke=\"black\" points=\"427,-0.5 427,-36.5 \"/>\n<text text-anchor=\"middle\" x=\"468\" y=\"-14.8\" font-family=\"Times,serif\" font-size=\"14.00\">grad 0.0000</text>\n</g>\n<!-- 137626649932704&#45;&gt;137626649929632+ -->\n<g id=\"edge9\" class=\"edge\">\n<title>137626649932704&#45;&gt;137626649929632+</title>\n<path fill=\"none\" stroke=\"black\" d=\"M509.1,-34.75C518.75,-36.4 528.07,-37.99 536.44,-39.42\"/>\n<polygon fill=\"black\" stroke=\"black\" points=\"536.04,-42.91 546.49,-41.14 537.22,-36.01 536.04,-42.91\"/>\n</g>\n</g>\n</svg>\n",
            "text/plain": [
              "<graphviz.graphs.Digraph at 0x7d2bb396cc40>"
            ]
          },
          "metadata": {},
          "execution_count": 307
        }
      ]
    },
    {
      "cell_type": "code",
      "source": [
        "# dL/dc\n",
        "def lol():\n",
        "\n",
        "  h = 1e-6\n",
        "\n",
        "  a = Value(2.0, label='a')\n",
        "  b = Value(-3.0, label='b')\n",
        "  c = Value(10.0, label='c')\n",
        "  e = a * b; e.label = 'e'\n",
        "  d = e + c; d.label = 'd'\n",
        "  f = Value(-2.0, label='f')\n",
        "  L = d * f; L.label = 'L'\n",
        "  L1 = L.data\n",
        "\n",
        "  a = Value(2.0, label='a')\n",
        "  b = Value(-3.0, label='b')\n",
        "  c = Value(10.0, label='c')\n",
        "  c.data += h\n",
        "  e = a * b; e.label = 'e'\n",
        "  d = e + c; d.label = 'd'\n",
        "  f = Value(-2.0, label='f')\n",
        "  L = d * f; L.label = 'L'\n",
        "  L2 = L.data\n",
        "\n",
        "  print((L2 - L1) / h)\n",
        "\n",
        "lol()"
      ],
      "metadata": {
        "colab": {
          "base_uri": "https://localhost:8080/"
        },
        "id": "vT8p-zCV4Zhk",
        "outputId": "43c0db5b-8d78-40ae-803f-91a1caa378f3"
      },
      "execution_count": 308,
      "outputs": [
        {
          "output_type": "stream",
          "name": "stdout",
          "text": [
            "-1.999999998503199\n"
          ]
        }
      ]
    },
    {
      "cell_type": "code",
      "source": [
        "c.grad = -2.0"
      ],
      "metadata": {
        "id": "s5vTrzlT40Vx"
      },
      "execution_count": 309,
      "outputs": []
    },
    {
      "cell_type": "code",
      "source": [
        "draw_dot(L)"
      ],
      "metadata": {
        "colab": {
          "base_uri": "https://localhost:8080/",
          "height": 212
        },
        "id": "PkrROw0V43QT",
        "outputId": "35480910-e9b8-4e81-b218-6dc71d98ba31"
      },
      "execution_count": 310,
      "outputs": [
        {
          "output_type": "execute_result",
          "data": {
            "image/svg+xml": "<?xml version=\"1.0\" encoding=\"UTF-8\" standalone=\"no\"?>\n<!DOCTYPE svg PUBLIC \"-//W3C//DTD SVG 1.1//EN\"\n \"http://www.w3.org/Graphics/SVG/1.1/DTD/svg11.dtd\">\n<!-- Generated by graphviz version 2.43.0 (0)\n -->\n<!-- Title: %3 Pages: 1 -->\n<svg width=\"1153pt\" height=\"128pt\"\n viewBox=\"0.00 0.00 1153.00 128.00\" xmlns=\"http://www.w3.org/2000/svg\" xmlns:xlink=\"http://www.w3.org/1999/xlink\">\n<g id=\"graph0\" class=\"graph\" transform=\"scale(1 1) rotate(0) translate(4 124)\">\n<title>%3</title>\n<polygon fill=\"white\" stroke=\"transparent\" points=\"-4,4 -4,-124 1149,-124 1149,4 -4,4\"/>\n<!-- 137626649334912 -->\n<g id=\"node1\" class=\"node\">\n<title>137626649334912</title>\n<polygon fill=\"none\" stroke=\"black\" points=\"638.5,-82.5 638.5,-118.5 826.5,-118.5 826.5,-82.5 638.5,-82.5\"/>\n<text text-anchor=\"middle\" x=\"649\" y=\"-96.8\" font-family=\"Times,serif\" font-size=\"14.00\">f</text>\n<polyline fill=\"none\" stroke=\"black\" points=\"659.5,-82.5 659.5,-118.5 \"/>\n<text text-anchor=\"middle\" x=\"702\" y=\"-96.8\" font-family=\"Times,serif\" font-size=\"14.00\">data &#45;2.0000</text>\n<polyline fill=\"none\" stroke=\"black\" points=\"744.5,-82.5 744.5,-118.5 \"/>\n<text text-anchor=\"middle\" x=\"785.5\" y=\"-96.8\" font-family=\"Times,serif\" font-size=\"14.00\">grad 4.0000</text>\n</g>\n<!-- 137626649934048* -->\n<g id=\"node4\" class=\"node\">\n<title>137626649934048*</title>\n<ellipse fill=\"none\" stroke=\"black\" cx=\"890\" cy=\"-72.5\" rx=\"27\" ry=\"18\"/>\n<text text-anchor=\"middle\" x=\"890\" y=\"-68.8\" font-family=\"Times,serif\" font-size=\"14.00\">*</text>\n</g>\n<!-- 137626649334912&#45;&gt;137626649934048* -->\n<g id=\"edge8\" class=\"edge\">\n<title>137626649334912&#45;&gt;137626649934048*</title>\n<path fill=\"none\" stroke=\"black\" d=\"M826.65,-83.73C836.2,-82.01 845.43,-80.35 853.72,-78.85\"/>\n<polygon fill=\"black\" stroke=\"black\" points=\"854.47,-82.27 863.69,-77.06 853.23,-75.39 854.47,-82.27\"/>\n</g>\n<!-- 137626649927376 -->\n<g id=\"node2\" class=\"node\">\n<title>137626649927376</title>\n<polygon fill=\"none\" stroke=\"black\" points=\"0,-83.5 0,-119.5 190,-119.5 190,-83.5 0,-83.5\"/>\n<text text-anchor=\"middle\" x=\"11.5\" y=\"-97.8\" font-family=\"Times,serif\" font-size=\"14.00\">b</text>\n<polyline fill=\"none\" stroke=\"black\" points=\"23,-83.5 23,-119.5 \"/>\n<text text-anchor=\"middle\" x=\"65.5\" y=\"-97.8\" font-family=\"Times,serif\" font-size=\"14.00\">data &#45;3.0000</text>\n<polyline fill=\"none\" stroke=\"black\" points=\"108,-83.5 108,-119.5 \"/>\n<text text-anchor=\"middle\" x=\"149\" y=\"-97.8\" font-family=\"Times,serif\" font-size=\"14.00\">grad 0.0000</text>\n</g>\n<!-- 137626649924400* -->\n<g id=\"node7\" class=\"node\">\n<title>137626649924400*</title>\n<ellipse fill=\"none\" stroke=\"black\" cx=\"253\" cy=\"-73.5\" rx=\"27\" ry=\"18\"/>\n<text text-anchor=\"middle\" x=\"253\" y=\"-69.8\" font-family=\"Times,serif\" font-size=\"14.00\">*</text>\n</g>\n<!-- 137626649927376&#45;&gt;137626649924400* -->\n<g id=\"edge7\" class=\"edge\">\n<title>137626649927376&#45;&gt;137626649924400*</title>\n<path fill=\"none\" stroke=\"black\" d=\"M190.34,-84.57C199.62,-82.9 208.58,-81.29 216.66,-79.84\"/>\n<polygon fill=\"black\" stroke=\"black\" points=\"217.49,-83.25 226.72,-78.04 216.26,-76.36 217.49,-83.25\"/>\n</g>\n<!-- 137626649934048 -->\n<g id=\"node3\" class=\"node\">\n<title>137626649934048</title>\n<polygon fill=\"none\" stroke=\"black\" points=\"953,-54.5 953,-90.5 1145,-90.5 1145,-54.5 953,-54.5\"/>\n<text text-anchor=\"middle\" x=\"965.5\" y=\"-68.8\" font-family=\"Times,serif\" font-size=\"14.00\">L</text>\n<polyline fill=\"none\" stroke=\"black\" points=\"978,-54.5 978,-90.5 \"/>\n<text text-anchor=\"middle\" x=\"1020.5\" y=\"-68.8\" font-family=\"Times,serif\" font-size=\"14.00\">data &#45;8.0000</text>\n<polyline fill=\"none\" stroke=\"black\" points=\"1063,-54.5 1063,-90.5 \"/>\n<text text-anchor=\"middle\" x=\"1104\" y=\"-68.8\" font-family=\"Times,serif\" font-size=\"14.00\">grad 1.0000</text>\n</g>\n<!-- 137626649934048*&#45;&gt;137626649934048 -->\n<g id=\"edge1\" class=\"edge\">\n<title>137626649934048*&#45;&gt;137626649934048</title>\n<path fill=\"none\" stroke=\"black\" d=\"M917.28,-72.5C924.78,-72.5 933.44,-72.5 942.67,-72.5\"/>\n<polygon fill=\"black\" stroke=\"black\" points=\"942.87,-76 952.87,-72.5 942.87,-69 942.87,-76\"/>\n</g>\n<!-- 137626649486592 -->\n<g id=\"node5\" class=\"node\">\n<title>137626649486592</title>\n<polygon fill=\"none\" stroke=\"black\" points=\"2.5,-28.5 2.5,-64.5 187.5,-64.5 187.5,-28.5 2.5,-28.5\"/>\n<text text-anchor=\"middle\" x=\"14\" y=\"-42.8\" font-family=\"Times,serif\" font-size=\"14.00\">a</text>\n<polyline fill=\"none\" stroke=\"black\" points=\"25.5,-28.5 25.5,-64.5 \"/>\n<text text-anchor=\"middle\" x=\"65.5\" y=\"-42.8\" font-family=\"Times,serif\" font-size=\"14.00\">data 2.0000</text>\n<polyline fill=\"none\" stroke=\"black\" points=\"105.5,-28.5 105.5,-64.5 \"/>\n<text text-anchor=\"middle\" x=\"146.5\" y=\"-42.8\" font-family=\"Times,serif\" font-size=\"14.00\">grad 0.0000</text>\n</g>\n<!-- 137626649486592&#45;&gt;137626649924400* -->\n<g id=\"edge5\" class=\"edge\">\n<title>137626649486592&#45;&gt;137626649924400*</title>\n<path fill=\"none\" stroke=\"black\" d=\"M187.65,-62.36C197.94,-64.14 207.91,-65.87 216.81,-67.41\"/>\n<polygon fill=\"black\" stroke=\"black\" points=\"216.26,-70.87 226.71,-69.12 217.45,-63.97 216.26,-70.87\"/>\n</g>\n<!-- 137626649924400 -->\n<g id=\"node6\" class=\"node\">\n<title>137626649924400</title>\n<polygon fill=\"none\" stroke=\"black\" points=\"317,-55.5 317,-91.5 511,-91.5 511,-55.5 317,-55.5\"/>\n<text text-anchor=\"middle\" x=\"328.5\" y=\"-69.8\" font-family=\"Times,serif\" font-size=\"14.00\">e</text>\n<polyline fill=\"none\" stroke=\"black\" points=\"340,-55.5 340,-91.5 \"/>\n<text text-anchor=\"middle\" x=\"382.5\" y=\"-69.8\" font-family=\"Times,serif\" font-size=\"14.00\">data &#45;6.0000</text>\n<polyline fill=\"none\" stroke=\"black\" points=\"425,-55.5 425,-91.5 \"/>\n<text text-anchor=\"middle\" x=\"468\" y=\"-69.8\" font-family=\"Times,serif\" font-size=\"14.00\">grad &#45;2.0000</text>\n</g>\n<!-- 137626649929632+ -->\n<g id=\"node9\" class=\"node\">\n<title>137626649929632+</title>\n<ellipse fill=\"none\" stroke=\"black\" cx=\"575\" cy=\"-45.5\" rx=\"27\" ry=\"18\"/>\n<text text-anchor=\"middle\" x=\"575\" y=\"-41.8\" font-family=\"Times,serif\" font-size=\"14.00\">+</text>\n</g>\n<!-- 137626649924400&#45;&gt;137626649929632+ -->\n<g id=\"edge6\" class=\"edge\">\n<title>137626649924400&#45;&gt;137626649929632+</title>\n<path fill=\"none\" stroke=\"black\" d=\"M511.16,-56.57C520.82,-54.87 530.13,-53.23 538.49,-51.75\"/>\n<polygon fill=\"black\" stroke=\"black\" points=\"539.3,-55.17 548.54,-49.98 538.08,-48.27 539.3,-55.17\"/>\n</g>\n<!-- 137626649924400*&#45;&gt;137626649924400 -->\n<g id=\"edge2\" class=\"edge\">\n<title>137626649924400*&#45;&gt;137626649924400</title>\n<path fill=\"none\" stroke=\"black\" d=\"M280.26,-73.5C288.05,-73.5 297.1,-73.5 306.75,-73.5\"/>\n<polygon fill=\"black\" stroke=\"black\" points=\"306.99,-77 316.99,-73.5 306.99,-70 306.99,-77\"/>\n</g>\n<!-- 137626649929632 -->\n<g id=\"node8\" class=\"node\">\n<title>137626649929632</title>\n<polygon fill=\"none\" stroke=\"black\" points=\"638,-27.5 638,-63.5 827,-63.5 827,-27.5 638,-27.5\"/>\n<text text-anchor=\"middle\" x=\"649.5\" y=\"-41.8\" font-family=\"Times,serif\" font-size=\"14.00\">d</text>\n<polyline fill=\"none\" stroke=\"black\" points=\"661,-27.5 661,-63.5 \"/>\n<text text-anchor=\"middle\" x=\"701\" y=\"-41.8\" font-family=\"Times,serif\" font-size=\"14.00\">data 4.0000</text>\n<polyline fill=\"none\" stroke=\"black\" points=\"741,-27.5 741,-63.5 \"/>\n<text text-anchor=\"middle\" x=\"784\" y=\"-41.8\" font-family=\"Times,serif\" font-size=\"14.00\">grad &#45;2.0000</text>\n</g>\n<!-- 137626649929632&#45;&gt;137626649934048* -->\n<g id=\"edge4\" class=\"edge\">\n<title>137626649929632&#45;&gt;137626649934048*</title>\n<path fill=\"none\" stroke=\"black\" d=\"M827.1,-61.75C836.4,-63.37 845.38,-64.93 853.49,-66.33\"/>\n<polygon fill=\"black\" stroke=\"black\" points=\"853.14,-69.83 863.59,-68.09 854.34,-62.93 853.14,-69.83\"/>\n</g>\n<!-- 137626649929632+&#45;&gt;137626649929632 -->\n<g id=\"edge3\" class=\"edge\">\n<title>137626649929632+&#45;&gt;137626649929632</title>\n<path fill=\"none\" stroke=\"black\" d=\"M602.03,-45.5C609.66,-45.5 618.52,-45.5 627.94,-45.5\"/>\n<polygon fill=\"black\" stroke=\"black\" points=\"627.94,-49 637.94,-45.5 627.94,-42 627.94,-49\"/>\n</g>\n<!-- 137626649932704 -->\n<g id=\"node10\" class=\"node\">\n<title>137626649932704</title>\n<polygon fill=\"none\" stroke=\"black\" points=\"316,-0.5 316,-36.5 512,-36.5 512,-0.5 316,-0.5\"/>\n<text text-anchor=\"middle\" x=\"327.5\" y=\"-14.8\" font-family=\"Times,serif\" font-size=\"14.00\">c</text>\n<polyline fill=\"none\" stroke=\"black\" points=\"339,-0.5 339,-36.5 \"/>\n<text text-anchor=\"middle\" x=\"382.5\" y=\"-14.8\" font-family=\"Times,serif\" font-size=\"14.00\">data 10.0000</text>\n<polyline fill=\"none\" stroke=\"black\" points=\"426,-0.5 426,-36.5 \"/>\n<text text-anchor=\"middle\" x=\"469\" y=\"-14.8\" font-family=\"Times,serif\" font-size=\"14.00\">grad &#45;2.0000</text>\n</g>\n<!-- 137626649932704&#45;&gt;137626649929632+ -->\n<g id=\"edge9\" class=\"edge\">\n<title>137626649932704&#45;&gt;137626649929632+</title>\n<path fill=\"none\" stroke=\"black\" d=\"M512.07,-34.98C521.42,-36.57 530.43,-38.1 538.55,-39.48\"/>\n<polygon fill=\"black\" stroke=\"black\" points=\"538.21,-42.97 548.65,-41.2 539.38,-36.07 538.21,-42.97\"/>\n</g>\n</g>\n</svg>\n",
            "text/plain": [
              "<graphviz.graphs.Digraph at 0x7d2bb396dde0>"
            ]
          },
          "metadata": {},
          "execution_count": 310
        }
      ]
    },
    {
      "cell_type": "code",
      "source": [
        "# dL/da\n",
        "def lol():\n",
        "\n",
        "  h = 1e-6\n",
        "\n",
        "  a = Value(2.0, label='a')\n",
        "  b = Value(-3.0, label='b')\n",
        "  c = Value(10.0, label='c')\n",
        "  e = a * b; e.label = 'e'\n",
        "  d = e + c; d.label = 'd'\n",
        "  f = Value(-2.0, label='f')\n",
        "  L = d * f; L.label = 'L'\n",
        "  L1 = L.data\n",
        "\n",
        "  a = Value(2.0, label='a')\n",
        "  a.data += h\n",
        "  b = Value(-3.0, label='b')\n",
        "  c = Value(10.0, label='c')\n",
        "  e = a * b; e.label = 'e'\n",
        "  d = e + c; d.label = 'd'\n",
        "  f = Value(-2.0, label='f')\n",
        "  L = d * f; L.label = 'L'\n",
        "  L2 = L.data\n",
        "\n",
        "  print((L2 - L1) / h)\n",
        "\n",
        "lol()"
      ],
      "metadata": {
        "colab": {
          "base_uri": "https://localhost:8080/"
        },
        "id": "-5m8xurM44of",
        "outputId": "f84bf5e4-a736-4517-e5bd-8da92a244f0b"
      },
      "execution_count": 311,
      "outputs": [
        {
          "output_type": "stream",
          "name": "stdout",
          "text": [
            "6.000000000838668\n"
          ]
        }
      ]
    },
    {
      "cell_type": "code",
      "source": [
        "a.grad = 6.0"
      ],
      "metadata": {
        "id": "mlos6uMK5DPJ"
      },
      "execution_count": 312,
      "outputs": []
    },
    {
      "cell_type": "code",
      "source": [
        "draw_dot(L)"
      ],
      "metadata": {
        "colab": {
          "base_uri": "https://localhost:8080/",
          "height": 212
        },
        "id": "42LXoOCe5MbT",
        "outputId": "811defb3-f526-42ef-db54-ff8fd4fbd840"
      },
      "execution_count": 313,
      "outputs": [
        {
          "output_type": "execute_result",
          "data": {
            "image/svg+xml": "<?xml version=\"1.0\" encoding=\"UTF-8\" standalone=\"no\"?>\n<!DOCTYPE svg PUBLIC \"-//W3C//DTD SVG 1.1//EN\"\n \"http://www.w3.org/Graphics/SVG/1.1/DTD/svg11.dtd\">\n<!-- Generated by graphviz version 2.43.0 (0)\n -->\n<!-- Title: %3 Pages: 1 -->\n<svg width=\"1153pt\" height=\"128pt\"\n viewBox=\"0.00 0.00 1153.00 128.00\" xmlns=\"http://www.w3.org/2000/svg\" xmlns:xlink=\"http://www.w3.org/1999/xlink\">\n<g id=\"graph0\" class=\"graph\" transform=\"scale(1 1) rotate(0) translate(4 124)\">\n<title>%3</title>\n<polygon fill=\"white\" stroke=\"transparent\" points=\"-4,4 -4,-124 1149,-124 1149,4 -4,4\"/>\n<!-- 137626649334912 -->\n<g id=\"node1\" class=\"node\">\n<title>137626649334912</title>\n<polygon fill=\"none\" stroke=\"black\" points=\"638.5,-82.5 638.5,-118.5 826.5,-118.5 826.5,-82.5 638.5,-82.5\"/>\n<text text-anchor=\"middle\" x=\"649\" y=\"-96.8\" font-family=\"Times,serif\" font-size=\"14.00\">f</text>\n<polyline fill=\"none\" stroke=\"black\" points=\"659.5,-82.5 659.5,-118.5 \"/>\n<text text-anchor=\"middle\" x=\"702\" y=\"-96.8\" font-family=\"Times,serif\" font-size=\"14.00\">data &#45;2.0000</text>\n<polyline fill=\"none\" stroke=\"black\" points=\"744.5,-82.5 744.5,-118.5 \"/>\n<text text-anchor=\"middle\" x=\"785.5\" y=\"-96.8\" font-family=\"Times,serif\" font-size=\"14.00\">grad 4.0000</text>\n</g>\n<!-- 137626649934048* -->\n<g id=\"node4\" class=\"node\">\n<title>137626649934048*</title>\n<ellipse fill=\"none\" stroke=\"black\" cx=\"890\" cy=\"-72.5\" rx=\"27\" ry=\"18\"/>\n<text text-anchor=\"middle\" x=\"890\" y=\"-68.8\" font-family=\"Times,serif\" font-size=\"14.00\">*</text>\n</g>\n<!-- 137626649334912&#45;&gt;137626649934048* -->\n<g id=\"edge8\" class=\"edge\">\n<title>137626649334912&#45;&gt;137626649934048*</title>\n<path fill=\"none\" stroke=\"black\" d=\"M826.65,-83.73C836.2,-82.01 845.43,-80.35 853.72,-78.85\"/>\n<polygon fill=\"black\" stroke=\"black\" points=\"854.47,-82.27 863.69,-77.06 853.23,-75.39 854.47,-82.27\"/>\n</g>\n<!-- 137626649927376 -->\n<g id=\"node2\" class=\"node\">\n<title>137626649927376</title>\n<polygon fill=\"none\" stroke=\"black\" points=\"0,-83.5 0,-119.5 190,-119.5 190,-83.5 0,-83.5\"/>\n<text text-anchor=\"middle\" x=\"11.5\" y=\"-97.8\" font-family=\"Times,serif\" font-size=\"14.00\">b</text>\n<polyline fill=\"none\" stroke=\"black\" points=\"23,-83.5 23,-119.5 \"/>\n<text text-anchor=\"middle\" x=\"65.5\" y=\"-97.8\" font-family=\"Times,serif\" font-size=\"14.00\">data &#45;3.0000</text>\n<polyline fill=\"none\" stroke=\"black\" points=\"108,-83.5 108,-119.5 \"/>\n<text text-anchor=\"middle\" x=\"149\" y=\"-97.8\" font-family=\"Times,serif\" font-size=\"14.00\">grad 0.0000</text>\n</g>\n<!-- 137626649924400* -->\n<g id=\"node7\" class=\"node\">\n<title>137626649924400*</title>\n<ellipse fill=\"none\" stroke=\"black\" cx=\"253\" cy=\"-73.5\" rx=\"27\" ry=\"18\"/>\n<text text-anchor=\"middle\" x=\"253\" y=\"-69.8\" font-family=\"Times,serif\" font-size=\"14.00\">*</text>\n</g>\n<!-- 137626649927376&#45;&gt;137626649924400* -->\n<g id=\"edge7\" class=\"edge\">\n<title>137626649927376&#45;&gt;137626649924400*</title>\n<path fill=\"none\" stroke=\"black\" d=\"M190.34,-84.57C199.62,-82.9 208.58,-81.29 216.66,-79.84\"/>\n<polygon fill=\"black\" stroke=\"black\" points=\"217.49,-83.25 226.72,-78.04 216.26,-76.36 217.49,-83.25\"/>\n</g>\n<!-- 137626649934048 -->\n<g id=\"node3\" class=\"node\">\n<title>137626649934048</title>\n<polygon fill=\"none\" stroke=\"black\" points=\"953,-54.5 953,-90.5 1145,-90.5 1145,-54.5 953,-54.5\"/>\n<text text-anchor=\"middle\" x=\"965.5\" y=\"-68.8\" font-family=\"Times,serif\" font-size=\"14.00\">L</text>\n<polyline fill=\"none\" stroke=\"black\" points=\"978,-54.5 978,-90.5 \"/>\n<text text-anchor=\"middle\" x=\"1020.5\" y=\"-68.8\" font-family=\"Times,serif\" font-size=\"14.00\">data &#45;8.0000</text>\n<polyline fill=\"none\" stroke=\"black\" points=\"1063,-54.5 1063,-90.5 \"/>\n<text text-anchor=\"middle\" x=\"1104\" y=\"-68.8\" font-family=\"Times,serif\" font-size=\"14.00\">grad 1.0000</text>\n</g>\n<!-- 137626649934048*&#45;&gt;137626649934048 -->\n<g id=\"edge1\" class=\"edge\">\n<title>137626649934048*&#45;&gt;137626649934048</title>\n<path fill=\"none\" stroke=\"black\" d=\"M917.28,-72.5C924.78,-72.5 933.44,-72.5 942.67,-72.5\"/>\n<polygon fill=\"black\" stroke=\"black\" points=\"942.87,-76 952.87,-72.5 942.87,-69 942.87,-76\"/>\n</g>\n<!-- 137626649486592 -->\n<g id=\"node5\" class=\"node\">\n<title>137626649486592</title>\n<polygon fill=\"none\" stroke=\"black\" points=\"2.5,-28.5 2.5,-64.5 187.5,-64.5 187.5,-28.5 2.5,-28.5\"/>\n<text text-anchor=\"middle\" x=\"14\" y=\"-42.8\" font-family=\"Times,serif\" font-size=\"14.00\">a</text>\n<polyline fill=\"none\" stroke=\"black\" points=\"25.5,-28.5 25.5,-64.5 \"/>\n<text text-anchor=\"middle\" x=\"65.5\" y=\"-42.8\" font-family=\"Times,serif\" font-size=\"14.00\">data 2.0000</text>\n<polyline fill=\"none\" stroke=\"black\" points=\"105.5,-28.5 105.5,-64.5 \"/>\n<text text-anchor=\"middle\" x=\"146.5\" y=\"-42.8\" font-family=\"Times,serif\" font-size=\"14.00\">grad 6.0000</text>\n</g>\n<!-- 137626649486592&#45;&gt;137626649924400* -->\n<g id=\"edge5\" class=\"edge\">\n<title>137626649486592&#45;&gt;137626649924400*</title>\n<path fill=\"none\" stroke=\"black\" d=\"M187.65,-62.36C197.94,-64.14 207.91,-65.87 216.81,-67.41\"/>\n<polygon fill=\"black\" stroke=\"black\" points=\"216.26,-70.87 226.71,-69.12 217.45,-63.97 216.26,-70.87\"/>\n</g>\n<!-- 137626649924400 -->\n<g id=\"node6\" class=\"node\">\n<title>137626649924400</title>\n<polygon fill=\"none\" stroke=\"black\" points=\"317,-55.5 317,-91.5 511,-91.5 511,-55.5 317,-55.5\"/>\n<text text-anchor=\"middle\" x=\"328.5\" y=\"-69.8\" font-family=\"Times,serif\" font-size=\"14.00\">e</text>\n<polyline fill=\"none\" stroke=\"black\" points=\"340,-55.5 340,-91.5 \"/>\n<text text-anchor=\"middle\" x=\"382.5\" y=\"-69.8\" font-family=\"Times,serif\" font-size=\"14.00\">data &#45;6.0000</text>\n<polyline fill=\"none\" stroke=\"black\" points=\"425,-55.5 425,-91.5 \"/>\n<text text-anchor=\"middle\" x=\"468\" y=\"-69.8\" font-family=\"Times,serif\" font-size=\"14.00\">grad &#45;2.0000</text>\n</g>\n<!-- 137626649929632+ -->\n<g id=\"node9\" class=\"node\">\n<title>137626649929632+</title>\n<ellipse fill=\"none\" stroke=\"black\" cx=\"575\" cy=\"-45.5\" rx=\"27\" ry=\"18\"/>\n<text text-anchor=\"middle\" x=\"575\" y=\"-41.8\" font-family=\"Times,serif\" font-size=\"14.00\">+</text>\n</g>\n<!-- 137626649924400&#45;&gt;137626649929632+ -->\n<g id=\"edge6\" class=\"edge\">\n<title>137626649924400&#45;&gt;137626649929632+</title>\n<path fill=\"none\" stroke=\"black\" d=\"M511.16,-56.57C520.82,-54.87 530.13,-53.23 538.49,-51.75\"/>\n<polygon fill=\"black\" stroke=\"black\" points=\"539.3,-55.17 548.54,-49.98 538.08,-48.27 539.3,-55.17\"/>\n</g>\n<!-- 137626649924400*&#45;&gt;137626649924400 -->\n<g id=\"edge2\" class=\"edge\">\n<title>137626649924400*&#45;&gt;137626649924400</title>\n<path fill=\"none\" stroke=\"black\" d=\"M280.26,-73.5C288.05,-73.5 297.1,-73.5 306.75,-73.5\"/>\n<polygon fill=\"black\" stroke=\"black\" points=\"306.99,-77 316.99,-73.5 306.99,-70 306.99,-77\"/>\n</g>\n<!-- 137626649929632 -->\n<g id=\"node8\" class=\"node\">\n<title>137626649929632</title>\n<polygon fill=\"none\" stroke=\"black\" points=\"638,-27.5 638,-63.5 827,-63.5 827,-27.5 638,-27.5\"/>\n<text text-anchor=\"middle\" x=\"649.5\" y=\"-41.8\" font-family=\"Times,serif\" font-size=\"14.00\">d</text>\n<polyline fill=\"none\" stroke=\"black\" points=\"661,-27.5 661,-63.5 \"/>\n<text text-anchor=\"middle\" x=\"701\" y=\"-41.8\" font-family=\"Times,serif\" font-size=\"14.00\">data 4.0000</text>\n<polyline fill=\"none\" stroke=\"black\" points=\"741,-27.5 741,-63.5 \"/>\n<text text-anchor=\"middle\" x=\"784\" y=\"-41.8\" font-family=\"Times,serif\" font-size=\"14.00\">grad &#45;2.0000</text>\n</g>\n<!-- 137626649929632&#45;&gt;137626649934048* -->\n<g id=\"edge4\" class=\"edge\">\n<title>137626649929632&#45;&gt;137626649934048*</title>\n<path fill=\"none\" stroke=\"black\" d=\"M827.1,-61.75C836.4,-63.37 845.38,-64.93 853.49,-66.33\"/>\n<polygon fill=\"black\" stroke=\"black\" points=\"853.14,-69.83 863.59,-68.09 854.34,-62.93 853.14,-69.83\"/>\n</g>\n<!-- 137626649929632+&#45;&gt;137626649929632 -->\n<g id=\"edge3\" class=\"edge\">\n<title>137626649929632+&#45;&gt;137626649929632</title>\n<path fill=\"none\" stroke=\"black\" d=\"M602.03,-45.5C609.66,-45.5 618.52,-45.5 627.94,-45.5\"/>\n<polygon fill=\"black\" stroke=\"black\" points=\"627.94,-49 637.94,-45.5 627.94,-42 627.94,-49\"/>\n</g>\n<!-- 137626649932704 -->\n<g id=\"node10\" class=\"node\">\n<title>137626649932704</title>\n<polygon fill=\"none\" stroke=\"black\" points=\"316,-0.5 316,-36.5 512,-36.5 512,-0.5 316,-0.5\"/>\n<text text-anchor=\"middle\" x=\"327.5\" y=\"-14.8\" font-family=\"Times,serif\" font-size=\"14.00\">c</text>\n<polyline fill=\"none\" stroke=\"black\" points=\"339,-0.5 339,-36.5 \"/>\n<text text-anchor=\"middle\" x=\"382.5\" y=\"-14.8\" font-family=\"Times,serif\" font-size=\"14.00\">data 10.0000</text>\n<polyline fill=\"none\" stroke=\"black\" points=\"426,-0.5 426,-36.5 \"/>\n<text text-anchor=\"middle\" x=\"469\" y=\"-14.8\" font-family=\"Times,serif\" font-size=\"14.00\">grad &#45;2.0000</text>\n</g>\n<!-- 137626649932704&#45;&gt;137626649929632+ -->\n<g id=\"edge9\" class=\"edge\">\n<title>137626649932704&#45;&gt;137626649929632+</title>\n<path fill=\"none\" stroke=\"black\" d=\"M512.07,-34.98C521.42,-36.57 530.43,-38.1 538.55,-39.48\"/>\n<polygon fill=\"black\" stroke=\"black\" points=\"538.21,-42.97 548.65,-41.2 539.38,-36.07 538.21,-42.97\"/>\n</g>\n</g>\n</svg>\n",
            "text/plain": [
              "<graphviz.graphs.Digraph at 0x7d2bb396f8b0>"
            ]
          },
          "metadata": {},
          "execution_count": 313
        }
      ]
    },
    {
      "cell_type": "code",
      "source": [
        "# dL/db\n",
        "def lol():\n",
        "\n",
        "  h = 1e-6\n",
        "\n",
        "  a = Value(2.0, label='a')\n",
        "  b = Value(-3.0, label='b')\n",
        "  c = Value(10.0, label='c')\n",
        "  e = a * b; e.label = 'e'\n",
        "  d = e + c; d.label = 'd'\n",
        "  f = Value(-2.0, label='f')\n",
        "  L = d * f; L.label = 'L'\n",
        "  L1 = L.data\n",
        "\n",
        "  a = Value(2.0, label='a')\n",
        "  b = Value(-3.0, label='b')\n",
        "  b.data += h\n",
        "  c = Value(10.0, label='c')\n",
        "  e = a * b; e.label = 'e'\n",
        "  d = e + c; d.label = 'd'\n",
        "  f = Value(-2.0, label='f')\n",
        "  L = d * f; L.label = 'L'\n",
        "  L2 = L.data\n",
        "\n",
        "  print((L2 - L1) / h)\n",
        "\n",
        "lol()"
      ],
      "metadata": {
        "colab": {
          "base_uri": "https://localhost:8080/"
        },
        "id": "1706L3vU5RAC",
        "outputId": "e7ccd704-d104-444a-95f4-839a7e9d2313"
      },
      "execution_count": 314,
      "outputs": [
        {
          "output_type": "stream",
          "name": "stdout",
          "text": [
            "-4.000000000559112\n"
          ]
        }
      ]
    },
    {
      "cell_type": "code",
      "source": [
        "b.data = -2.0"
      ],
      "metadata": {
        "id": "1guD5xvr5Z5W"
      },
      "execution_count": 315,
      "outputs": []
    },
    {
      "cell_type": "code",
      "source": [
        "draw_dot(L)"
      ],
      "metadata": {
        "colab": {
          "base_uri": "https://localhost:8080/",
          "height": 212
        },
        "id": "lrB015nc5dl5",
        "outputId": "602fe5d8-ac7e-4f0c-d694-9d34b34e037e"
      },
      "execution_count": 316,
      "outputs": [
        {
          "output_type": "execute_result",
          "data": {
            "image/svg+xml": "<?xml version=\"1.0\" encoding=\"UTF-8\" standalone=\"no\"?>\n<!DOCTYPE svg PUBLIC \"-//W3C//DTD SVG 1.1//EN\"\n \"http://www.w3.org/Graphics/SVG/1.1/DTD/svg11.dtd\">\n<!-- Generated by graphviz version 2.43.0 (0)\n -->\n<!-- Title: %3 Pages: 1 -->\n<svg width=\"1153pt\" height=\"128pt\"\n viewBox=\"0.00 0.00 1153.00 128.00\" xmlns=\"http://www.w3.org/2000/svg\" xmlns:xlink=\"http://www.w3.org/1999/xlink\">\n<g id=\"graph0\" class=\"graph\" transform=\"scale(1 1) rotate(0) translate(4 124)\">\n<title>%3</title>\n<polygon fill=\"white\" stroke=\"transparent\" points=\"-4,4 -4,-124 1149,-124 1149,4 -4,4\"/>\n<!-- 137626649334912 -->\n<g id=\"node1\" class=\"node\">\n<title>137626649334912</title>\n<polygon fill=\"none\" stroke=\"black\" points=\"638.5,-82.5 638.5,-118.5 826.5,-118.5 826.5,-82.5 638.5,-82.5\"/>\n<text text-anchor=\"middle\" x=\"649\" y=\"-96.8\" font-family=\"Times,serif\" font-size=\"14.00\">f</text>\n<polyline fill=\"none\" stroke=\"black\" points=\"659.5,-82.5 659.5,-118.5 \"/>\n<text text-anchor=\"middle\" x=\"702\" y=\"-96.8\" font-family=\"Times,serif\" font-size=\"14.00\">data &#45;2.0000</text>\n<polyline fill=\"none\" stroke=\"black\" points=\"744.5,-82.5 744.5,-118.5 \"/>\n<text text-anchor=\"middle\" x=\"785.5\" y=\"-96.8\" font-family=\"Times,serif\" font-size=\"14.00\">grad 4.0000</text>\n</g>\n<!-- 137626649934048* -->\n<g id=\"node4\" class=\"node\">\n<title>137626649934048*</title>\n<ellipse fill=\"none\" stroke=\"black\" cx=\"890\" cy=\"-72.5\" rx=\"27\" ry=\"18\"/>\n<text text-anchor=\"middle\" x=\"890\" y=\"-68.8\" font-family=\"Times,serif\" font-size=\"14.00\">*</text>\n</g>\n<!-- 137626649334912&#45;&gt;137626649934048* -->\n<g id=\"edge8\" class=\"edge\">\n<title>137626649334912&#45;&gt;137626649934048*</title>\n<path fill=\"none\" stroke=\"black\" d=\"M826.65,-83.73C836.2,-82.01 845.43,-80.35 853.72,-78.85\"/>\n<polygon fill=\"black\" stroke=\"black\" points=\"854.47,-82.27 863.69,-77.06 853.23,-75.39 854.47,-82.27\"/>\n</g>\n<!-- 137626649927376 -->\n<g id=\"node2\" class=\"node\">\n<title>137626649927376</title>\n<polygon fill=\"none\" stroke=\"black\" points=\"0,-83.5 0,-119.5 190,-119.5 190,-83.5 0,-83.5\"/>\n<text text-anchor=\"middle\" x=\"11.5\" y=\"-97.8\" font-family=\"Times,serif\" font-size=\"14.00\">b</text>\n<polyline fill=\"none\" stroke=\"black\" points=\"23,-83.5 23,-119.5 \"/>\n<text text-anchor=\"middle\" x=\"65.5\" y=\"-97.8\" font-family=\"Times,serif\" font-size=\"14.00\">data &#45;2.0000</text>\n<polyline fill=\"none\" stroke=\"black\" points=\"108,-83.5 108,-119.5 \"/>\n<text text-anchor=\"middle\" x=\"149\" y=\"-97.8\" font-family=\"Times,serif\" font-size=\"14.00\">grad 0.0000</text>\n</g>\n<!-- 137626649924400* -->\n<g id=\"node7\" class=\"node\">\n<title>137626649924400*</title>\n<ellipse fill=\"none\" stroke=\"black\" cx=\"253\" cy=\"-73.5\" rx=\"27\" ry=\"18\"/>\n<text text-anchor=\"middle\" x=\"253\" y=\"-69.8\" font-family=\"Times,serif\" font-size=\"14.00\">*</text>\n</g>\n<!-- 137626649927376&#45;&gt;137626649924400* -->\n<g id=\"edge7\" class=\"edge\">\n<title>137626649927376&#45;&gt;137626649924400*</title>\n<path fill=\"none\" stroke=\"black\" d=\"M190.34,-84.57C199.62,-82.9 208.58,-81.29 216.66,-79.84\"/>\n<polygon fill=\"black\" stroke=\"black\" points=\"217.49,-83.25 226.72,-78.04 216.26,-76.36 217.49,-83.25\"/>\n</g>\n<!-- 137626649934048 -->\n<g id=\"node3\" class=\"node\">\n<title>137626649934048</title>\n<polygon fill=\"none\" stroke=\"black\" points=\"953,-54.5 953,-90.5 1145,-90.5 1145,-54.5 953,-54.5\"/>\n<text text-anchor=\"middle\" x=\"965.5\" y=\"-68.8\" font-family=\"Times,serif\" font-size=\"14.00\">L</text>\n<polyline fill=\"none\" stroke=\"black\" points=\"978,-54.5 978,-90.5 \"/>\n<text text-anchor=\"middle\" x=\"1020.5\" y=\"-68.8\" font-family=\"Times,serif\" font-size=\"14.00\">data &#45;8.0000</text>\n<polyline fill=\"none\" stroke=\"black\" points=\"1063,-54.5 1063,-90.5 \"/>\n<text text-anchor=\"middle\" x=\"1104\" y=\"-68.8\" font-family=\"Times,serif\" font-size=\"14.00\">grad 1.0000</text>\n</g>\n<!-- 137626649934048*&#45;&gt;137626649934048 -->\n<g id=\"edge1\" class=\"edge\">\n<title>137626649934048*&#45;&gt;137626649934048</title>\n<path fill=\"none\" stroke=\"black\" d=\"M917.28,-72.5C924.78,-72.5 933.44,-72.5 942.67,-72.5\"/>\n<polygon fill=\"black\" stroke=\"black\" points=\"942.87,-76 952.87,-72.5 942.87,-69 942.87,-76\"/>\n</g>\n<!-- 137626649486592 -->\n<g id=\"node5\" class=\"node\">\n<title>137626649486592</title>\n<polygon fill=\"none\" stroke=\"black\" points=\"2.5,-28.5 2.5,-64.5 187.5,-64.5 187.5,-28.5 2.5,-28.5\"/>\n<text text-anchor=\"middle\" x=\"14\" y=\"-42.8\" font-family=\"Times,serif\" font-size=\"14.00\">a</text>\n<polyline fill=\"none\" stroke=\"black\" points=\"25.5,-28.5 25.5,-64.5 \"/>\n<text text-anchor=\"middle\" x=\"65.5\" y=\"-42.8\" font-family=\"Times,serif\" font-size=\"14.00\">data 2.0000</text>\n<polyline fill=\"none\" stroke=\"black\" points=\"105.5,-28.5 105.5,-64.5 \"/>\n<text text-anchor=\"middle\" x=\"146.5\" y=\"-42.8\" font-family=\"Times,serif\" font-size=\"14.00\">grad 6.0000</text>\n</g>\n<!-- 137626649486592&#45;&gt;137626649924400* -->\n<g id=\"edge5\" class=\"edge\">\n<title>137626649486592&#45;&gt;137626649924400*</title>\n<path fill=\"none\" stroke=\"black\" d=\"M187.65,-62.36C197.94,-64.14 207.91,-65.87 216.81,-67.41\"/>\n<polygon fill=\"black\" stroke=\"black\" points=\"216.26,-70.87 226.71,-69.12 217.45,-63.97 216.26,-70.87\"/>\n</g>\n<!-- 137626649924400 -->\n<g id=\"node6\" class=\"node\">\n<title>137626649924400</title>\n<polygon fill=\"none\" stroke=\"black\" points=\"317,-55.5 317,-91.5 511,-91.5 511,-55.5 317,-55.5\"/>\n<text text-anchor=\"middle\" x=\"328.5\" y=\"-69.8\" font-family=\"Times,serif\" font-size=\"14.00\">e</text>\n<polyline fill=\"none\" stroke=\"black\" points=\"340,-55.5 340,-91.5 \"/>\n<text text-anchor=\"middle\" x=\"382.5\" y=\"-69.8\" font-family=\"Times,serif\" font-size=\"14.00\">data &#45;6.0000</text>\n<polyline fill=\"none\" stroke=\"black\" points=\"425,-55.5 425,-91.5 \"/>\n<text text-anchor=\"middle\" x=\"468\" y=\"-69.8\" font-family=\"Times,serif\" font-size=\"14.00\">grad &#45;2.0000</text>\n</g>\n<!-- 137626649929632+ -->\n<g id=\"node9\" class=\"node\">\n<title>137626649929632+</title>\n<ellipse fill=\"none\" stroke=\"black\" cx=\"575\" cy=\"-45.5\" rx=\"27\" ry=\"18\"/>\n<text text-anchor=\"middle\" x=\"575\" y=\"-41.8\" font-family=\"Times,serif\" font-size=\"14.00\">+</text>\n</g>\n<!-- 137626649924400&#45;&gt;137626649929632+ -->\n<g id=\"edge6\" class=\"edge\">\n<title>137626649924400&#45;&gt;137626649929632+</title>\n<path fill=\"none\" stroke=\"black\" d=\"M511.16,-56.57C520.82,-54.87 530.13,-53.23 538.49,-51.75\"/>\n<polygon fill=\"black\" stroke=\"black\" points=\"539.3,-55.17 548.54,-49.98 538.08,-48.27 539.3,-55.17\"/>\n</g>\n<!-- 137626649924400*&#45;&gt;137626649924400 -->\n<g id=\"edge2\" class=\"edge\">\n<title>137626649924400*&#45;&gt;137626649924400</title>\n<path fill=\"none\" stroke=\"black\" d=\"M280.26,-73.5C288.05,-73.5 297.1,-73.5 306.75,-73.5\"/>\n<polygon fill=\"black\" stroke=\"black\" points=\"306.99,-77 316.99,-73.5 306.99,-70 306.99,-77\"/>\n</g>\n<!-- 137626649929632 -->\n<g id=\"node8\" class=\"node\">\n<title>137626649929632</title>\n<polygon fill=\"none\" stroke=\"black\" points=\"638,-27.5 638,-63.5 827,-63.5 827,-27.5 638,-27.5\"/>\n<text text-anchor=\"middle\" x=\"649.5\" y=\"-41.8\" font-family=\"Times,serif\" font-size=\"14.00\">d</text>\n<polyline fill=\"none\" stroke=\"black\" points=\"661,-27.5 661,-63.5 \"/>\n<text text-anchor=\"middle\" x=\"701\" y=\"-41.8\" font-family=\"Times,serif\" font-size=\"14.00\">data 4.0000</text>\n<polyline fill=\"none\" stroke=\"black\" points=\"741,-27.5 741,-63.5 \"/>\n<text text-anchor=\"middle\" x=\"784\" y=\"-41.8\" font-family=\"Times,serif\" font-size=\"14.00\">grad &#45;2.0000</text>\n</g>\n<!-- 137626649929632&#45;&gt;137626649934048* -->\n<g id=\"edge4\" class=\"edge\">\n<title>137626649929632&#45;&gt;137626649934048*</title>\n<path fill=\"none\" stroke=\"black\" d=\"M827.1,-61.75C836.4,-63.37 845.38,-64.93 853.49,-66.33\"/>\n<polygon fill=\"black\" stroke=\"black\" points=\"853.14,-69.83 863.59,-68.09 854.34,-62.93 853.14,-69.83\"/>\n</g>\n<!-- 137626649929632+&#45;&gt;137626649929632 -->\n<g id=\"edge3\" class=\"edge\">\n<title>137626649929632+&#45;&gt;137626649929632</title>\n<path fill=\"none\" stroke=\"black\" d=\"M602.03,-45.5C609.66,-45.5 618.52,-45.5 627.94,-45.5\"/>\n<polygon fill=\"black\" stroke=\"black\" points=\"627.94,-49 637.94,-45.5 627.94,-42 627.94,-49\"/>\n</g>\n<!-- 137626649932704 -->\n<g id=\"node10\" class=\"node\">\n<title>137626649932704</title>\n<polygon fill=\"none\" stroke=\"black\" points=\"316,-0.5 316,-36.5 512,-36.5 512,-0.5 316,-0.5\"/>\n<text text-anchor=\"middle\" x=\"327.5\" y=\"-14.8\" font-family=\"Times,serif\" font-size=\"14.00\">c</text>\n<polyline fill=\"none\" stroke=\"black\" points=\"339,-0.5 339,-36.5 \"/>\n<text text-anchor=\"middle\" x=\"382.5\" y=\"-14.8\" font-family=\"Times,serif\" font-size=\"14.00\">data 10.0000</text>\n<polyline fill=\"none\" stroke=\"black\" points=\"426,-0.5 426,-36.5 \"/>\n<text text-anchor=\"middle\" x=\"469\" y=\"-14.8\" font-family=\"Times,serif\" font-size=\"14.00\">grad &#45;2.0000</text>\n</g>\n<!-- 137626649932704&#45;&gt;137626649929632+ -->\n<g id=\"edge9\" class=\"edge\">\n<title>137626649932704&#45;&gt;137626649929632+</title>\n<path fill=\"none\" stroke=\"black\" d=\"M512.07,-34.98C521.42,-36.57 530.43,-38.1 538.55,-39.48\"/>\n<polygon fill=\"black\" stroke=\"black\" points=\"538.21,-42.97 548.65,-41.2 539.38,-36.07 538.21,-42.97\"/>\n</g>\n</g>\n</svg>\n",
            "text/plain": [
              "<graphviz.graphs.Digraph at 0x7d2bb396e7a0>"
            ]
          },
          "metadata": {},
          "execution_count": 316
        }
      ]
    },
    {
      "cell_type": "code",
      "source": [
        "print(f'a = {a}')\n",
        "print(f'b = {b}')\n",
        "print(f'c = {c}')\n",
        "print(f'd = {d}')\n",
        "print(f'e = {e}')\n",
        "print(f'f = {f}')\n",
        "print(f'L = {L}')"
      ],
      "metadata": {
        "colab": {
          "base_uri": "https://localhost:8080/"
        },
        "id": "bYkM2O5h5_Z6",
        "outputId": "3cf1967d-482f-4023-9c2d-de867e955442"
      },
      "execution_count": 317,
      "outputs": [
        {
          "output_type": "stream",
          "name": "stdout",
          "text": [
            "a = Value(data=2.0)\n",
            "b = Value(data=-2.0)\n",
            "c = Value(data=10.0)\n",
            "d = Value(data=4.0)\n",
            "e = Value(data=-6.0)\n",
            "f = Value(data=-2.0)\n",
            "L = Value(data=-8.0)\n"
          ]
        }
      ]
    },
    {
      "cell_type": "code",
      "source": [
        "# var = var - (learning_rate) * dL/dvar\n",
        "# var = var - (learning_rate) * var.grad\n",
        "lr = 0.001\n",
        "a.data -= lr * a.grad\n",
        "b.data -= lr * a.grad\n",
        "c.data -= lr * c.grad\n",
        "d.data -= lr * d.grad\n",
        "e.data -= lr * e.grad\n",
        "f.data -= lr * f.grad"
      ],
      "metadata": {
        "id": "dAbTHPY15fAh"
      },
      "execution_count": 318,
      "outputs": []
    },
    {
      "cell_type": "code",
      "source": [
        "print(f'a = {a}')\n",
        "print(f'b = {b}')\n",
        "print(f'c = {c}')\n",
        "print(f'd = {d}')\n",
        "print(f'e = {e}')\n",
        "print(f'f = {f}')\n",
        "print(f'L = {L}')"
      ],
      "metadata": {
        "colab": {
          "base_uri": "https://localhost:8080/"
        },
        "id": "i2l0YzDu6id_",
        "outputId": "d242e8ce-306c-4a47-f8d4-99161d339d87"
      },
      "execution_count": 319,
      "outputs": [
        {
          "output_type": "stream",
          "name": "stdout",
          "text": [
            "a = Value(data=1.994)\n",
            "b = Value(data=-2.006)\n",
            "c = Value(data=10.002)\n",
            "d = Value(data=4.002)\n",
            "e = Value(data=-5.998)\n",
            "f = Value(data=-2.004)\n",
            "L = Value(data=-8.0)\n"
          ]
        }
      ]
    },
    {
      "cell_type": "code",
      "source": [
        "# One forward pass\n",
        "e = a * b\n",
        "d = e + c\n",
        "L = d * f\n",
        "\n",
        "print(L.data)"
      ],
      "metadata": {
        "colab": {
          "base_uri": "https://localhost:8080/"
        },
        "id": "PsMjXzIZ607I",
        "outputId": "ba70495e-dac3-4c58-c6bc-0cc7aa4e4ee9"
      },
      "execution_count": 320,
      "outputs": [
        {
          "output_type": "stream",
          "name": "stdout",
          "text": [
            "-12.028080144000002\n"
          ]
        }
      ]
    },
    {
      "cell_type": "code",
      "source": [
        "plt.plot(np.arange(-5, 5, 0.05), np.tanh(np.arange(-5, 5, 0.05))); plt.grid();"
      ],
      "metadata": {
        "id": "0uo6mDKR7Ocv",
        "colab": {
          "base_uri": "https://localhost:8080/",
          "height": 430
        },
        "outputId": "d5f4f831-e177-4599-a9ff-b0aa6122db77"
      },
      "execution_count": 321,
      "outputs": [
        {
          "output_type": "display_data",
          "data": {
            "text/plain": [
              "<Figure size 640x480 with 1 Axes>"
            ],
            "image/png": "[encoded data removed]"
          },
          "metadata": {}
        }
      ]
    },
    {
      "cell_type": "code",
      "source": [
        "# inputs x1, x2\n",
        "x1 = Value(2.0, label='x1')\n",
        "x2 = Value(0.0, label='x2')\n",
        "\n",
        "# weights w1, w2\n",
        "w1 = Value(-3.0, label='w1')\n",
        "w2 = Value(1.0, label='w2')\n",
        "\n",
        "# bias of the neuron\n",
        "b = Value(6.88, label='b')\n",
        "\n",
        "# x1*w1 + x2*w2 + b\n",
        "x1w1 = x1 * w1; x1w1.label = 'x1*w1'\n",
        "x2w2 = x2 * w2; x2w2.label = 'x2*w2'\n",
        "x1w1x2w2 = x1w1 + x2w2; x1w1x2w2.label = 'x1w1 + x2w2'\n",
        "n = x1w1x2w2 + b; n.label = 'n'\n",
        "o = n.tanh(); o.label = 'o'\n",
        "draw_dot(o)"
      ],
      "metadata": {
        "id": "n9hB76IVaWiG",
        "colab": {
          "base_uri": "https://localhost:8080/",
          "height": 321
        },
        "outputId": "99b2a26b-fa9d-40e1-e8b8-d4fd8db3b876"
      },
      "execution_count": 322,
      "outputs": [
        {
          "output_type": "execute_result",
          "data": {
            "image/svg+xml": "<?xml version=\"1.0\" encoding=\"UTF-8\" standalone=\"no\"?>\n<!DOCTYPE svg PUBLIC \"-//W3C//DTD SVG 1.1//EN\"\n \"http://www.w3.org/Graphics/SVG/1.1/DTD/svg11.dtd\">\n<!-- Generated by graphviz version 2.43.0 (0)\n -->\n<!-- Title: %3 Pages: 1 -->\n<svg width=\"1561pt\" height=\"210pt\"\n viewBox=\"0.00 0.00 1561.00 210.00\" xmlns=\"http://www.w3.org/2000/svg\" xmlns:xlink=\"http://www.w3.org/1999/xlink\">\n<g id=\"graph0\" class=\"graph\" transform=\"scale(1 1) rotate(0) translate(4 206)\">\n<title>%3</title>\n<polygon fill=\"white\" stroke=\"transparent\" points=\"-4,4 -4,-206 1557,-206 1557,4 -4,4\"/>\n<!-- 137626648697856 -->\n<g id=\"node1\" class=\"node\">\n<title>137626648697856</title>\n<polygon fill=\"none\" stroke=\"black\" points=\"1368,-54.5 1368,-90.5 1553,-90.5 1553,-54.5 1368,-54.5\"/>\n<text text-anchor=\"middle\" x=\"1379.5\" y=\"-68.8\" font-family=\"Times,serif\" font-size=\"14.00\">o</text>\n<polyline fill=\"none\" stroke=\"black\" points=\"1391,-54.5 1391,-90.5 \"/>\n<text text-anchor=\"middle\" x=\"1431\" y=\"-68.8\" font-family=\"Times,serif\" font-size=\"14.00\">data 0.7064</text>\n<polyline fill=\"none\" stroke=\"black\" points=\"1471,-54.5 1471,-90.5 \"/>\n<text text-anchor=\"middle\" x=\"1512\" y=\"-68.8\" font-family=\"Times,serif\" font-size=\"14.00\">grad 0.0000</text>\n</g>\n<!-- 137626648697856tanh -->\n<g id=\"node2\" class=\"node\">\n<title>137626648697856tanh</title>\n<ellipse fill=\"none\" stroke=\"black\" cx=\"1305\" cy=\"-72.5\" rx=\"27\" ry=\"18\"/>\n<text text-anchor=\"middle\" x=\"1305\" y=\"-68.8\" font-family=\"Times,serif\" font-size=\"14.00\">tanh</text>\n</g>\n<!-- 137626648697856tanh&#45;&gt;137626648697856 -->\n<g id=\"edge1\" class=\"edge\">\n<title>137626648697856tanh&#45;&gt;137626648697856</title>\n<path fill=\"none\" stroke=\"black\" d=\"M1332.04,-72.5C1339.58,-72.5 1348.3,-72.5 1357.57,-72.5\"/>\n<polygon fill=\"black\" stroke=\"black\" points=\"1357.81,-76 1367.81,-72.5 1357.81,-69 1357.81,-76\"/>\n</g>\n<!-- 137626648691232 -->\n<g id=\"node3\" class=\"node\">\n<title>137626648691232</title>\n<polygon fill=\"none\" stroke=\"black\" points=\"672,-82.5 672,-118.5 931,-118.5 931,-82.5 672,-82.5\"/>\n<text text-anchor=\"middle\" x=\"718\" y=\"-96.8\" font-family=\"Times,serif\" font-size=\"14.00\">x1w1 + x2w2</text>\n<polyline fill=\"none\" stroke=\"black\" points=\"764,-82.5 764,-118.5 \"/>\n<text text-anchor=\"middle\" x=\"806.5\" y=\"-96.8\" font-family=\"Times,serif\" font-size=\"14.00\">data &#45;6.0000</text>\n<polyline fill=\"none\" stroke=\"black\" points=\"849,-82.5 849,-118.5 \"/>\n<text text-anchor=\"middle\" x=\"890\" y=\"-96.8\" font-family=\"Times,serif\" font-size=\"14.00\">grad 0.0000</text>\n</g>\n<!-- 137626648697760+ -->\n<g id=\"node11\" class=\"node\">\n<title>137626648697760+</title>\n<ellipse fill=\"none\" stroke=\"black\" cx=\"994\" cy=\"-72.5\" rx=\"27\" ry=\"18\"/>\n<text text-anchor=\"middle\" x=\"994\" y=\"-68.8\" font-family=\"Times,serif\" font-size=\"14.00\">+</text>\n</g>\n<!-- 137626648691232&#45;&gt;137626648697760+ -->\n<g id=\"edge9\" class=\"edge\">\n<title>137626648691232&#45;&gt;137626648697760+</title>\n<path fill=\"none\" stroke=\"black\" d=\"M925.03,-82.49C936.7,-80.77 947.77,-79.15 957.46,-77.72\"/>\n<polygon fill=\"black\" stroke=\"black\" points=\"958.01,-81.18 967.4,-76.26 957,-74.25 958.01,-81.18\"/>\n</g>\n<!-- 137626648691232+ -->\n<g id=\"node4\" class=\"node\">\n<title>137626648691232+</title>\n<ellipse fill=\"none\" stroke=\"black\" cx=\"609\" cy=\"-100.5\" rx=\"27\" ry=\"18\"/>\n<text text-anchor=\"middle\" x=\"609\" y=\"-96.8\" font-family=\"Times,serif\" font-size=\"14.00\">+</text>\n</g>\n<!-- 137626648691232+&#45;&gt;137626648691232 -->\n<g id=\"edge2\" class=\"edge\">\n<title>137626648691232+&#45;&gt;137626648691232</title>\n<path fill=\"none\" stroke=\"black\" d=\"M636.09,-100.5C643.58,-100.5 652.3,-100.5 661.75,-100.5\"/>\n<polygon fill=\"black\" stroke=\"black\" points=\"661.84,-104 671.84,-100.5 661.84,-97 661.84,-104\"/>\n</g>\n<!-- 137626650074160 -->\n<g id=\"node5\" class=\"node\">\n<title>137626650074160</title>\n<polygon fill=\"none\" stroke=\"black\" points=\"0,-55.5 0,-91.5 200,-91.5 200,-55.5 0,-55.5\"/>\n<text text-anchor=\"middle\" x=\"16.5\" y=\"-69.8\" font-family=\"Times,serif\" font-size=\"14.00\">w1</text>\n<polyline fill=\"none\" stroke=\"black\" points=\"33,-55.5 33,-91.5 \"/>\n<text text-anchor=\"middle\" x=\"75.5\" y=\"-69.8\" font-family=\"Times,serif\" font-size=\"14.00\">data &#45;3.0000</text>\n<polyline fill=\"none\" stroke=\"black\" points=\"118,-55.5 118,-91.5 \"/>\n<text text-anchor=\"middle\" x=\"159\" y=\"-69.8\" font-family=\"Times,serif\" font-size=\"14.00\">grad 0.0000</text>\n</g>\n<!-- 137626648538528* -->\n<g id=\"node14\" class=\"node\">\n<title>137626648538528*</title>\n<ellipse fill=\"none\" stroke=\"black\" cx=\"263\" cy=\"-73.5\" rx=\"27\" ry=\"18\"/>\n<text text-anchor=\"middle\" x=\"263\" y=\"-69.8\" font-family=\"Times,serif\" font-size=\"14.00\">*</text>\n</g>\n<!-- 137626650074160&#45;&gt;137626648538528* -->\n<g id=\"edge10\" class=\"edge\">\n<title>137626650074160&#45;&gt;137626648538528*</title>\n<path fill=\"none\" stroke=\"black\" d=\"M200.21,-73.5C209.2,-73.5 217.86,-73.5 225.7,-73.5\"/>\n<polygon fill=\"black\" stroke=\"black\" points=\"225.85,-77 235.85,-73.5 225.85,-70 225.85,-77\"/>\n</g>\n<!-- 137626648691760 -->\n<g id=\"node6\" class=\"node\">\n<title>137626648691760</title>\n<polygon fill=\"none\" stroke=\"black\" points=\"328.5,-110.5 328.5,-146.5 543.5,-146.5 543.5,-110.5 328.5,-110.5\"/>\n<text text-anchor=\"middle\" x=\"355\" y=\"-124.8\" font-family=\"Times,serif\" font-size=\"14.00\">x2*w2</text>\n<polyline fill=\"none\" stroke=\"black\" points=\"381.5,-110.5 381.5,-146.5 \"/>\n<text text-anchor=\"middle\" x=\"421.5\" y=\"-124.8\" font-family=\"Times,serif\" font-size=\"14.00\">data 0.0000</text>\n<polyline fill=\"none\" stroke=\"black\" points=\"461.5,-110.5 461.5,-146.5 \"/>\n<text text-anchor=\"middle\" x=\"502.5\" y=\"-124.8\" font-family=\"Times,serif\" font-size=\"14.00\">grad 0.0000</text>\n</g>\n<!-- 137626648691760&#45;&gt;137626648691232+ -->\n<g id=\"edge7\" class=\"edge\">\n<title>137626648691760&#45;&gt;137626648691232+</title>\n<path fill=\"none\" stroke=\"black\" d=\"M543.84,-111.01C554.01,-109.34 563.76,-107.74 572.44,-106.32\"/>\n<polygon fill=\"black\" stroke=\"black\" points=\"573.17,-109.75 582.47,-104.68 572.04,-102.84 573.17,-109.75\"/>\n</g>\n<!-- 137626648691760* -->\n<g id=\"node7\" class=\"node\">\n<title>137626648691760*</title>\n<ellipse fill=\"none\" stroke=\"black\" cx=\"263\" cy=\"-128.5\" rx=\"27\" ry=\"18\"/>\n<text text-anchor=\"middle\" x=\"263\" y=\"-124.8\" font-family=\"Times,serif\" font-size=\"14.00\">*</text>\n</g>\n<!-- 137626648691760*&#45;&gt;137626648691760 -->\n<g id=\"edge3\" class=\"edge\">\n<title>137626648691760*&#45;&gt;137626648691760</title>\n<path fill=\"none\" stroke=\"black\" d=\"M290.34,-128.5C298.51,-128.5 308.08,-128.5 318.36,-128.5\"/>\n<polygon fill=\"black\" stroke=\"black\" points=\"318.39,-132 328.39,-128.5 318.39,-125 318.39,-132\"/>\n</g>\n<!-- 137626650076800 -->\n<g id=\"node8\" class=\"node\">\n<title>137626650076800</title>\n<polygon fill=\"none\" stroke=\"black\" points=\"4,-0.5 4,-36.5 196,-36.5 196,-0.5 4,-0.5\"/>\n<text text-anchor=\"middle\" x=\"19\" y=\"-14.8\" font-family=\"Times,serif\" font-size=\"14.00\">x1</text>\n<polyline fill=\"none\" stroke=\"black\" points=\"34,-0.5 34,-36.5 \"/>\n<text text-anchor=\"middle\" x=\"74\" y=\"-14.8\" font-family=\"Times,serif\" font-size=\"14.00\">data 2.0000</text>\n<polyline fill=\"none\" stroke=\"black\" points=\"114,-0.5 114,-36.5 \"/>\n<text text-anchor=\"middle\" x=\"155\" y=\"-14.8\" font-family=\"Times,serif\" font-size=\"14.00\">grad 0.0000</text>\n</g>\n<!-- 137626650076800&#45;&gt;137626648538528* -->\n<g id=\"edge11\" class=\"edge\">\n<title>137626650076800&#45;&gt;137626648538528*</title>\n<path fill=\"none\" stroke=\"black\" d=\"M172.53,-36.56C181.84,-39.33 191.2,-42.33 200,-45.5 210.53,-49.29 221.75,-54.1 231.72,-58.67\"/>\n<polygon fill=\"black\" stroke=\"black\" points=\"230.28,-61.86 240.82,-62.93 233.25,-55.52 230.28,-61.86\"/>\n</g>\n<!-- 137626650077376 -->\n<g id=\"node9\" class=\"node\">\n<title>137626650077376</title>\n<polygon fill=\"none\" stroke=\"black\" points=\"4,-165.5 4,-201.5 196,-201.5 196,-165.5 4,-165.5\"/>\n<text text-anchor=\"middle\" x=\"19\" y=\"-179.8\" font-family=\"Times,serif\" font-size=\"14.00\">x2</text>\n<polyline fill=\"none\" stroke=\"black\" points=\"34,-165.5 34,-201.5 \"/>\n<text text-anchor=\"middle\" x=\"74\" y=\"-179.8\" font-family=\"Times,serif\" font-size=\"14.00\">data 0.0000</text>\n<polyline fill=\"none\" stroke=\"black\" points=\"114,-165.5 114,-201.5 \"/>\n<text text-anchor=\"middle\" x=\"155\" y=\"-179.8\" font-family=\"Times,serif\" font-size=\"14.00\">grad 0.0000</text>\n</g>\n<!-- 137626650077376&#45;&gt;137626648691760* -->\n<g id=\"edge13\" class=\"edge\">\n<title>137626650077376&#45;&gt;137626648691760*</title>\n<path fill=\"none\" stroke=\"black\" d=\"M172.53,-165.44C181.84,-162.67 191.2,-159.67 200,-156.5 210.53,-152.71 221.75,-147.9 231.72,-143.33\"/>\n<polygon fill=\"black\" stroke=\"black\" points=\"233.25,-146.48 240.82,-139.07 230.28,-140.14 233.25,-146.48\"/>\n</g>\n<!-- 137626648697760 -->\n<g id=\"node10\" class=\"node\">\n<title>137626648697760</title>\n<polygon fill=\"none\" stroke=\"black\" points=\"1057,-54.5 1057,-90.5 1242,-90.5 1242,-54.5 1057,-54.5\"/>\n<text text-anchor=\"middle\" x=\"1068.5\" y=\"-68.8\" font-family=\"Times,serif\" font-size=\"14.00\">n</text>\n<polyline fill=\"none\" stroke=\"black\" points=\"1080,-54.5 1080,-90.5 \"/>\n<text text-anchor=\"middle\" x=\"1120\" y=\"-68.8\" font-family=\"Times,serif\" font-size=\"14.00\">data 0.8800</text>\n<polyline fill=\"none\" stroke=\"black\" points=\"1160,-54.5 1160,-90.5 \"/>\n<text text-anchor=\"middle\" x=\"1201\" y=\"-68.8\" font-family=\"Times,serif\" font-size=\"14.00\">grad 0.0000</text>\n</g>\n<!-- 137626648697760&#45;&gt;137626648697856tanh -->\n<g id=\"edge6\" class=\"edge\">\n<title>137626648697760&#45;&gt;137626648697856tanh</title>\n<path fill=\"none\" stroke=\"black\" d=\"M1242.01,-72.5C1251.01,-72.5 1259.74,-72.5 1267.66,-72.5\"/>\n<polygon fill=\"black\" stroke=\"black\" points=\"1267.91,-76 1277.91,-72.5 1267.91,-69 1267.91,-76\"/>\n</g>\n<!-- 137626648697760+&#45;&gt;137626648697760 -->\n<g id=\"edge4\" class=\"edge\">\n<title>137626648697760+&#45;&gt;137626648697760</title>\n<path fill=\"none\" stroke=\"black\" d=\"M1021.04,-72.5C1028.58,-72.5 1037.3,-72.5 1046.57,-72.5\"/>\n<polygon fill=\"black\" stroke=\"black\" points=\"1046.81,-76 1056.81,-72.5 1046.81,-69 1046.81,-76\"/>\n</g>\n<!-- 137626648536464 -->\n<g id=\"node12\" class=\"node\">\n<title>137626648536464</title>\n<polygon fill=\"none\" stroke=\"black\" points=\"2.5,-110.5 2.5,-146.5 197.5,-146.5 197.5,-110.5 2.5,-110.5\"/>\n<text text-anchor=\"middle\" x=\"19\" y=\"-124.8\" font-family=\"Times,serif\" font-size=\"14.00\">w2</text>\n<polyline fill=\"none\" stroke=\"black\" points=\"35.5,-110.5 35.5,-146.5 \"/>\n<text text-anchor=\"middle\" x=\"75.5\" y=\"-124.8\" font-family=\"Times,serif\" font-size=\"14.00\">data 1.0000</text>\n<polyline fill=\"none\" stroke=\"black\" points=\"115.5,-110.5 115.5,-146.5 \"/>\n<text text-anchor=\"middle\" x=\"156.5\" y=\"-124.8\" font-family=\"Times,serif\" font-size=\"14.00\">grad 0.0000</text>\n</g>\n<!-- 137626648536464&#45;&gt;137626648691760* -->\n<g id=\"edge8\" class=\"edge\">\n<title>137626648536464&#45;&gt;137626648691760*</title>\n<path fill=\"none\" stroke=\"black\" d=\"M197.91,-128.5C207.65,-128.5 217.05,-128.5 225.52,-128.5\"/>\n<polygon fill=\"black\" stroke=\"black\" points=\"225.7,-132 235.7,-128.5 225.7,-125 225.7,-132\"/>\n</g>\n<!-- 137626648538528 -->\n<g id=\"node13\" class=\"node\">\n<title>137626648538528</title>\n<polygon fill=\"none\" stroke=\"black\" points=\"326,-55.5 326,-91.5 546,-91.5 546,-55.5 326,-55.5\"/>\n<text text-anchor=\"middle\" x=\"352.5\" y=\"-69.8\" font-family=\"Times,serif\" font-size=\"14.00\">x1*w1</text>\n<polyline fill=\"none\" stroke=\"black\" points=\"379,-55.5 379,-91.5 \"/>\n<text text-anchor=\"middle\" x=\"421.5\" y=\"-69.8\" font-family=\"Times,serif\" font-size=\"14.00\">data &#45;6.0000</text>\n<polyline fill=\"none\" stroke=\"black\" points=\"464,-55.5 464,-91.5 \"/>\n<text text-anchor=\"middle\" x=\"505\" y=\"-69.8\" font-family=\"Times,serif\" font-size=\"14.00\">grad 0.0000</text>\n</g>\n<!-- 137626648538528&#45;&gt;137626648691232+ -->\n<g id=\"edge12\" class=\"edge\">\n<title>137626648538528&#45;&gt;137626648691232+</title>\n<path fill=\"none\" stroke=\"black\" d=\"M546.27,-90.75C555.64,-92.23 564.6,-93.65 572.65,-94.92\"/>\n<polygon fill=\"black\" stroke=\"black\" points=\"572.23,-98.4 582.65,-96.5 573.32,-91.48 572.23,-98.4\"/>\n</g>\n<!-- 137626648538528*&#45;&gt;137626648538528 -->\n<g id=\"edge5\" class=\"edge\">\n<title>137626648538528*&#45;&gt;137626648538528</title>\n<path fill=\"none\" stroke=\"black\" d=\"M290.34,-73.5C297.77,-73.5 306.37,-73.5 315.6,-73.5\"/>\n<polygon fill=\"black\" stroke=\"black\" points=\"315.84,-77 325.84,-73.5 315.84,-70 315.84,-77\"/>\n</g>\n<!-- 137626648531424 -->\n<g id=\"node15\" class=\"node\">\n<title>137626648531424</title>\n<polygon fill=\"none\" stroke=\"black\" points=\"709,-27.5 709,-63.5 894,-63.5 894,-27.5 709,-27.5\"/>\n<text text-anchor=\"middle\" x=\"720.5\" y=\"-41.8\" font-family=\"Times,serif\" font-size=\"14.00\">b</text>\n<polyline fill=\"none\" stroke=\"black\" points=\"732,-27.5 732,-63.5 \"/>\n<text text-anchor=\"middle\" x=\"772\" y=\"-41.8\" font-family=\"Times,serif\" font-size=\"14.00\">data 6.8800</text>\n<polyline fill=\"none\" stroke=\"black\" points=\"812,-27.5 812,-63.5 \"/>\n<text text-anchor=\"middle\" x=\"853\" y=\"-41.8\" font-family=\"Times,serif\" font-size=\"14.00\">grad 0.0000</text>\n</g>\n<!-- 137626648531424&#45;&gt;137626648697760+ -->\n<g id=\"edge14\" class=\"edge\">\n<title>137626648531424&#45;&gt;137626648697760+</title>\n<path fill=\"none\" stroke=\"black\" d=\"M894.12,-58.49C916.59,-61.67 939.33,-64.89 957.33,-67.44\"/>\n<polygon fill=\"black\" stroke=\"black\" points=\"956.95,-70.93 967.34,-68.86 957.93,-63.99 956.95,-70.93\"/>\n</g>\n</g>\n</svg>\n",
            "text/plain": [
              "<graphviz.graphs.Digraph at 0x7d2bb381cbe0>"
            ]
          },
          "metadata": {},
          "execution_count": 322
        }
      ]
    },
    {
      "cell_type": "code",
      "source": [
        "o.grad = 1.0"
      ],
      "metadata": {
        "id": "nCJ2xfOIzCZO"
      },
      "execution_count": 324,
      "outputs": []
    },
    {
      "cell_type": "code",
      "source": [
        "n.grad = 0.5"
      ],
      "metadata": {
        "id": "lTm2kabP3lki"
      },
      "execution_count": 325,
      "outputs": []
    },
    {
      "cell_type": "code",
      "source": [
        "b.grad = n.grad\n",
        "x1w1x2w2.grad = n.grad"
      ],
      "metadata": {
        "id": "jz1bWzxX3p__"
      },
      "execution_count": 326,
      "outputs": []
    },
    {
      "cell_type": "code",
      "source": [
        "x1w1.grad = x1w1x2w2.grad\n",
        "x2w2.grad = x1w1x2w2.grad"
      ],
      "metadata": {
        "id": "1kOkQ1tB34Bt"
      },
      "execution_count": 327,
      "outputs": []
    },
    {
      "cell_type": "code",
      "source": [
        "w1.grad = x1.data * x1w1.grad\n",
        "x1.grad = w1.data * x1w1.grad"
      ],
      "metadata": {
        "id": "1hKXYSQY3_qZ"
      },
      "execution_count": 328,
      "outputs": []
    },
    {
      "cell_type": "code",
      "source": [
        "x2.grad = w2.data * x2w2.grad\n",
        "w2.grad = x2.data * x2w2.grad"
      ],
      "metadata": {
        "id": "PGGxF8je4VyC"
      },
      "execution_count": 329,
      "outputs": []
    },
    {
      "cell_type": "code",
      "source": [
        "draw_dot(o)"
      ],
      "metadata": {
        "colab": {
          "base_uri": "https://localhost:8080/",
          "height": 321
        },
        "id": "0tKo4lRFzNOP",
        "outputId": "73201fbf-d995-4e99-dd59-5b9d260fc038"
      },
      "execution_count": 330,
      "outputs": [
        {
          "output_type": "execute_result",
          "data": {
            "image/svg+xml": "<?xml version=\"1.0\" encoding=\"UTF-8\" standalone=\"no\"?>\n<!DOCTYPE svg PUBLIC \"-//W3C//DTD SVG 1.1//EN\"\n \"http://www.w3.org/Graphics/SVG/1.1/DTD/svg11.dtd\">\n<!-- Generated by graphviz version 2.43.0 (0)\n -->\n<!-- Title: %3 Pages: 1 -->\n<svg width=\"1561pt\" height=\"210pt\"\n viewBox=\"0.00 0.00 1561.00 210.00\" xmlns=\"http://www.w3.org/2000/svg\" xmlns:xlink=\"http://www.w3.org/1999/xlink\">\n<g id=\"graph0\" class=\"graph\" transform=\"scale(1 1) rotate(0) translate(4 206)\">\n<title>%3</title>\n<polygon fill=\"white\" stroke=\"transparent\" points=\"-4,4 -4,-206 1557,-206 1557,4 -4,4\"/>\n<!-- 137626648697856 -->\n<g id=\"node1\" class=\"node\">\n<title>137626648697856</title>\n<polygon fill=\"none\" stroke=\"black\" points=\"1368,-54.5 1368,-90.5 1553,-90.5 1553,-54.5 1368,-54.5\"/>\n<text text-anchor=\"middle\" x=\"1379.5\" y=\"-68.8\" font-family=\"Times,serif\" font-size=\"14.00\">o</text>\n<polyline fill=\"none\" stroke=\"black\" points=\"1391,-54.5 1391,-90.5 \"/>\n<text text-anchor=\"middle\" x=\"1431\" y=\"-68.8\" font-family=\"Times,serif\" font-size=\"14.00\">data 0.7064</text>\n<polyline fill=\"none\" stroke=\"black\" points=\"1471,-54.5 1471,-90.5 \"/>\n<text text-anchor=\"middle\" x=\"1512\" y=\"-68.8\" font-family=\"Times,serif\" font-size=\"14.00\">grad 1.0000</text>\n</g>\n<!-- 137626648697856tanh -->\n<g id=\"node2\" class=\"node\">\n<title>137626648697856tanh</title>\n<ellipse fill=\"none\" stroke=\"black\" cx=\"1305\" cy=\"-72.5\" rx=\"27\" ry=\"18\"/>\n<text text-anchor=\"middle\" x=\"1305\" y=\"-68.8\" font-family=\"Times,serif\" font-size=\"14.00\">tanh</text>\n</g>\n<!-- 137626648697856tanh&#45;&gt;137626648697856 -->\n<g id=\"edge1\" class=\"edge\">\n<title>137626648697856tanh&#45;&gt;137626648697856</title>\n<path fill=\"none\" stroke=\"black\" d=\"M1332.04,-72.5C1339.58,-72.5 1348.3,-72.5 1357.57,-72.5\"/>\n<polygon fill=\"black\" stroke=\"black\" points=\"1357.81,-76 1367.81,-72.5 1357.81,-69 1357.81,-76\"/>\n</g>\n<!-- 137626648691232 -->\n<g id=\"node3\" class=\"node\">\n<title>137626648691232</title>\n<polygon fill=\"none\" stroke=\"black\" points=\"672,-82.5 672,-118.5 931,-118.5 931,-82.5 672,-82.5\"/>\n<text text-anchor=\"middle\" x=\"718\" y=\"-96.8\" font-family=\"Times,serif\" font-size=\"14.00\">x1w1 + x2w2</text>\n<polyline fill=\"none\" stroke=\"black\" points=\"764,-82.5 764,-118.5 \"/>\n<text text-anchor=\"middle\" x=\"806.5\" y=\"-96.8\" font-family=\"Times,serif\" font-size=\"14.00\">data &#45;6.0000</text>\n<polyline fill=\"none\" stroke=\"black\" points=\"849,-82.5 849,-118.5 \"/>\n<text text-anchor=\"middle\" x=\"890\" y=\"-96.8\" font-family=\"Times,serif\" font-size=\"14.00\">grad 0.5000</text>\n</g>\n<!-- 137626648697760+ -->\n<g id=\"node11\" class=\"node\">\n<title>137626648697760+</title>\n<ellipse fill=\"none\" stroke=\"black\" cx=\"994\" cy=\"-72.5\" rx=\"27\" ry=\"18\"/>\n<text text-anchor=\"middle\" x=\"994\" y=\"-68.8\" font-family=\"Times,serif\" font-size=\"14.00\">+</text>\n</g>\n<!-- 137626648691232&#45;&gt;137626648697760+ -->\n<g id=\"edge9\" class=\"edge\">\n<title>137626648691232&#45;&gt;137626648697760+</title>\n<path fill=\"none\" stroke=\"black\" d=\"M925.03,-82.49C936.7,-80.77 947.77,-79.15 957.46,-77.72\"/>\n<polygon fill=\"black\" stroke=\"black\" points=\"958.01,-81.18 967.4,-76.26 957,-74.25 958.01,-81.18\"/>\n</g>\n<!-- 137626648691232+ -->\n<g id=\"node4\" class=\"node\">\n<title>137626648691232+</title>\n<ellipse fill=\"none\" stroke=\"black\" cx=\"609\" cy=\"-100.5\" rx=\"27\" ry=\"18\"/>\n<text text-anchor=\"middle\" x=\"609\" y=\"-96.8\" font-family=\"Times,serif\" font-size=\"14.00\">+</text>\n</g>\n<!-- 137626648691232+&#45;&gt;137626648691232 -->\n<g id=\"edge2\" class=\"edge\">\n<title>137626648691232+&#45;&gt;137626648691232</title>\n<path fill=\"none\" stroke=\"black\" d=\"M636.09,-100.5C643.58,-100.5 652.3,-100.5 661.75,-100.5\"/>\n<polygon fill=\"black\" stroke=\"black\" points=\"661.84,-104 671.84,-100.5 661.84,-97 661.84,-104\"/>\n</g>\n<!-- 137626650074160 -->\n<g id=\"node5\" class=\"node\">\n<title>137626650074160</title>\n<polygon fill=\"none\" stroke=\"black\" points=\"0,-55.5 0,-91.5 200,-91.5 200,-55.5 0,-55.5\"/>\n<text text-anchor=\"middle\" x=\"16.5\" y=\"-69.8\" font-family=\"Times,serif\" font-size=\"14.00\">w1</text>\n<polyline fill=\"none\" stroke=\"black\" points=\"33,-55.5 33,-91.5 \"/>\n<text text-anchor=\"middle\" x=\"75.5\" y=\"-69.8\" font-family=\"Times,serif\" font-size=\"14.00\">data &#45;3.0000</text>\n<polyline fill=\"none\" stroke=\"black\" points=\"118,-55.5 118,-91.5 \"/>\n<text text-anchor=\"middle\" x=\"159\" y=\"-69.8\" font-family=\"Times,serif\" font-size=\"14.00\">grad 1.0000</text>\n</g>\n<!-- 137626648538528* -->\n<g id=\"node14\" class=\"node\">\n<title>137626648538528*</title>\n<ellipse fill=\"none\" stroke=\"black\" cx=\"263\" cy=\"-73.5\" rx=\"27\" ry=\"18\"/>\n<text text-anchor=\"middle\" x=\"263\" y=\"-69.8\" font-family=\"Times,serif\" font-size=\"14.00\">*</text>\n</g>\n<!-- 137626650074160&#45;&gt;137626648538528* -->\n<g id=\"edge10\" class=\"edge\">\n<title>137626650074160&#45;&gt;137626648538528*</title>\n<path fill=\"none\" stroke=\"black\" d=\"M200.21,-73.5C209.2,-73.5 217.86,-73.5 225.7,-73.5\"/>\n<polygon fill=\"black\" stroke=\"black\" points=\"225.85,-77 235.85,-73.5 225.85,-70 225.85,-77\"/>\n</g>\n<!-- 137626648691760 -->\n<g id=\"node6\" class=\"node\">\n<title>137626648691760</title>\n<polygon fill=\"none\" stroke=\"black\" points=\"328.5,-110.5 328.5,-146.5 543.5,-146.5 543.5,-110.5 328.5,-110.5\"/>\n<text text-anchor=\"middle\" x=\"355\" y=\"-124.8\" font-family=\"Times,serif\" font-size=\"14.00\">x2*w2</text>\n<polyline fill=\"none\" stroke=\"black\" points=\"381.5,-110.5 381.5,-146.5 \"/>\n<text text-anchor=\"middle\" x=\"421.5\" y=\"-124.8\" font-family=\"Times,serif\" font-size=\"14.00\">data 0.0000</text>\n<polyline fill=\"none\" stroke=\"black\" points=\"461.5,-110.5 461.5,-146.5 \"/>\n<text text-anchor=\"middle\" x=\"502.5\" y=\"-124.8\" font-family=\"Times,serif\" font-size=\"14.00\">grad 0.5000</text>\n</g>\n<!-- 137626648691760&#45;&gt;137626648691232+ -->\n<g id=\"edge7\" class=\"edge\">\n<title>137626648691760&#45;&gt;137626648691232+</title>\n<path fill=\"none\" stroke=\"black\" d=\"M543.84,-111.01C554.01,-109.34 563.76,-107.74 572.44,-106.32\"/>\n<polygon fill=\"black\" stroke=\"black\" points=\"573.17,-109.75 582.47,-104.68 572.04,-102.84 573.17,-109.75\"/>\n</g>\n<!-- 137626648691760* -->\n<g id=\"node7\" class=\"node\">\n<title>137626648691760*</title>\n<ellipse fill=\"none\" stroke=\"black\" cx=\"263\" cy=\"-128.5\" rx=\"27\" ry=\"18\"/>\n<text text-anchor=\"middle\" x=\"263\" y=\"-124.8\" font-family=\"Times,serif\" font-size=\"14.00\">*</text>\n</g>\n<!-- 137626648691760*&#45;&gt;137626648691760 -->\n<g id=\"edge3\" class=\"edge\">\n<title>137626648691760*&#45;&gt;137626648691760</title>\n<path fill=\"none\" stroke=\"black\" d=\"M290.34,-128.5C298.51,-128.5 308.08,-128.5 318.36,-128.5\"/>\n<polygon fill=\"black\" stroke=\"black\" points=\"318.39,-132 328.39,-128.5 318.39,-125 318.39,-132\"/>\n</g>\n<!-- 137626650076800 -->\n<g id=\"node8\" class=\"node\">\n<title>137626650076800</title>\n<polygon fill=\"none\" stroke=\"black\" points=\"2,-0.5 2,-36.5 198,-36.5 198,-0.5 2,-0.5\"/>\n<text text-anchor=\"middle\" x=\"17\" y=\"-14.8\" font-family=\"Times,serif\" font-size=\"14.00\">x1</text>\n<polyline fill=\"none\" stroke=\"black\" points=\"32,-0.5 32,-36.5 \"/>\n<text text-anchor=\"middle\" x=\"72\" y=\"-14.8\" font-family=\"Times,serif\" font-size=\"14.00\">data 2.0000</text>\n<polyline fill=\"none\" stroke=\"black\" points=\"112,-0.5 112,-36.5 \"/>\n<text text-anchor=\"middle\" x=\"155\" y=\"-14.8\" font-family=\"Times,serif\" font-size=\"14.00\">grad &#45;1.5000</text>\n</g>\n<!-- 137626650076800&#45;&gt;137626648538528* -->\n<g id=\"edge11\" class=\"edge\">\n<title>137626650076800&#45;&gt;137626648538528*</title>\n<path fill=\"none\" stroke=\"black\" d=\"M172.53,-36.56C181.84,-39.33 191.2,-42.33 200,-45.5 210.53,-49.29 221.75,-54.1 231.72,-58.67\"/>\n<polygon fill=\"black\" stroke=\"black\" points=\"230.28,-61.86 240.82,-62.93 233.25,-55.52 230.28,-61.86\"/>\n</g>\n<!-- 137626650077376 -->\n<g id=\"node9\" class=\"node\">\n<title>137626650077376</title>\n<polygon fill=\"none\" stroke=\"black\" points=\"4,-165.5 4,-201.5 196,-201.5 196,-165.5 4,-165.5\"/>\n<text text-anchor=\"middle\" x=\"19\" y=\"-179.8\" font-family=\"Times,serif\" font-size=\"14.00\">x2</text>\n<polyline fill=\"none\" stroke=\"black\" points=\"34,-165.5 34,-201.5 \"/>\n<text text-anchor=\"middle\" x=\"74\" y=\"-179.8\" font-family=\"Times,serif\" font-size=\"14.00\">data 0.0000</text>\n<polyline fill=\"none\" stroke=\"black\" points=\"114,-165.5 114,-201.5 \"/>\n<text text-anchor=\"middle\" x=\"155\" y=\"-179.8\" font-family=\"Times,serif\" font-size=\"14.00\">grad 0.5000</text>\n</g>\n<!-- 137626650077376&#45;&gt;137626648691760* -->\n<g id=\"edge13\" class=\"edge\">\n<title>137626650077376&#45;&gt;137626648691760*</title>\n<path fill=\"none\" stroke=\"black\" d=\"M172.53,-165.44C181.84,-162.67 191.2,-159.67 200,-156.5 210.53,-152.71 221.75,-147.9 231.72,-143.33\"/>\n<polygon fill=\"black\" stroke=\"black\" points=\"233.25,-146.48 240.82,-139.07 230.28,-140.14 233.25,-146.48\"/>\n</g>\n<!-- 137626648697760 -->\n<g id=\"node10\" class=\"node\">\n<title>137626648697760</title>\n<polygon fill=\"none\" stroke=\"black\" points=\"1057,-54.5 1057,-90.5 1242,-90.5 1242,-54.5 1057,-54.5\"/>\n<text text-anchor=\"middle\" x=\"1068.5\" y=\"-68.8\" font-family=\"Times,serif\" font-size=\"14.00\">n</text>\n<polyline fill=\"none\" stroke=\"black\" points=\"1080,-54.5 1080,-90.5 \"/>\n<text text-anchor=\"middle\" x=\"1120\" y=\"-68.8\" font-family=\"Times,serif\" font-size=\"14.00\">data 0.8800</text>\n<polyline fill=\"none\" stroke=\"black\" points=\"1160,-54.5 1160,-90.5 \"/>\n<text text-anchor=\"middle\" x=\"1201\" y=\"-68.8\" font-family=\"Times,serif\" font-size=\"14.00\">grad 0.5000</text>\n</g>\n<!-- 137626648697760&#45;&gt;137626648697856tanh -->\n<g id=\"edge6\" class=\"edge\">\n<title>137626648697760&#45;&gt;137626648697856tanh</title>\n<path fill=\"none\" stroke=\"black\" d=\"M1242.01,-72.5C1251.01,-72.5 1259.74,-72.5 1267.66,-72.5\"/>\n<polygon fill=\"black\" stroke=\"black\" points=\"1267.91,-76 1277.91,-72.5 1267.91,-69 1267.91,-76\"/>\n</g>\n<!-- 137626648697760+&#45;&gt;137626648697760 -->\n<g id=\"edge4\" class=\"edge\">\n<title>137626648697760+&#45;&gt;137626648697760</title>\n<path fill=\"none\" stroke=\"black\" d=\"M1021.04,-72.5C1028.58,-72.5 1037.3,-72.5 1046.57,-72.5\"/>\n<polygon fill=\"black\" stroke=\"black\" points=\"1046.81,-76 1056.81,-72.5 1046.81,-69 1046.81,-76\"/>\n</g>\n<!-- 137626648536464 -->\n<g id=\"node12\" class=\"node\">\n<title>137626648536464</title>\n<polygon fill=\"none\" stroke=\"black\" points=\"2.5,-110.5 2.5,-146.5 197.5,-146.5 197.5,-110.5 2.5,-110.5\"/>\n<text text-anchor=\"middle\" x=\"19\" y=\"-124.8\" font-family=\"Times,serif\" font-size=\"14.00\">w2</text>\n<polyline fill=\"none\" stroke=\"black\" points=\"35.5,-110.5 35.5,-146.5 \"/>\n<text text-anchor=\"middle\" x=\"75.5\" y=\"-124.8\" font-family=\"Times,serif\" font-size=\"14.00\">data 1.0000</text>\n<polyline fill=\"none\" stroke=\"black\" points=\"115.5,-110.5 115.5,-146.5 \"/>\n<text text-anchor=\"middle\" x=\"156.5\" y=\"-124.8\" font-family=\"Times,serif\" font-size=\"14.00\">grad 0.0000</text>\n</g>\n<!-- 137626648536464&#45;&gt;137626648691760* -->\n<g id=\"edge8\" class=\"edge\">\n<title>137626648536464&#45;&gt;137626648691760*</title>\n<path fill=\"none\" stroke=\"black\" d=\"M197.91,-128.5C207.65,-128.5 217.05,-128.5 225.52,-128.5\"/>\n<polygon fill=\"black\" stroke=\"black\" points=\"225.7,-132 235.7,-128.5 225.7,-125 225.7,-132\"/>\n</g>\n<!-- 137626648538528 -->\n<g id=\"node13\" class=\"node\">\n<title>137626648538528</title>\n<polygon fill=\"none\" stroke=\"black\" points=\"326,-55.5 326,-91.5 546,-91.5 546,-55.5 326,-55.5\"/>\n<text text-anchor=\"middle\" x=\"352.5\" y=\"-69.8\" font-family=\"Times,serif\" font-size=\"14.00\">x1*w1</text>\n<polyline fill=\"none\" stroke=\"black\" points=\"379,-55.5 379,-91.5 \"/>\n<text text-anchor=\"middle\" x=\"421.5\" y=\"-69.8\" font-family=\"Times,serif\" font-size=\"14.00\">data &#45;6.0000</text>\n<polyline fill=\"none\" stroke=\"black\" points=\"464,-55.5 464,-91.5 \"/>\n<text text-anchor=\"middle\" x=\"505\" y=\"-69.8\" font-family=\"Times,serif\" font-size=\"14.00\">grad 0.5000</text>\n</g>\n<!-- 137626648538528&#45;&gt;137626648691232+ -->\n<g id=\"edge12\" class=\"edge\">\n<title>137626648538528&#45;&gt;137626648691232+</title>\n<path fill=\"none\" stroke=\"black\" d=\"M546.27,-90.75C555.64,-92.23 564.6,-93.65 572.65,-94.92\"/>\n<polygon fill=\"black\" stroke=\"black\" points=\"572.23,-98.4 582.65,-96.5 573.32,-91.48 572.23,-98.4\"/>\n</g>\n<!-- 137626648538528*&#45;&gt;137626648538528 -->\n<g id=\"edge5\" class=\"edge\">\n<title>137626648538528*&#45;&gt;137626648538528</title>\n<path fill=\"none\" stroke=\"black\" d=\"M290.34,-73.5C297.77,-73.5 306.37,-73.5 315.6,-73.5\"/>\n<polygon fill=\"black\" stroke=\"black\" points=\"315.84,-77 325.84,-73.5 315.84,-70 315.84,-77\"/>\n</g>\n<!-- 137626648531424 -->\n<g id=\"node15\" class=\"node\">\n<title>137626648531424</title>\n<polygon fill=\"none\" stroke=\"black\" points=\"709,-27.5 709,-63.5 894,-63.5 894,-27.5 709,-27.5\"/>\n<text text-anchor=\"middle\" x=\"720.5\" y=\"-41.8\" font-family=\"Times,serif\" font-size=\"14.00\">b</text>\n<polyline fill=\"none\" stroke=\"black\" points=\"732,-27.5 732,-63.5 \"/>\n<text text-anchor=\"middle\" x=\"772\" y=\"-41.8\" font-family=\"Times,serif\" font-size=\"14.00\">data 6.8800</text>\n<polyline fill=\"none\" stroke=\"black\" points=\"812,-27.5 812,-63.5 \"/>\n<text text-anchor=\"middle\" x=\"853\" y=\"-41.8\" font-family=\"Times,serif\" font-size=\"14.00\">grad 0.5000</text>\n</g>\n<!-- 137626648531424&#45;&gt;137626648697760+ -->\n<g id=\"edge14\" class=\"edge\">\n<title>137626648531424&#45;&gt;137626648697760+</title>\n<path fill=\"none\" stroke=\"black\" d=\"M894.12,-58.49C916.59,-61.67 939.33,-64.89 957.33,-67.44\"/>\n<polygon fill=\"black\" stroke=\"black\" points=\"956.95,-70.93 967.34,-68.86 957.93,-63.99 956.95,-70.93\"/>\n</g>\n</g>\n</svg>\n",
            "text/plain": [
              "<graphviz.graphs.Digraph at 0x7d2bb381df30>"
            ]
          },
          "metadata": {},
          "execution_count": 330
        }
      ]
    },
    {
      "cell_type": "code",
      "source": [
        "# o = tanh(n)\n",
        "# do/dn = 1 - tanh(n) ^ 2 = 1 - o**2\n",
        "1 - o.data ** 2"
      ],
      "metadata": {
        "colab": {
          "base_uri": "https://localhost:8080/"
        },
        "id": "w9awqUdKzSKy",
        "outputId": "f3f09907-9dfc-49aa-f6f9-7b73f8d659e0"
      },
      "execution_count": 334,
      "outputs": [
        {
          "output_type": "execute_result",
          "data": {
            "text/plain": [
              "0.5009717437695084"
            ]
          },
          "metadata": {},
          "execution_count": 334
        }
      ]
    },
    {
      "cell_type": "code",
      "source": [],
      "metadata": {
        "id": "lP-CSIHPz9tl"
      },
      "execution_count": 346,
      "outputs": []
    },
    {
      "cell_type": "code",
      "source": [],
      "metadata": {
        "id": "T5q4Bvyj8Z7w"
      },
      "execution_count": null,
      "outputs": []
    }
  ],
  "metadata": {
    "colab": {
      "provenance": []
    },
    "kernelspec": {
      "display_name": "Python 3",
      "name": "python3"
    },
    "language_info": {
      "name": "python"
    }
  },
  "nbformat": 4,
  "nbformat_minor": 0
}